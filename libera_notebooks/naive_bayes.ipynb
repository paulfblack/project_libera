{
 "cells": [
  {
   "cell_type": "markdown",
   "metadata": {},
   "source": [
    "# First Pass Naive Bayes Model on Text Data"
   ]
  },
  {
   "cell_type": "code",
   "execution_count": 2,
   "metadata": {
    "collapsed": false
   },
   "outputs": [],
   "source": [
    "from pymongo import MongoClient\n",
    "import pymongo\n",
    "import os\n",
    "import pandas as pd\n",
    "import pickle\n",
    "import numpy as np\n",
    "import re\n",
    "from urllib.parse import urlparse\n",
    "\n",
    "%matplotlib inline\n",
    "import matplotlib.pyplot as plt\n",
    "from sklearn import naive_bayes\n",
    "from sklearn.pipeline import Pipeline"
   ]
  },
  {
   "cell_type": "code",
   "execution_count": 4,
   "metadata": {
    "collapsed": false
   },
   "outputs": [],
   "source": [
    "# password = os.environ['password']\n",
    "# libera_url = \"54.89.159.106\"\n",
    "\n",
    "# client = pymongo.MongoClient(\"mongodb://paul:\" + password + \"@\" + libera_url + \"/libera_db\")\n",
    "\n",
    "# db = client.libera_db\n",
    "\n",
    "# col = db.scraped_blogs\n",
    "\n",
    "# cursor = col.find({},{'_id':1,'text':1,'url':1,'quality':1})\n",
    "\n",
    "# df = pd.DataFrame(list(cursor))\n",
    "\n",
    "# pickle.dump( df, open( \"mongodb_data.p\", \"wb\" ) )"
   ]
  },
  {
   "cell_type": "code",
   "execution_count": 135,
   "metadata": {
    "collapsed": false
   },
   "outputs": [],
   "source": [
    "x = df.query('url == \"https://chennaifocus.in/\"')"
   ]
  },
  {
   "cell_type": "code",
   "execution_count": 136,
   "metadata": {
    "collapsed": false
   },
   "outputs": [
    {
     "data": {
      "text/html": [
       "<div>\n",
       "<table border=\"1\" class=\"dataframe\">\n",
       "  <thead>\n",
       "    <tr style=\"text-align: right;\">\n",
       "      <th></th>\n",
       "      <th>_id</th>\n",
       "      <th>quality</th>\n",
       "      <th>text</th>\n",
       "      <th>url</th>\n",
       "      <th>predicted</th>\n",
       "    </tr>\n",
       "  </thead>\n",
       "  <tbody>\n",
       "    <tr>\n",
       "      <th>1364</th>\n",
       "      <td>593f4834f7e49c1f7a2904c1</td>\n",
       "      <td>False</td>\n",
       "      <td>b'b\"Skip to navigation Skip to main content Sk...</td>\n",
       "      <td>https://chennaifocus.in/</td>\n",
       "      <td>True</td>\n",
       "    </tr>\n",
       "  </tbody>\n",
       "</table>\n",
       "</div>"
      ],
      "text/plain": [
       "                           _id quality  \\\n",
       "1364  593f4834f7e49c1f7a2904c1   False   \n",
       "\n",
       "                                                   text  \\\n",
       "1364  b'b\"Skip to navigation Skip to main content Sk...   \n",
       "\n",
       "                           url predicted  \n",
       "1364  https://chennaifocus.in/      True  "
      ]
     },
     "execution_count": 136,
     "metadata": {},
     "output_type": "execute_result"
    }
   ],
   "source": [
    "x"
   ]
  },
  {
   "cell_type": "code",
   "execution_count": 143,
   "metadata": {
    "collapsed": false
   },
   "outputs": [
    {
     "data": {
      "text/plain": [
       "'b\\'b\"Skip to navigation Skip to main content Skip to primary sidebar Skip to secondary sidebar Skip to footer Chennai Focus     Information About Chennai Zoom in on Chennai Home ChennaiFocus     We Are Because You Are    Blog Disclosure Statement Contact Us Love Chennai Focus Pitch Video YouTube Twitter Facebook RSS Feed Welcome to Era of Easy Communication and Misleading  Information Jun  Posted by Katie Nathan The title says it all, we are living in an exalted era of communication and being fed with information sometimes authentic but many unverified and unproven. To add to this, we have the power to pass it on and it goes undeterred and unquestioned to gullible people who never question the authenticity of the information given to them. The reach is even more when it touches the life of a common man. One such case doing the rounds is    cPlastic Rice   d. We also got a video in WhatsApp about Chinese plastic rice entering the market and how it is manufactured. Smartly, there was no audio to it. We could see raw material (glue) kind made into plastic sheets and then being shaped like rice and collected in bags. My first thought process was shock but then a bit prudence set in as I remembered the process of making thermocol where sago like bubbles are manufactured and made into blocks. It may be the    cplastic rice   d is a raw material for some industrial product. Where is the proof that it is being sold as rice? Sadly, Basmati rice, nature   s gift to India with its aroma and flavor has come under question putting so many farmer lives and produce under threat. Being an ardent Basmati rice fan, I set about checking various trustworthy news about it. Read the rest of this entry     Share this: Tumblr Twitter Facebook LinkedIn Google Pinterest Reddit Pocket More Email Print Like this: Like  Posted in Editors Corner , Food Leave a comment Tags: awareness , food , India , plastic rice , Rice , viral videos Review of House of Cards Season   Jun  Posted by Katie Nathan House of Cards show focuses on the life of the Underwood, Frank and Claire as they foray into politics. From being a senator from North Carolina to getting promoted to Vice President and there to President. Frank, an unconventional man uses his unorthodox ways to get the better of them and steps his way up and kills any man or woman who gets in the way of his uprising. This show elucidates and gives the viewers an insight to American Politics from the perspective of a very strong man, Frank. This show does focus on other people such as Claire, Frank   s wife on how she helps her husband rise to power.    cThe power couple   d is what they are known to be as  they use politics and business hand in hand to rise in power, to prove power is worthier than money in this world. Frank Underwood is coming to India with the television premiere of House of Cards Season  on Saturday,  June,  PM onwards, only on Zee Caf   ! This season starts on a strong note with Frank becoming President but we should wait and see if the power in the show is retained, specifically the anti-climax plot that creates the much needed excitement. This season will hopefully be better than last season as Season  became a bit dull after Frank becomes President. However, since this series starts off with Frank being his own self, it sends a strong note  and the fans have even more to rejoice that Frank Underwood continues to rise to penultimate power and authority and does what he does best even though he is the most powerful man in the free world. This first episode posts a satirical note on the Government and how it can get awry and complicated and if justice is done, there will be a positive note left by the people to the President and support is just a matter of belief. This episode gives a ravaging lift off to Season  as all fans know, Frank Underwood cannot be changed and everyone should know it (according to Frank). The first episode brings up a positive note to fans and gives a shining example of how Mr. Underwood retains his glamour in a more older style. If you could not care more for political drama in this world, this episode fits right in.           Spoilers Ahead           Read the rest of this entry     Share this: Tumblr Twitter Facebook LinkedIn Google Pinterest Reddit Pocket More Email Print Like this: Like  Posted in Entertainment Leave a comment Tags: #HOConZCafe , House of Cards , review , Season  , Television Serial , ZCafe , ZEE cafe Mango Madness at The Forum Vijaya  Mall May  Posted by Katie Nathan Summer time, the king of fruits makes its grand entry in many forms. Needless to say about the varieties of mangoes we are familiar with, dishes that celebrate mangoes find a place in the menu of every restaurant in the city during this  With the advent of the concept of food courts, people of varied taste find it easy to get together to taste the food of their choice under one shelter. Forum Vijaya Mall boasts of multi cuisine food joints in the food court and many of them have curated special items to bring the best of the seasonal  We were invited for a tasting session at the Forum Mall Food Court to taste the #MangoMadness currently on which extends till June  We had the pleasure of tasting vegetarian dishes and it was interesting to see the array of innovative dishes from the participating outlets such as Kailash Parbat, Amaravathi, Kobe sizzlers,   Dashing Dhaba, Quiznows    Read the rest of this entry     Share this: Tumblr Twitter Facebook LinkedIn Google Pinterest Reddit Pocket More Email Print Like this: Like  Posted in Food , Restaurants Leave a comment Tags: chennai , food , food court , foodie , forum mall , Mango , Mango based dishes , Summer special , vegetarian , vijaya forum mall Copper Chimney   s The Great Indian Kabab Festival     Dig into Authentic Traditional  Food Mar  Posted by Katie Nathan Authentic! Traditional! That  touch! Old street taste, inviting aroma     Few phrases we use to locate that specific food that will take us back to those golden days when each dish with that one common main ingredient tasted so different and unique. Those days, the chef signature was imbibed in everything and whatever we try at home, we will go back to him for that specific  These days, most of the times when we eat out, we end up feeling better making the dish at home and let me tell you, at times it is much better. Take for example, tomato soups at restaurants taste almost like Maggi soups we make at home. Where is that signature that makes us drool and walk in to the restaurant for that experience? We happily had one such experience with Copper Chimney at  The Great Indian Kabab Festival happening now  till April  th  Read the rest of this entry     Share this: Tumblr Twitter Facebook LinkedIn Google Pinterest Reddit Pocket More Email Print Like this: Like  Posted in Food , Restaurants Leave a comment Tags: chennai , copper chimney , food , food blogger , food festival , kabab , restaurant review , traditional food , vegetarian Travel Diary      Travel to Madhya Pradesh Jyotir Lingams      Ujjain Mar  Posted by Katie Nathan We had a long pending visit to Ujjain and Omkareshwar and since young when I studied history, Ujjain has always enamored  So finally, we decided to make it and our travel began with train tickets to Bhopal and travel in car from there on a round trip to Ujjain and Omkareshwar. One hard lesson we learnt is never trust cab services of Ola or Uber on a weekend. It took  minutes for us to get a vehicle to Madras Central and thankfully for clear roads and green signals, we would not have made it to our train on time. We have been hearing so much about better services in long distance trains and to utter disappointment, Tamilnadu Express food remained the same as we have seen few years back. The only solace was cleaner toilets. We reached Bhopal at  PM the next day and stayed overnight at our friend   s place who won us over with their hospitality.   Our friend suggested that we visit Kharjana Ganesh Temple in Indore on the way to Ujjain. The temple is maintained by volunteers and is a very famous temple in the area. Read the rest of this entry     Share this: Tumblr Twitter Facebook LinkedIn Google Pinterest Reddit Pocket More Email Print Like this: Like  Posted in Stay , Travel  Comments Tags: India , Jyotirlinga , Mahakaleshwar , Shaktipeet , Spiritual Journey , travel , Ujjain , Visit Ujjain Following Tea Trails in Chennai     Let us Eat and Drink  Tea Mar  Posted by Katie Nathan Chennai known more for its affinity to Coffee or kaapi is now getting its share of tea tasting experience with exclusive outlets for getting that Tea experience. Tea is no more limited to the hot beverage you get in roadside shops with a huge bag like filter and served in glasses. Tea Trails located in Ashok Nagar near the police station serves  different types of tea categorized as black, white, green, Oolong and herbal teas. Known as Chai, it is served without milk and there are  types of tea with milk. The most interesting part of having the tea is the setup placed on the table along with instructions on brewing the specific  The tea we had was Kashmiri Kahwa. Expecting a glass of dark brown tea (we had without milk), we were surprised to see an apparatus placed on the table with an instruction card specifying  to  minutes to brew the tea. So we waited for  minutes and pressed the button and lo!, we had  ml of   filtered brewed tea.   We were told we can brew the tea  times with the same ingredients making for  cups of tea when you buy one. Certainly an interesting concept and we were surprised at the cup of aromatic yellow tea. It is not over yet; we were served with Almond bits which we were told is sprinkled as an add on to the Kashmiri Kahwa tea. Read the rest of this entry     Share this: Tumblr Twitter Facebook LinkedIn Google Pinterest Reddit Pocket More Email Print Like this: Like  Posted in Editors Corner , Food , Restaurants  Comments Tags: Ashok Nagar , chennai , Eggless Cake , Hangout , healthy , Matcha , Salad , snacks , tea , Tea Cafe , Tea Lovers , Tea Trails , Vada Pav , West Mambalam  Moments Epilators make it Super  Fun Feb  Posted by Katie Nathan Hair problems do not end with crowning glory and extends beyond. Hair is wanted and unwanted and it all depends on its location. Imagine a quick call from a friend in the last minute to have fun; it can be an invite from friends, a fun party, and a smoothie with your crush. The first thing that comes to a mind is the time we went for our last shave and the possibility of  All the enthusiasm wanes away and the invitations are no more inviting. Epilators have come a long way and the leader is Braun epilators, researching and specializing on getting silky smooth skin at a moment   s notice! Read the rest of this entry     Share this: Tumblr Twitter Facebook LinkedIn Google Pinterest Reddit Pocket More Email Print Like this: Like  Posted in Beauty , lifestyle Leave a comment Tags: beauty , Braun , Bridal , chennai , epilators , hair removal , makeup , No shaving , No waxing From Apartments to Villas     Convenience takes  Precedence Jan  Posted by Katie Nathan Casa Grande Pavilion-Phase II Villa Picture Courtesy: Casa Grande This post is about my dream home, a subject that keeps changing its color and style with every passing year. Obviously as new avenues come up, the concept of my dream home takes on a new hue and my plan gets on to works again. So for sure this subject is a living document till I get to the one that meets my requirement with a futuristic vision. It will be quite interesting to know how my concept has changed over the years and what is it that has taken priority today. Having lived in apartments, my interest is now with villas with all the features an apartment would offer. My option for villas is my love for greenery around. Time is such a costly commodity and so maintaining a green cover around has been a challenge. So the project that I would go for should provide  or  bedroom villas with landscaped garden. I would love to pitch in with maintenance now and then for those hands-on times with children. Read the rest of this entry     Share this: Tumblr Twitter Facebook LinkedIn Google Pinterest Reddit Pocket More Email Print Like this: Like  Posted in home  Comments Tags: apartments buying , buy villas , casa grande , chennai , houses for sale , own home Godrej Aer Car Fresheners in Six Design  Fragrances Jan  Posted by Katie Nathan Cars are no more a luxury in India  The challenge in maintaining a car lies in regular service and interiors. After all, we spend a lot of time travelling in a closed air conditioned  And if you are the kind of person with motion sickness, the smell of diesel can be quite a challenge to manage. To add to it, we have leather seats and what  Just getting into an ill maintained car is enough to spoil the day for us. With the cabs service picking up big away in Chennai, maintenance has become one of the key factors to get those star ratings from the customers. Car perfumes have a great role to play in keeping the vehicle drive worthy. Though many car fresheners have come into the market, many simply adopt the room freshener style which lasts for an hour and we are back to square one. What we need is a car freshener that keeps the fragrance constant. Read the rest of this entry     Share this: Tumblr Twitter Facebook LinkedIn Google Pinterest Reddit Pocket More Email Print Like this: Like  Posted in Editors Corner , lifestyle Leave a comment Tags: buy car fresheners online , car fresheners , godrej aer Flower Drum brings Vegetarian Chinese Thai Food to  Adyar Jan  Posted by Katie Nathan Flower drum has been in our hit list for quite some time for its Vegetarian Chinese Thai  Located in Egmore, it was just not forthcoming rather getting distracted to other restaurants once we hit heart of Chennai. Flower Drum opened their other restaurant at Namma Adyar near Aavin circle (above ICICI  We are thankful to Flower Drum and the Chennai food bloggers community to have made it possible to have a firsthand tasting session at this new establishment. First thing we noticed is the ambiance. Few tables were arranged to have a circular seating accommodating  people and more. This has always been an issue when we go as a family for get-togethers. The menu was exhaustive with good varieties highlighting Paneer, Corn, baby corn and  For Tofu lovers, we had few items for you too. Now to the food we had     Read the rest of this entry     Share this: Tumblr Twitter Facebook LinkedIn Google Pinterest Reddit Pocket More Email Print Like this: Like  Posted in Food , Restaurants Leave a comment Tags: Adyar restaurant , chennai , chinese food , chinese restaurant , flower drum , restaurant review , review , thai food , vegetarian Going Natural: Good Knight Offers Mosquito Repellent Solutions with Citronella and Eucalyptus  Oils Dec  Posted by Katie Nathan Winter is in and this spells onset of mosquitoes. It is a known fact that mosquitoes are vectors responsible for many diseases. As always prevention is better than cure and it is important for us to take necessary steps to secure us from potential mosquito bites. Immunity is a major factor in keeping away seasonal diseases communicated by various medium. When we talk about immunity, babies and children are the most susceptible and as a parent every one of us know how difficult it is to control them and keep them away from places where mosquitoes breed. The next aspect of immunity is allergic reactions. Today, allergies are the cause of many respiratory associated infections and so we hear    natural    being chanted everywhere and in each item we purchase. It is not that everyone is allergic to chemicals but we can say that there is a formidable population in that area too. Read the rest of this entry     Share this: Tumblr Twitter Facebook LinkedIn Google Pinterest Reddit Pocket More Email Print Like this: Like  Posted in Editors Corner , Health , lifestyle  Comment Tags: citronella , eucalyptus , fabric rollon , good knight , mosquito , natural prevention , protection for babies , repellent , vectors Sensodyne Food Walk      Chennai Dec  Posted by Katie Nathan A group of bloggers, including me, were invited for the So Chennai & Sensodyne Food Walk here in Chennai. Needless to say, I grabbed the offer and set out for the great food-adventure! The concept at hand was that a few bloggers and actual tooth sensitivity sufferers, who had been using Sensodyne for a number of months, would get to go on a food walk, sampling food and drinks without the fear of any sensitivity. Here is a description of our food-adventure experience at three popular eateries in Chennai. Read the rest of this entry     Share this: Tumblr Twitter Facebook LinkedIn Google Pinterest Reddit Pocket More Email Print Like this: Like  Posted in Food , Health , lifestyle  Comments Tags: chennai , healthy lifestyle , sensodyne , tingling pain in mouth , tooth pain , tooth sensitivity , unable to eat cold things     Older Posts Looking for a Specific Post ? Search for: Topics Art  Attractions  Beauty  Business  Ecological Restoration in Chennai  Editors Corner  Education  Entertainment  Events  Fashion  Finance  Food  Restaurants  Gardening  Health  Heritage of Chennai  Hobby  Book Reviews  home  lifestyle  Media  Medical  Mystic Traditions MyTra  parenting  Pets  Sports  Adventure  Stay  Technology  Transportation  Travel  Watch Out  Our Latest Posts Welcome to Era of Easy Communication and Misleading  Information Review of House of Cards Season   Mango Madness at The Forum Vijaya  Mall Copper Chimney   s The Great Indian Kabab Festival     Dig into Authentic Traditional  Food Travel Diary      Travel to Madhya Pradesh Jyotir Lingams      Ujjain Chennai Focus on Viber Chennai Focus has its own Public Chat in Viber. Connect with us if you are in Viber - if not, check out Chennai Focus on Viber Chennai Focus Pitch Video Watch Chennai Focus Pitch Video Here. Share and Show your Support to us. Become a Eco-Tourist Thanks Tripoto Thanks Zomato Thanks Indiblogger    Thanks Blogmint Thanks Blogadda Thanks Indian Top Blogs Thanks SHeroes Archives Archives Select Month June   May   March   February   January   December   November   October   September   July   June   May   April   March   February   January   December   November   October   September   August   July   June   May   April   March   February   November   September   August   July   June   May   April   March   February   January   December   November   Top Posts & Pages Know Our Own Dog Breeds, Kombai, Kanni, Alangu, Chippiparai and Rajapalayam Healthy Meal Tiffin Services Delivered at Homes and Offices Blog Interactions Mukti Patel on Summer Collection Special from    Katie Nathan on Travel : Indulge in a Spiritua    Siva on Travel : Indulge in a Spiritua    MG on Healthy Meal Tiffin Services D    Siva on Blog Disclosure Statement Follow Blog via Email Enter your email address to follow this blog and receive notifications of new posts by email. Join  other followers Facebook Facebook Tweeting Now RT @  : #nombukanji  #TamilNadu #tradition #breaking #fast #healthy #onepotmeal #loaded with #goodness @ FoodBloggerAI @     Welcome to Era of Easy Communication and Misleading Information  on @ bloglovin  Welcome to Era of Easy Communication and Misleading Information  #PlasticRice #Food #Chennai #Blog #India #Tamilnadu  Welcome to Era of Easy Communication and Misleading  Information    A cup of hot choco  f d\\\\\\\\xab laced coffee    \\\\\\\\xef  f shared with a long lost friend is blissfully tasted and time well spent      Follow @chennaifocus We Support On Instagram Posts I Like TATA TIGOR - STYLE BACK (#Tigo    on MultitaskingMarwari Goodreads Blog Promotion Follow my blog with Bloglovin Blog Content Marketing Blog Content Marketing Blog Content Marketing Our Visitors  visits and counting. Thanks Friends! Blog at   Send to Email Address Your Name Your Email Address  = \\\\\\'\\\\\\'; Cancel Post was not sent - check your email addresses! Email check failed, please try again Sorry, your blog cannot share posts by email. Post to Cancel    %d bloggers like this:  \"  \\''"
      ]
     },
     "execution_count": 143,
     "metadata": {},
     "output_type": "execute_result"
    }
   ],
   "source": [
    "df['text'][1364]"
   ]
  },
  {
   "cell_type": "code",
   "execution_count": 139,
   "metadata": {
    "collapsed": false,
    "scrolled": true
   },
   "outputs": [
    {
     "data": {
      "text/plain": [
       "'b\\'b\"Skip to navigation Skip to main content Skip to primary sidebar Skip to secondary sidebar Skip to footer Chennai Focus     Information About Chennai Zoom in on Chennai Home ChennaiFocus     We Are Because You Are    Blog Disclosure Statement Contact Us Love Chennai Focus Pitch Video YouTube Twitter Facebook RSS Feed Welcome to Era of Easy Communication and Misleading  Information Jun  Posted by Katie Nathan The title says it all, we are living in an exalted era of communication and being fed with information sometimes authentic but many unverified and unproven. To add to this, we have the power to pass it on and it goes undeterred and unquestioned to gullible people who never question the authenticity of the information given to them. The reach is even more when it touches the life of a common man. One such case doing the rounds is    cPlastic Rice   d. We also got a video in WhatsApp about Chinese plastic rice entering the market and how it is manufactured. Smartly, there was no audio to it. We could see raw material (glue) kind made into plastic sheets and then being shaped like rice and collected in bags. My first thought process was shock but then a bit prudence set in as I remembered the process of making thermocol where sago like bubbles are manufactured and made into blocks. It may be the    cplastic rice   d is a raw material for some industrial product. Where is the proof that it is being sold as rice? Sadly, Basmati rice, nature   s gift to India with its aroma and flavor has come under question putting so many farmer lives and produce under threat. Being an ardent Basmati rice fan, I set about checking various trustworthy news about it. Read the rest of this entry     Share this: Tumblr Twitter Facebook LinkedIn Google Pinterest Reddit Pocket More Email Print Like this: Like  Posted in Editors Corner , Food Leave a comment Tags: awareness , food , India , plastic rice , Rice , viral videos Review of House of Cards Season   Jun  Posted by Katie Nathan House of Cards show focuses on the life of the Underwood, Frank and Claire as they foray into politics. From being a senator from North Carolina to getting promoted to Vice President and there to President. Frank, an unconventional man uses his unorthodox ways to get the better of them and steps his way up and kills any man or woman who gets in the way of his uprising. This show elucidates and gives the viewers an insight to American Politics from the perspective of a very strong man, Frank. This show does focus on other people such as Claire, Frank   s wife on how she helps her husband rise to power.    cThe power couple   d is what they are known to be as  they use politics and business hand in hand to rise in power, to prove power is worthier than money in this world. Frank Underwood is coming to India with the television premiere of House of Cards Season  on Saturday,  June,  PM onwards, only on Zee Caf   ! This season starts on a strong note with Frank becoming President but we should wait and see if the power in the show is retained, specifically the anti-climax plot that creates the much needed excitement. This season will hopefully be better than last season as Season  became a bit dull after Frank becomes President. However, since this series starts off with Frank being his own self, it sends a strong note  and the fans have even more to rejoice that Frank Underwood continues to rise to penultimate power and authority and does what he does best even though he is the most powerful man in the free world. This first episode posts a satirical note on the Government and how it can get awry and complicated and if justice is done, there will be a positive note left by the people to the President and support is just a matter of belief. This episode gives a ravaging lift off to Season  as all fans know, Frank Underwood cannot be changed and everyone should know it (according to Frank). The first episode brings up a positive note to fans and gives a shining example of how Mr. Underwood retains his glamour in a more older style. If you could not care more for political drama in this world, this episode fits right in.           Spoilers Ahead           Read the rest of this entry     Share this: Tumblr Twitter Facebook LinkedIn Google Pinterest Reddit Pocket More Email Print Like this: Like  Posted in Entertainment Leave a comment Tags: #HOConZCafe , House of Cards , review , Season  , Television Serial , ZCafe , ZEE cafe Mango Madness at The Forum Vijaya  Mall May  Posted by Katie Nathan Summer time, the king of fruits makes its grand entry in many forms. Needless to say about the varieties of mangoes we are familiar with, dishes that celebrate mangoes find a place in the menu of every restaurant in the city during this  With the advent of the concept of food courts, people of varied taste find it easy to get together to taste the food of their choice under one shelter. Forum Vijaya Mall boasts of multi cuisine food joints in the food court and many of them have curated special items to bring the best of the seasonal  We were invited for a tasting session at the Forum Mall Food Court to taste the #MangoMadness currently on which extends till June  We had the pleasure of tasting vegetarian dishes and it was interesting to see the array of innovative dishes from the participating outlets such as Kailash Parbat, Amaravathi, Kobe sizzlers,   Dashing Dhaba, Quiznows    Read the rest of this entry     Share this: Tumblr Twitter Facebook LinkedIn Google Pinterest Reddit Pocket More Email Print Like this: Like  Posted in Food , Restaurants Leave a comment Tags: chennai , food , food court , foodie , forum mall , Mango , Mango based dishes , Summer special , vegetarian , vijaya forum mall Copper Chimney   s The Great Indian Kabab Festival     Dig into Authentic Traditional  Food Mar  Posted by Katie Nathan Authentic! Traditional! That  touch! Old street taste, inviting aroma     Few phrases we use to locate that specific food that will take us back to those golden days when each dish with that one common main ingredient tasted so different and unique. Those days, the chef signature was imbibed in everything and whatever we try at home, we will go back to him for that specific  These days, most of the times when we eat out, we end up feeling better making the dish at home and let me tell you, at times it is much better. Take for example, tomato soups at restaurants taste almost like Maggi soups we make at home. Where is that signature that makes us drool and walk in to the restaurant for that experience? We happily had one such experience with Copper Chimney at  The Great Indian Kabab Festival happening now  till April  th  Read the rest of this entry     Share this: Tumblr Twitter Facebook LinkedIn Google Pinterest Reddit Pocket More Email Print Like this: Like  Posted in Food , Restaurants Leave a comment Tags: chennai , copper chimney , food , food blogger , food festival , kabab , restaurant review , traditional food , vegetarian Travel Diary      Travel to Madhya Pradesh Jyotir Lingams      Ujjain Mar  Posted by Katie Nathan We had a long pending visit to Ujjain and Omkareshwar and since young when I studied history, Ujjain has always enamored  So finally, we decided to make it and our travel began with train tickets to Bhopal and travel in car from there on a round trip to Ujjain and Omkareshwar. One hard lesson we learnt is never trust cab services of Ola or Uber on a weekend. It took  minutes for us to get a vehicle to Madras Central and thankfully for clear roads and green signals, we would not have made it to our train on time. We have been hearing so much about better services in long distance trains and to utter disappointment, Tamilnadu Express food remained the same as we have seen few years back. The only solace was cleaner toilets. We reached Bhopal at  PM the next day and stayed overnight at our friend   s place who won us over with their hospitality.   Our friend suggested that we visit Kharjana Ganesh Temple in Indore on the way to Ujjain. The temple is maintained by volunteers and is a very famous temple in the area. Read the rest of this entry     Share this: Tumblr Twitter Facebook LinkedIn Google Pinterest Reddit Pocket More Email Print Like this: Like  Posted in Stay , Travel  Comments Tags: India , Jyotirlinga , Mahakaleshwar , Shaktipeet , Spiritual Journey , travel , Ujjain , Visit Ujjain Following Tea Trails in Chennai     Let us Eat and Drink  Tea Mar  Posted by Katie Nathan Chennai known more for its affinity to Coffee or kaapi is now getting its share of tea tasting experience with exclusive outlets for getting that Tea experience. Tea is no more limited to the hot beverage you get in roadside shops with a huge bag like filter and served in glasses. Tea Trails located in Ashok Nagar near the police station serves  different types of tea categorized as black, white, green, Oolong and herbal teas. Known as Chai, it is served without milk and there are  types of tea with milk. The most interesting part of having the tea is the setup placed on the table along with instructions on brewing the specific  The tea we had was Kashmiri Kahwa. Expecting a glass of dark brown tea (we had without milk), we were surprised to see an apparatus placed on the table with an instruction card specifying  to  minutes to brew the tea. So we waited for  minutes and pressed the button and lo!, we had  ml of   filtered brewed tea.   We were told we can brew the tea  times with the same ingredients making for  cups of tea when you buy one. Certainly an interesting concept and we were surprised at the cup of aromatic yellow tea. It is not over yet; we were served with Almond bits which we were told is sprinkled as an add on to the Kashmiri Kahwa tea. Read the rest of this entry     Share this: Tumblr Twitter Facebook LinkedIn Google Pinterest Reddit Pocket More Email Print Like this: Like  Posted in Editors Corner , Food , Restaurants  Comments Tags: Ashok Nagar , chennai , Eggless Cake , Hangout , healthy , Matcha , Salad , snacks , tea , Tea Cafe , Tea Lovers , Tea Trails , Vada Pav , West Mambalam  Moments Epilators make it Super  Fun Feb  Posted by Katie Nathan Hair problems do not end with crowning glory and extends beyond. Hair is wanted and unwanted and it all depends on its location. Imagine a quick call from a friend in the last minute to have fun; it can be an invite from friends, a fun party, and a smoothie with your crush. The first thing that comes to a mind is the time we went for our last shave and the possibility of  All the enthusiasm wanes away and the invitations are no more inviting. Epilators have come a long way and the leader is Braun epilators, researching and specializing on getting silky smooth skin at a moment   s notice! Read the rest of this entry     Share this: Tumblr Twitter Facebook LinkedIn Google Pinterest Reddit Pocket More Email Print Like this: Like  Posted in Beauty , lifestyle Leave a comment Tags: beauty , Braun , Bridal , chennai , epilators , hair removal , makeup , No shaving , No waxing From Apartments to Villas     Convenience takes  Precedence Jan  Posted by Katie Nathan Casa Grande Pavilion-Phase II Villa Picture Courtesy: Casa Grande This post is about my dream home, a subject that keeps changing its color and style with every passing year. Obviously as new avenues come up, the concept of my dream home takes on a new hue and my plan gets on to works again. So for sure this subject is a living document till I get to the one that meets my requirement with a futuristic vision. It will be quite interesting to know how my concept has changed over the years and what is it that has taken priority today. Having lived in apartments, my interest is now with villas with all the features an apartment would offer. My option for villas is my love for greenery around. Time is such a costly commodity and so maintaining a green cover around has been a challenge. So the project that I would go for should provide  or  bedroom villas with landscaped garden. I would love to pitch in with maintenance now and then for those hands-on times with children. Read the rest of this entry     Share this: Tumblr Twitter Facebook LinkedIn Google Pinterest Reddit Pocket More Email Print Like this: Like  Posted in home  Comments Tags: apartments buying , buy villas , casa grande , chennai , houses for sale , own home Godrej Aer Car Fresheners in Six Design  Fragrances Jan  Posted by Katie Nathan Cars are no more a luxury in India  The challenge in maintaining a car lies in regular service and interiors. After all, we spend a lot of time travelling in a closed air conditioned  And if you are the kind of person with motion sickness, the smell of diesel can be quite a challenge to manage. To add to it, we have leather seats and what  Just getting into an ill maintained car is enough to spoil the day for us. With the cabs service picking up big away in Chennai, maintenance has become one of the key factors to get those star ratings from the customers. Car perfumes have a great role to play in keeping the vehicle drive worthy. Though many car fresheners have come into the market, many simply adopt the room freshener style which lasts for an hour and we are back to square one. What we need is a car freshener that keeps the fragrance constant. Read the rest of this entry     Share this: Tumblr Twitter Facebook LinkedIn Google Pinterest Reddit Pocket More Email Print Like this: Like  Posted in Editors Corner , lifestyle Leave a comment Tags: buy car fresheners online , car fresheners , godrej aer Flower Drum brings Vegetarian Chinese Thai Food to  Adyar Jan  Posted by Katie Nathan Flower drum has been in our hit list for quite some time for its Vegetarian Chinese Thai  Located in Egmore, it was just not forthcoming rather getting distracted to other restaurants once we hit heart of Chennai. Flower Drum opened their other restaurant at Namma Adyar near Aavin circle (above ICICI  We are thankful to Flower Drum and the Chennai food bloggers community to have made it possible to have a firsthand tasting session at this new establishment. First thing we noticed is the ambiance. Few tables were arranged to have a circular seating accommodating  people and more. This has always been an issue when we go as a family for get-togethers. The menu was exhaustive with good varieties highlighting Paneer, Corn, baby corn and  For Tofu lovers, we had few items for you too. Now to the food we had     Read the rest of this entry     Share this: Tumblr Twitter Facebook LinkedIn Google Pinterest Reddit Pocket More Email Print Like this: Like  Posted in Food , Restaurants Leave a comment Tags: Adyar restaurant , chennai , chinese food , chinese restaurant , flower drum , restaurant review , review , thai food , vegetarian Going Natural: Good Knight Offers Mosquito Repellent Solutions with Citronella and Eucalyptus  Oils Dec  Posted by Katie Nathan Winter is in and this spells onset of mosquitoes. It is a known fact that mosquitoes are vectors responsible for many diseases. As always prevention is better than cure and it is important for us to take necessary steps to secure us from potential mosquito bites. Immunity is a major factor in keeping away seasonal diseases communicated by various medium. When we talk about immunity, babies and children are the most susceptible and as a parent every one of us know how difficult it is to control them and keep them away from places where mosquitoes breed. The next aspect of immunity is allergic reactions. Today, allergies are the cause of many respiratory associated infections and so we hear    natural    being chanted everywhere and in each item we purchase. It is not that everyone is allergic to chemicals but we can say that there is a formidable population in that area too. Read the rest of this entry     Share this: Tumblr Twitter Facebook LinkedIn Google Pinterest Reddit Pocket More Email Print Like this: Like  Posted in Editors Corner , Health , lifestyle  Comment Tags: citronella , eucalyptus , fabric rollon , good knight , mosquito , natural prevention , protection for babies , repellent , vectors Sensodyne Food Walk      Chennai Dec  Posted by Katie Nathan A group of bloggers, including me, were invited for the So Chennai & Sensodyne Food Walk here in Chennai. Needless to say, I grabbed the offer and set out for the great food-adventure! The concept at hand was that a few bloggers and actual tooth sensitivity sufferers, who had been using Sensodyne for a number of months, would get to go on a food walk, sampling food and drinks without the fear of any sensitivity. Here is a description of our food-adventure experience at three popular eateries in Chennai. Read the rest of this entry     Share this: Tumblr Twitter Facebook LinkedIn Google Pinterest Reddit Pocket More Email Print Like this: Like  Posted in Food , Health , lifestyle  Comments Tags: chennai , healthy lifestyle , sensodyne , tingling pain in mouth , tooth pain , tooth sensitivity , unable to eat cold things     Older Posts Looking for a Specific Post ? Search for: Topics Art  Attractions  Beauty  Business  Ecological Restoration in Chennai  Editors Corner  Education  Entertainment  Events  Fashion  Finance  Food  Restaurants  Gardening  Health  Heritage of Chennai  Hobby  Book Reviews  home  lifestyle  Media  Medical  Mystic Traditions MyTra  parenting  Pets  Sports  Adventure  Stay  Technology  Transportation  Travel  Watch Out  Our Latest Posts Welcome to Era of Easy Communication and Misleading  Information Review of House of Cards Season   Mango Madness at The Forum Vijaya  Mall Copper Chimney   s The Great Indian Kabab Festival     Dig into Authentic Traditional  Food Travel Diary      Travel to Madhya Pradesh Jyotir Lingams      Ujjain Chennai Focus on Viber Chennai Focus has its own Public Chat in Viber. Connect with us if you are in Viber - if not, check out Chennai Focus on Viber Chennai Focus Pitch Video Watch Chennai Focus Pitch Video Here. Share and Show your Support to us. Become a Eco-Tourist Thanks Tripoto Thanks Zomato Thanks Indiblogger    Thanks Blogmint Thanks Blogadda Thanks Indian Top Blogs Thanks SHeroes Archives Archives Select Month June   May   March   February   January   December   November   October   September   July   June   May   April   March   February   January   December   November   October   September   August   July   June   May   April   March   February   November   September   August   July   June   May   April   March   February   January   December   November   Top Posts & Pages Know Our Own Dog Breeds, Kombai, Kanni, Alangu, Chippiparai and Rajapalayam Healthy Meal Tiffin Services Delivered at Homes and Offices Blog Interactions Mukti Patel on Summer Collection Special from    Katie Nathan on Travel : Indulge in a Spiritua    Siva on Travel : Indulge in a Spiritua    MG on Healthy Meal Tiffin Services D    Siva on Blog Disclosure Statement Follow Blog via Email Enter your email address to follow this blog and receive notifications of new posts by email. Join  other followers Facebook Facebook Tweeting Now RT @  : #nombukanji  #TamilNadu #tradition #breaking #fast #healthy #onepotmeal #loaded with #goodness @ FoodBloggerAI @     Welcome to Era of Easy Communication and Misleading Information  on @ bloglovin  Welcome to Era of Easy Communication and Misleading Information  #PlasticRice #Food #Chennai #Blog #India #Tamilnadu  Welcome to Era of Easy Communication and Misleading  Information    A cup of hot choco  f d\\\\\\\\xab laced coffee    \\\\\\\\xef  f shared with a long lost friend is blissfully tasted and time well spent      Follow @chennaifocus We Support On Instagram Posts I Like TATA TIGOR - STYLE BACK (#Tigo    on MultitaskingMarwari Goodreads Blog Promotion Follow my blog with Bloglovin Blog Content Marketing Blog Content Marketing Blog Content Marketing Our Visitors  visits and counting. Thanks Friends! Blog at   Send to Email Address Your Name Your Email Address  = \\\\\\'\\\\\\'; Cancel Post was not sent - check your email addresses! Email check failed, please try again Sorry, your blog cannot share posts by email. Post to Cancel    %d bloggers like this:  \"  \\''"
      ]
     },
     "execution_count": 139,
     "metadata": {},
     "output_type": "execute_result"
    }
   ],
   "source": [
    "df.iloc[1364,:]['text']"
   ]
  },
  {
   "cell_type": "code",
   "execution_count": 133,
   "metadata": {
    "collapsed": false
   },
   "outputs": [
    {
     "data": {
      "text/plain": [
       "1398    b'b\\'The SqlGrrrl Isabelle Van Campenhoudt >>>...\n",
       "Name: text, dtype: object"
      ]
     },
     "execution_count": 133,
     "metadata": {},
     "output_type": "execute_result"
    }
   ],
   "source": [
    "x['text']"
   ]
  },
  {
   "cell_type": "code",
   "execution_count": 3,
   "metadata": {
    "collapsed": false
   },
   "outputs": [],
   "source": [
    "df = pickle.load(open(\"mongodb_data.p\",'rb'))"
   ]
  },
  {
   "cell_type": "code",
   "execution_count": 3,
   "metadata": {
    "collapsed": false
   },
   "outputs": [],
   "source": [
    "reference = pickle.load(open(\"mongodb_data.p\",'rb'))"
   ]
  },
  {
   "cell_type": "code",
   "execution_count": 4,
   "metadata": {
    "collapsed": false
   },
   "outputs": [
    {
     "data": {
      "text/plain": [
       "(3813, 4)"
      ]
     },
     "execution_count": 4,
     "metadata": {},
     "output_type": "execute_result"
    }
   ],
   "source": [
    "reference.shape"
   ]
  },
  {
   "cell_type": "markdown",
   "metadata": {},
   "source": [
    "#### Preliminary Data Cleaning"
   ]
  },
  {
   "cell_type": "code",
   "execution_count": 302,
   "metadata": {
    "collapsed": false
   },
   "outputs": [
    {
     "name": "stdout",
     "output_type": "stream",
     "text": [
      "<class 'pandas.core.frame.DataFrame'>\n",
      "RangeIndex: 3813 entries, 0 to 3812\n",
      "Data columns (total 4 columns):\n",
      "_id        3813 non-null object\n",
      "quality    3813 non-null bool\n",
      "text       3813 non-null object\n",
      "url        3813 non-null object\n",
      "dtypes: bool(1), object(3)\n",
      "memory usage: 93.2+ KB\n"
     ]
    }
   ],
   "source": [
    "df.info()"
   ]
  },
  {
   "cell_type": "code",
   "execution_count": 4,
   "metadata": {
    "collapsed": false
   },
   "outputs": [
    {
     "data": {
      "text/plain": [
       "False    2836\n",
       "True      977\n",
       "Name: quality, dtype: int64"
      ]
     },
     "execution_count": 4,
     "metadata": {},
     "output_type": "execute_result"
    }
   ],
   "source": [
    "df['quality'].value_counts()"
   ]
  },
  {
   "cell_type": "code",
   "execution_count": 160,
   "metadata": {
    "collapsed": true
   },
   "outputs": [],
   "source": [
    "def clear_empty_text(text):\n",
    "    if len(text) < 1:\n",
    "        text = np.NaN\n",
    "    return text"
   ]
  },
  {
   "cell_type": "code",
   "execution_count": 161,
   "metadata": {
    "collapsed": false
   },
   "outputs": [],
   "source": [
    "def get_netloc(url):\n",
    "    netloc = urlparse(url).netloc\n",
    "    return netloc"
   ]
  },
  {
   "cell_type": "code",
   "execution_count": 162,
   "metadata": {
    "collapsed": true
   },
   "outputs": [],
   "source": [
    "comment_pattern = re.compile(r'#comment',re.I)\n",
    "tag_category_pattern = re.compile(r'/tag/|/category/', re.I)"
   ]
  },
  {
   "cell_type": "code",
   "execution_count": 163,
   "metadata": {
    "collapsed": true
   },
   "outputs": [],
   "source": [
    "fake_url = 'http://www.test.com/category/list'\n",
    "edge_case = 'http://www.test.com/tag/list'"
   ]
  },
  {
   "cell_type": "code",
   "execution_count": 164,
   "metadata": {
    "collapsed": true
   },
   "outputs": [],
   "source": [
    "def remove_comment_pages(url):\n",
    "    if url == np.NaN or comment_pattern.search(url):\n",
    "        url = np.NaN\n",
    "    return url"
   ]
  },
  {
   "cell_type": "code",
   "execution_count": 165,
   "metadata": {
    "collapsed": true
   },
   "outputs": [],
   "source": [
    "def remove_tag_category_pages(url):\n",
    "    if url == np.NaN or tag_category_pattern.search(url):\n",
    "        url = np.NaN\n",
    "    return url"
   ]
  },
  {
   "cell_type": "code",
   "execution_count": 166,
   "metadata": {
    "collapsed": true
   },
   "outputs": [],
   "source": [
    "def remove_java(text):\n",
    "    java_pattern = re.compile(r'$.+|.+\\..+|.*\\{.*|.*\\}.*|.*\\);', re.DOTALL)\n",
    "    new_text = ''\n",
    "    for word in text.split(' '):\n",
    "        if java_pattern.search(word):\n",
    "            word = ''\n",
    "        else:\n",
    "            word = word\n",
    "        new_text += word + ' '\n",
    "    return new_text"
   ]
  },
  {
   "cell_type": "code",
   "execution_count": 167,
   "metadata": {
    "collapsed": false
   },
   "outputs": [],
   "source": [
    "def remove_numbers(text):\n",
    "    number_pattern = re.compile(r'[0-9_]+')\n",
    "    new_text = ''\n",
    "    for word in text.split(' '):\n",
    "        if number_pattern.search(word):\n",
    "            word = ''\n",
    "        else:\n",
    "            word = word\n",
    "        new_text += word + ' '\n",
    "    return new_text"
   ]
  },
  {
   "cell_type": "code",
   "execution_count": 168,
   "metadata": {
    "collapsed": true
   },
   "outputs": [],
   "source": [
    "# def remove_leftover_javascript(text):\n",
    "# #     text = text.encode(encoding='ASCII',errors='replace')\n",
    "#     java_pattern = re.compile(r'\\{.*\\}',re.DOTALL)\n",
    "#     re.sub(java_pattern, ' ', text)\n",
    "#     return text"
   ]
  },
  {
   "cell_type": "code",
   "execution_count": 169,
   "metadata": {
    "collapsed": false
   },
   "outputs": [],
   "source": [
    "def remove_encoded(text):\n",
    "    encoding_patterns = re.compile(r'\\\\xc[0-9]+|\\\\xe[0-9]+|\\\\x[0-9]+|\\\\xa[0-9]+|\\\\xb[0-9]+')\n",
    "    cleaned_text = re.sub(encoding_patterns, ' ', str(text.encode()))\n",
    "    return cleaned_text"
   ]
  },
  {
   "cell_type": "code",
   "execution_count": 170,
   "metadata": {
    "collapsed": false
   },
   "outputs": [],
   "source": [
    "df['text'] = df['text'].apply(remove_numbers)\n",
    "\n",
    "df['text'] = df['text'].apply(remove_java)\n",
    "\n",
    "df['text'] = df['text'].apply(remove_encoded)\n",
    "\n",
    "df['text'] = df['text'].apply(clear_empty_text);\n",
    "\n",
    "df['url'] = df['url'].apply(remove_comment_pages)\n",
    "\n",
    "df.dropna(inplace=True)\n",
    "df.reset_index(inplace=True)\n",
    "\n",
    "df.drop('index',axis=1,inplace=True)\n",
    "\n",
    "# df['url'] = df['url'].apply(remove_tag_category_pages)\n",
    "# df.dropna(inplace=True)\n",
    "\n",
    "# df.reset_index(inplace=True)\n",
    "\n",
    "# df.drop('index',axis=1,inplace=True)"
   ]
  },
  {
   "cell_type": "code",
   "execution_count": 178,
   "metadata": {
    "collapsed": false
   },
   "outputs": [],
   "source": [
    "# df['url'] = df['url'].apply(remove_tag_category_pages)\n",
    "# df.dropna(inplace=True)"
   ]
  },
  {
   "cell_type": "code",
   "execution_count": 75,
   "metadata": {
    "collapsed": true
   },
   "outputs": [],
   "source": [
    "# df['netloc'] = df['url'].apply(get_netloc)"
   ]
  },
  {
   "cell_type": "code",
   "execution_count": 76,
   "metadata": {
    "collapsed": false
   },
   "outputs": [
    {
     "data": {
      "text/plain": [
       "False    2836\n",
       "True      977\n",
       "Name: quality, dtype: int64"
      ]
     },
     "execution_count": 76,
     "metadata": {},
     "output_type": "execute_result"
    }
   ],
   "source": [
    "df['quality'].value_counts()"
   ]
  },
  {
   "cell_type": "code",
   "execution_count": 255,
   "metadata": {
    "collapsed": true
   },
   "outputs": [],
   "source": [
    "# withheld = df.query('netloc == \"www.kaushik.net\"')\n",
    "\n",
    "# df = df.query('netloc != \"www.kaushik.net\"')\n",
    "\n",
    "# df.reset_index(inplace=True)\n",
    "# df.drop('index',axis=1,inplace=True)\n",
    "# withheld.reset_index(inplace=True)\n",
    "# withheld.drop('index',axis=1,inplace=True)"
   ]
  },
  {
   "cell_type": "code",
   "execution_count": 256,
   "metadata": {
    "collapsed": false
   },
   "outputs": [
    {
     "data": {
      "text/plain": [
       "False    2836\n",
       "True      977\n",
       "Name: quality, dtype: int64"
      ]
     },
     "execution_count": 256,
     "metadata": {},
     "output_type": "execute_result"
    }
   ],
   "source": [
    "reference['quality'].value_counts()"
   ]
  },
  {
   "cell_type": "markdown",
   "metadata": {},
   "source": [
    "#### Tokenization and Vectorization"
   ]
  },
  {
   "cell_type": "code",
   "execution_count": 24,
   "metadata": {
    "collapsed": false
   },
   "outputs": [],
   "source": [
    "from sklearn.feature_extraction.text import CountVectorizer\n",
    "from sklearn.feature_extraction.text import TfidfTransformer\n",
    "from sklearn.feature_extraction.text import TfidfVectorizer\n",
    "from sklearn.naive_bayes import MultinomialNB\n",
    "from sklearn import metrics\n",
    "\n",
    "import string"
   ]
  },
  {
   "cell_type": "code",
   "execution_count": 118,
   "metadata": {
    "collapsed": false
   },
   "outputs": [],
   "source": [
    "from nltk.tokenize import TreebankWordTokenizer\n",
    "from nltk.stem.porter import PorterStemmer\n",
    "from nltk.corpus import stopwords\n",
    "\n",
    "stopword = stopwords.words('english')\n",
    "stopword += list(string.punctuation)\n",
    "stopword += ['``', '\\'\\'', '–','.','=',')','(',';','``']\n",
    "stopword += ['january','february','march','april','may','june','july','august','september','october','november',\n",
    "            'december','jan','feb','mar','apr','jul','aug','sep','oct','nov','dec', 'fadeoutdown',\n",
    "             'fadeinup','getelementsbyclassname','serif','sans','answer','mon','tue','wed','thu','fri','sat','sun',\n",
    "            'br','content','cdata','neue', 'helvetica','faq','feedplaceholdergroup','var','getelementsbyclassname',\n",
    "             'js','parseparamsfromurl','function','follow','like','mouseout','need','share','tweet','email',\n",
    "             'address', 'name', 'website','keyvaluepair','nvar','onloadfunctionsobj', 'createscripttagfunc',\n",
    "            'subscribe','rss','queryparamname', 'urlparams','cbsigptdivids','np', 'xef', 'xbf', 'ntext',\n",
    "             'numsources', 'encryptedtoken','usessl', 'https', 'promotion', 'gs', 'visibleurl', 'qe', 'xef', 'xbf',\n",
    "            'searchclick', 'customprovider','customprovider','cx','ie','dtick','whitelabelsharing','setinterval',\n",
    "             'tjquery','fileformattype','hover','buttonseffect','imageresult','span','customsearchoptions', 'th',\n",
    "             'customsearchcontrol','clearinterval','queryparamname','want','webresult','isstorifyurl','arial',\n",
    "             'border', 'color','background','blog', 'receive','notif','browser', 'facebook','check','font','display',\n",
    "            'comment','commentform','contact','twitter','family','fieldset','googletag','permalink']\n",
    "\n",
    "def tokenize(text_column, tokenizer=TreebankWordTokenizer(), stemmer=PorterStemmer()):\n",
    "    \"\"\"Tokenizes and stems words in a text doc\n",
    "    Uses TreebankTokenizer and Porter Stemmer by default\n",
    "    \n",
    "    This function also removes words with numbers and underscores,\n",
    "    eliminates punctuation, and returns all the words as lowercase\n",
    "    \"\"\"\n",
    "    token_list = []\n",
    "    for row in text_column:\n",
    "        row = row.lower()\n",
    "        pattern = re.compile('[^a-zA-Z-\\' ]+|x\\w{2,6}')\n",
    "        tokens = tokenizer.tokenize(row)\n",
    "        tokens_no_stopwords = [w for w in tokens if w not in stopword]\n",
    "        tokens_dropped_patterns = [w for w in tokens_no_stopwords if not pattern.search(w)]\n",
    "        stems  = stem_tokens(tokens_dropped_patterns, stemmer)\n",
    "        blogs= ' '.join(stems)\n",
    "        token_list.append(blogs)\n",
    "    return token_list\n",
    "\n",
    "def stem_tokens(tokens, stemmer):\n",
    "    \"\"\"Stems tokenized words, this function is called by tokenize which uses Porter Stemmer by default\"\"\"\n",
    "    stemmed = []\n",
    "    for item in tokens:\n",
    "        stemmed.append(stemmer.stem(item))\n",
    "    return stemmed"
   ]
  },
  {
   "cell_type": "code",
   "execution_count": 125,
   "metadata": {
    "collapsed": false
   },
   "outputs": [
    {
     "data": {
      "text/plain": [
       "'hello stupid'"
      ]
     },
     "execution_count": 125,
     "metadata": {},
     "output_type": "execute_result"
    }
   ],
   "source": [
    "tokenize('hello my name is stupid')"
   ]
  },
  {
   "cell_type": "code",
   "execution_count": 262,
   "metadata": {
    "collapsed": false
   },
   "outputs": [],
   "source": [
    "tokens = tokenize(df['text'])"
   ]
  },
  {
   "cell_type": "code",
   "execution_count": 263,
   "metadata": {
    "collapsed": true
   },
   "outputs": [],
   "source": [
    "pickle.dump( tokens, open( \"tokenized_text.p\", \"wb\" ) )"
   ]
  },
  {
   "cell_type": "markdown",
   "metadata": {},
   "source": [
    "START HERE!  \n",
    "Retry different ngram ranges! Max Features Settings! Whatever it takes, then when you're set with your final model retry witholding that blog and wham bam zam live scraping!\n"
   ]
  },
  {
   "cell_type": "code",
   "execution_count": 29,
   "metadata": {
    "collapsed": true
   },
   "outputs": [],
   "source": [
    "tokens = pickle.load(open(\"tokenized_text.p\", \"rb\"))"
   ]
  },
  {
   "cell_type": "code",
   "execution_count": 51,
   "metadata": {
    "collapsed": false
   },
   "outputs": [],
   "source": [
    "vect = CountVectorizer(stop_words=stopword, ngram_range=(2,3), max_features=5000)"
   ]
  },
  {
   "cell_type": "code",
   "execution_count": 52,
   "metadata": {
    "collapsed": false
   },
   "outputs": [],
   "source": [
    "tfidf_trans = TfidfTransformer()"
   ]
  },
  {
   "cell_type": "code",
   "execution_count": 53,
   "metadata": {
    "collapsed": false
   },
   "outputs": [],
   "source": [
    "vectorized_tokens = tfidf_trans.fit_transform(vect.fit_transform(tokens))"
   ]
  },
  {
   "cell_type": "code",
   "execution_count": 16,
   "metadata": {
    "collapsed": true
   },
   "outputs": [],
   "source": [
    "# pickle.dump(tfidf_trans, open(\"tfidf_trans.p\",\"wb\"))"
   ]
  },
  {
   "cell_type": "code",
   "execution_count": 148,
   "metadata": {
    "collapsed": true
   },
   "outputs": [],
   "source": [
    "vect = pickle.load(open(\"count_vect.p\",\"rb\"))"
   ]
  },
  {
   "cell_type": "code",
   "execution_count": 146,
   "metadata": {
    "collapsed": true
   },
   "outputs": [],
   "source": [
    "naivebayes = pickle.load(open(\"fit_naive_bayes.p\",\"rb\"))"
   ]
  },
  {
   "cell_type": "code",
   "execution_count": 147,
   "metadata": {
    "collapsed": true
   },
   "outputs": [],
   "source": [
    "tfidf_trans = pickle.load(open(\"tfidf_trans.p\",\"rb\"))"
   ]
  },
  {
   "cell_type": "code",
   "execution_count": 150,
   "metadata": {
    "collapsed": true
   },
   "outputs": [],
   "source": [
    "example_blog_post = 'b\\'b\"Skip to navigation Skip to main content Skip to primary sidebar Skip to secondary sidebar Skip to footer Chennai Focus     Information About Chennai Zoom in on Chennai Home ChennaiFocus     We Are Because You Are    Blog Disclosure Statement Contact Us Love Chennai Focus Pitch Video YouTube Twitter Facebook RSS Feed Welcome to Era of Easy Communication and Misleading  Information Jun  Posted by Katie Nathan The title says it all, we are living in an exalted era of communication and being fed with information sometimes authentic but many unverified and unproven. To add to this, we have the power to pass it on and it goes undeterred and unquestioned to gullible people who never question the authenticity of the information given to them. The reach is even more when it touches the life of a common man. One such case doing the rounds is    cPlastic Rice   d. We also got a video in WhatsApp about Chinese plastic rice entering the market and how it is manufactured. Smartly, there was no audio to it. We could see raw material (glue) kind made into plastic sheets and then being shaped like rice and collected in bags. My first thought process was shock but then a bit prudence set in as I remembered the process of making thermocol where sago like bubbles are manufactured and made into blocks. It may be the    cplastic rice   d is a raw material for some industrial product. Where is the proof that it is being sold as rice? Sadly, Basmati rice, nature   s gift to India with its aroma and flavor has come under question putting so many farmer lives and produce under threat. Being an ardent Basmati rice fan, I set about checking various trustworthy news about it. Read the rest of this entry     Share this: Tumblr Twitter Facebook LinkedIn Google Pinterest Reddit Pocket More Email Print Like this: Like  Posted in Editors Corner , Food Leave a comment Tags: awareness , food , India , plastic rice , Rice , viral videos Review of House of Cards Season   Jun  Posted by Katie Nathan House of Cards show focuses on the life of the Underwood, Frank and Claire as they foray into politics. From being a senator from North Carolina to getting promoted to Vice President and there to President. Frank, an unconventional man uses his unorthodox ways to get the better of them and steps his way up and kills any man or woman who gets in the way of his uprising. This show elucidates and gives the viewers an insight to American Politics from the perspective of a very strong man, Frank. This show does focus on other people such as Claire, Frank   s wife on how she helps her husband rise to power.    cThe power couple   d is what they are known to be as  they use politics and business hand in hand to rise in power, to prove power is worthier than money in this world. Frank Underwood is coming to India with the television premiere of House of Cards Season  on Saturday,  June,  PM onwards, only on Zee Caf   ! This season starts on a strong note with Frank becoming President but we should wait and see if the power in the show is retained, specifically the anti-climax plot that creates the much needed excitement. This season will hopefully be better than last season as Season  became a bit dull after Frank becomes President. However, since this series starts off with Frank being his own self, it sends a strong note  and the fans have even more to rejoice that Frank Underwood continues to rise to penultimate power and authority and does what he does best even though he is the most powerful man in the free world. This first episode posts a satirical note on the Government and how it can get awry and complicated and if justice is done, there will be a positive note left by the people to the President and support is just a matter of belief. This episode gives a ravaging lift off to Season  as all fans know, Frank Underwood cannot be changed and everyone should know it (according to Frank). The first episode brings up a positive note to fans and gives a shining example of how Mr. Underwood retains his glamour in a more older style. If you could not care more for political drama in this world, this episode fits right in.           Spoilers Ahead           Read the rest of this entry     Share this: Tumblr Twitter Facebook LinkedIn Google Pinterest Reddit Pocket More Email Print Like this: Like  Posted in Entertainment Leave a comment Tags: #HOConZCafe , House of Cards , review , Season  , Television Serial , ZCafe , ZEE cafe Mango Madness at The Forum Vijaya  Mall May  Posted by Katie Nathan Summer time, the king of fruits makes its grand entry in many forms. Needless to say about the varieties of mangoes we are familiar with, dishes that celebrate mangoes find a place in the menu of every restaurant in the city during this  With the advent of the concept of food courts, people of varied taste find it easy to get together to taste the food of their choice under one shelter. Forum Vijaya Mall boasts of multi cuisine food joints in the food court and many of them have curated special items to bring the best of the seasonal  We were invited for a tasting session at the Forum Mall Food Court to taste the #MangoMadness currently on which extends till June  We had the pleasure of tasting vegetarian dishes and it was interesting to see the array of innovative dishes from the participating outlets such as Kailash Parbat, Amaravathi, Kobe sizzlers,   Dashing Dhaba, Quiznows    Read the rest of this entry     Share this: Tumblr Twitter Facebook LinkedIn Google Pinterest Reddit Pocket More Email Print Like this: Like  Posted in Food , Restaurants Leave a comment Tags: chennai , food , food court , foodie , forum mall , Mango , Mango based dishes , Summer special , vegetarian , vijaya forum mall Copper Chimney   s The Great Indian Kabab Festival     Dig into Authentic Traditional  Food Mar  Posted by Katie Nathan Authentic! Traditional! That  touch! Old street taste, inviting aroma     Few phrases we use to locate that specific food that will take us back to those golden days when each dish with that one common main ingredient tasted so different and unique. Those days, the chef signature was imbibed in everything and whatever we try at home, we will go back to him for that specific  These days, most of the times when we eat out, we end up feeling better making the dish at home and let me tell you, at times it is much better. Take for example, tomato soups at restaurants taste almost like Maggi soups we make at home. Where is that signature that makes us drool and walk in to the restaurant for that experience? We happily had one such experience with Copper Chimney at  The Great Indian Kabab Festival happening now  till April  th  Read the rest of this entry     Share this: Tumblr Twitter Facebook LinkedIn Google Pinterest Reddit Pocket More Email Print Like this: Like  Posted in Food , Restaurants Leave a comment Tags: chennai , copper chimney , food , food blogger , food festival , kabab , restaurant review , traditional food , vegetarian Travel Diary      Travel to Madhya Pradesh Jyotir Lingams      Ujjain Mar  Posted by Katie Nathan We had a long pending visit to Ujjain and Omkareshwar and since young when I studied history, Ujjain has always enamored  So finally, we decided to make it and our travel began with train tickets to Bhopal and travel in car from there on a round trip to Ujjain and Omkareshwar. One hard lesson we learnt is never trust cab services of Ola or Uber on a weekend. It took  minutes for us to get a vehicle to Madras Central and thankfully for clear roads and green signals, we would not have made it to our train on time. We have been hearing so much about better services in long distance trains and to utter disappointment, Tamilnadu Express food remained the same as we have seen few years back. The only solace was cleaner toilets. We reached Bhopal at  PM the next day and stayed overnight at our friend   s place who won us over with their hospitality.   Our friend suggested that we visit Kharjana Ganesh Temple in Indore on the way to Ujjain. The temple is maintained by volunteers and is a very famous temple in the area. Read the rest of this entry     Share this: Tumblr Twitter Facebook LinkedIn Google Pinterest Reddit Pocket More Email Print Like this: Like  Posted in Stay , Travel  Comments Tags: India , Jyotirlinga , Mahakaleshwar , Shaktipeet , Spiritual Journey , travel , Ujjain , Visit Ujjain Following Tea Trails in Chennai     Let us Eat and Drink  Tea Mar  Posted by Katie Nathan Chennai known more for its affinity to Coffee or kaapi is now getting its share of tea tasting experience with exclusive outlets for getting that Tea experience. Tea is no more limited to the hot beverage you get in roadside shops with a huge bag like filter and served in glasses. Tea Trails located in Ashok Nagar near the police station serves  different types of tea categorized as black, white, green, Oolong and herbal teas. Known as Chai, it is served without milk and there are  types of tea with milk. The most interesting part of having the tea is the setup placed on the table along with instructions on brewing the specific  The tea we had was Kashmiri Kahwa. Expecting a glass of dark brown tea (we had without milk), we were surprised to see an apparatus placed on the table with an instruction card specifying  to  minutes to brew the tea. So we waited for  minutes and pressed the button and lo!, we had  ml of   filtered brewed tea.   We were told we can brew the tea  times with the same ingredients making for  cups of tea when you buy one. Certainly an interesting concept and we were surprised at the cup of aromatic yellow tea. It is not over yet; we were served with Almond bits which we were told is sprinkled as an add on to the Kashmiri Kahwa tea. Read the rest of this entry     Share this: Tumblr Twitter Facebook LinkedIn Google Pinterest Reddit Pocket More Email Print Like this: Like  Posted in Editors Corner , Food , Restaurants  Comments Tags: Ashok Nagar , chennai , Eggless Cake , Hangout , healthy , Matcha , Salad , snacks , tea , Tea Cafe , Tea Lovers , Tea Trails , Vada Pav , West Mambalam  Moments Epilators make it Super  Fun Feb  Posted by Katie Nathan Hair problems do not end with crowning glory and extends beyond. Hair is wanted and unwanted and it all depends on its location. Imagine a quick call from a friend in the last minute to have fun; it can be an invite from friends, a fun party, and a smoothie with your crush. The first thing that comes to a mind is the time we went for our last shave and the possibility of  All the enthusiasm wanes away and the invitations are no more inviting. Epilators have come a long way and the leader is Braun epilators, researching and specializing on getting silky smooth skin at a moment   s notice! Read the rest of this entry     Share this: Tumblr Twitter Facebook LinkedIn Google Pinterest Reddit Pocket More Email Print Like this: Like  Posted in Beauty , lifestyle Leave a comment Tags: beauty , Braun , Bridal , chennai , epilators , hair removal , makeup , No shaving , No waxing From Apartments to Villas     Convenience takes  Precedence Jan  Posted by Katie Nathan Casa Grande Pavilion-Phase II Villa Picture Courtesy: Casa Grande This post is about my dream home, a subject that keeps changing its color and style with every passing year. Obviously as new avenues come up, the concept of my dream home takes on a new hue and my plan gets on to works again. So for sure this subject is a living document till I get to the one that meets my requirement with a futuristic vision. It will be quite interesting to know how my concept has changed over the years and what is it that has taken priority today. Having lived in apartments, my interest is now with villas with all the features an apartment would offer. My option for villas is my love for greenery around. Time is such a costly commodity and so maintaining a green cover around has been a challenge. So the project that I would go for should provide  or  bedroom villas with landscaped garden. I would love to pitch in with maintenance now and then for those hands-on times with children. Read the rest of this entry     Share this: Tumblr Twitter Facebook LinkedIn Google Pinterest Reddit Pocket More Email Print Like this: Like  Posted in home  Comments Tags: apartments buying , buy villas , casa grande , chennai , houses for sale , own home Godrej Aer Car Fresheners in Six Design  Fragrances Jan  Posted by Katie Nathan Cars are no more a luxury in India  The challenge in maintaining a car lies in regular service and interiors. After all, we spend a lot of time travelling in a closed air conditioned  And if you are the kind of person with motion sickness, the smell of diesel can be quite a challenge to manage. To add to it, we have leather seats and what  Just getting into an ill maintained car is enough to spoil the day for us. With the cabs service picking up big away in Chennai, maintenance has become one of the key factors to get those star ratings from the customers. Car perfumes have a great role to play in keeping the vehicle drive worthy. Though many car fresheners have come into the market, many simply adopt the room freshener style which lasts for an hour and we are back to square one. What we need is a car freshener that keeps the fragrance constant. Read the rest of this entry     Share this: Tumblr Twitter Facebook LinkedIn Google Pinterest Reddit Pocket More Email Print Like this: Like  Posted in Editors Corner , lifestyle Leave a comment Tags: buy car fresheners online , car fresheners , godrej aer Flower Drum brings Vegetarian Chinese Thai Food to  Adyar Jan  Posted by Katie Nathan Flower drum has been in our hit list for quite some time for its Vegetarian Chinese Thai  Located in Egmore, it was just not forthcoming rather getting distracted to other restaurants once we hit heart of Chennai. Flower Drum opened their other restaurant at Namma Adyar near Aavin circle (above ICICI  We are thankful to Flower Drum and the Chennai food bloggers community to have made it possible to have a firsthand tasting session at this new establishment. First thing we noticed is the ambiance. Few tables were arranged to have a circular seating accommodating  people and more. This has always been an issue when we go as a family for get-togethers. The menu was exhaustive with good varieties highlighting Paneer, Corn, baby corn and  For Tofu lovers, we had few items for you too. Now to the food we had     Read the rest of this entry     Share this: Tumblr Twitter Facebook LinkedIn Google Pinterest Reddit Pocket More Email Print Like this: Like  Posted in Food , Restaurants Leave a comment Tags: Adyar restaurant , chennai , chinese food , chinese restaurant , flower drum , restaurant review , review , thai food , vegetarian Going Natural: Good Knight Offers Mosquito Repellent Solutions with Citronella and Eucalyptus  Oils Dec  Posted by Katie Nathan Winter is in and this spells onset of mosquitoes. It is a known fact that mosquitoes are vectors responsible for many diseases. As always prevention is better than cure and it is important for us to take necessary steps to secure us from potential mosquito bites. Immunity is a major factor in keeping away seasonal diseases communicated by various medium. When we talk about immunity, babies and children are the most susceptible and as a parent every one of us know how difficult it is to control them and keep them away from places where mosquitoes breed. The next aspect of immunity is allergic reactions. Today, allergies are the cause of many respiratory associated infections and so we hear    natural    being chanted everywhere and in each item we purchase. It is not that everyone is allergic to chemicals but we can say that there is a formidable population in that area too. Read the rest of this entry     Share this: Tumblr Twitter Facebook LinkedIn Google Pinterest Reddit Pocket More Email Print Like this: Like  Posted in Editors Corner , Health , lifestyle  Comment Tags: citronella , eucalyptus , fabric rollon , good knight , mosquito , natural prevention , protection for babies , repellent , vectors Sensodyne Food Walk      Chennai Dec  Posted by Katie Nathan A group of bloggers, including me, were invited for the So Chennai & Sensodyne Food Walk here in Chennai. Needless to say, I grabbed the offer and set out for the great food-adventure! The concept at hand was that a few bloggers and actual tooth sensitivity sufferers, who had been using Sensodyne for a number of months, would get to go on a food walk, sampling food and drinks without the fear of any sensitivity. Here is a description of our food-adventure experience at three popular eateries in Chennai. Read the rest of this entry     Share this: Tumblr Twitter Facebook LinkedIn Google Pinterest Reddit Pocket More Email Print Like this: Like  Posted in Food , Health , lifestyle  Comments Tags: chennai , healthy lifestyle , sensodyne , tingling pain in mouth , tooth pain , tooth sensitivity , unable to eat cold things     Older Posts Looking for a Specific Post ? Search for: Topics Art  Attractions  Beauty  Business  Ecological Restoration in Chennai  Editors Corner  Education  Entertainment  Events  Fashion  Finance  Food  Restaurants  Gardening  Health  Heritage of Chennai  Hobby  Book Reviews  home  lifestyle  Media  Medical  Mystic Traditions MyTra  parenting  Pets  Sports  Adventure  Stay  Technology  Transportation  Travel  Watch Out  Our Latest Posts Welcome to Era of Easy Communication and Misleading  Information Review of House of Cards Season   Mango Madness at The Forum Vijaya  Mall Copper Chimney   s The Great Indian Kabab Festival     Dig into Authentic Traditional  Food Travel Diary      Travel to Madhya Pradesh Jyotir Lingams      Ujjain Chennai Focus on Viber Chennai Focus has its own Public Chat in Viber. Connect with us if you are in Viber - if not, check out Chennai Focus on Viber Chennai Focus Pitch Video Watch Chennai Focus Pitch Video Here. Share and Show your Support to us. Become a Eco-Tourist Thanks Tripoto Thanks Zomato Thanks Indiblogger    Thanks Blogmint Thanks Blogadda Thanks Indian Top Blogs Thanks SHeroes Archives Archives Select Month June   May   March   February   January   December   November   October   September   July   June   May   April   March   February   January   December   November   October   September   August   July   June   May   April   March   February   November   September   August   July   June   May   April   March   February   January   December   November   Top Posts & Pages Know Our Own Dog Breeds, Kombai, Kanni, Alangu, Chippiparai and Rajapalayam Healthy Meal Tiffin Services Delivered at Homes and Offices Blog Interactions Mukti Patel on Summer Collection Special from    Katie Nathan on Travel : Indulge in a Spiritua    Siva on Travel : Indulge in a Spiritua    MG on Healthy Meal Tiffin Services D    Siva on Blog Disclosure Statement Follow Blog via Email Enter your email address to follow this blog and receive notifications of new posts by email. Join  other followers Facebook Facebook Tweeting Now RT @  : #nombukanji  #TamilNadu #tradition #breaking #fast #healthy #onepotmeal #loaded with #goodness @ FoodBloggerAI @     Welcome to Era of Easy Communication and Misleading Information  on @ bloglovin  Welcome to Era of Easy Communication and Misleading Information  #PlasticRice #Food #Chennai #Blog #India #Tamilnadu  Welcome to Era of Easy Communication and Misleading  Information    A cup of hot choco  f d\\\\\\\\xab laced coffee    \\\\\\\\xef  f shared with a long lost friend is blissfully tasted and time well spent      Follow @chennaifocus We Support On Instagram Posts I Like TATA TIGOR - STYLE BACK (#Tigo    on MultitaskingMarwari Goodreads Blog Promotion Follow my blog with Bloglovin Blog Content Marketing Blog Content Marketing Blog Content Marketing Our Visitors  visits and counting. Thanks Friends! Blog at   Send to Email Address Your Name Your Email Address  = \\\\\\'\\\\\\'; Cancel Post was not sent - check your email addresses! Email check failed, please try again Sorry, your blog cannot share posts by email. Post to Cancel    %d bloggers like this:  \"  \\''"
   ]
  },
  {
   "cell_type": "code",
   "execution_count": 151,
   "metadata": {
    "collapsed": false
   },
   "outputs": [
    {
     "data": {
      "text/plain": [
       "array([False], dtype=bool)"
      ]
     },
     "execution_count": 151,
     "metadata": {},
     "output_type": "execute_result"
    }
   ],
   "source": [
    "naivebayes.predict(tfidf_trans.transform(vect.transform(tokenize(example_blog_post))))"
   ]
  },
  {
   "cell_type": "code",
   "execution_count": 297,
   "metadata": {
    "collapsed": true
   },
   "outputs": [],
   "source": [
    "naivebayes = MultinomialNB()"
   ]
  },
  {
   "cell_type": "code",
   "execution_count": 77,
   "metadata": {
    "collapsed": true
   },
   "outputs": [],
   "source": [
    "target = df['quality']"
   ]
  },
  {
   "cell_type": "code",
   "execution_count": 78,
   "metadata": {
    "collapsed": false
   },
   "outputs": [
    {
     "data": {
      "text/plain": [
       "MultinomialNB(alpha=1.0, class_prior=None, fit_prior=True)"
      ]
     },
     "execution_count": 78,
     "metadata": {},
     "output_type": "execute_result"
    }
   ],
   "source": [
    "naivebayes.fit(vectorized_tokens, target)"
   ]
  },
  {
   "cell_type": "code",
   "execution_count": 179,
   "metadata": {
    "collapsed": true
   },
   "outputs": [],
   "source": [
    "data = df['text']"
   ]
  },
  {
   "cell_type": "code",
   "execution_count": 152,
   "metadata": {
    "collapsed": false,
    "scrolled": false
   },
   "outputs": [],
   "source": [
    "predicted = naivebayes.predict(tfidf_trans.transform(vect.transform(tokens)))"
   ]
  },
  {
   "cell_type": "code",
   "execution_count": 80,
   "metadata": {
    "collapsed": false,
    "scrolled": false
   },
   "outputs": [],
   "source": [
    "# predicted = naivebayes.predict(vect.transform(data))"
   ]
  },
  {
   "cell_type": "code",
   "execution_count": 153,
   "metadata": {
    "collapsed": true
   },
   "outputs": [],
   "source": [
    "predicted = pd.DataFrame(predicted)"
   ]
  },
  {
   "cell_type": "code",
   "execution_count": 82,
   "metadata": {
    "collapsed": false
   },
   "outputs": [
    {
     "data": {
      "text/plain": [
       "False    2836\n",
       "True      977\n",
       "Name: quality, dtype: int64"
      ]
     },
     "execution_count": 82,
     "metadata": {},
     "output_type": "execute_result"
    }
   ],
   "source": [
    "target.value_counts()"
   ]
  },
  {
   "cell_type": "code",
   "execution_count": 154,
   "metadata": {
    "collapsed": false
   },
   "outputs": [
    {
     "data": {
      "text/plain": [
       "False    2930\n",
       "True      883\n",
       "Name: 0, dtype: int64"
      ]
     },
     "execution_count": 154,
     "metadata": {},
     "output_type": "execute_result"
    }
   ],
   "source": [
    "predicted[0].value_counts()"
   ]
  },
  {
   "cell_type": "code",
   "execution_count": 276,
   "metadata": {
    "collapsed": false
   },
   "outputs": [],
   "source": [
    "# df.drop('index',axis=1, inplace=True)"
   ]
  },
  {
   "cell_type": "code",
   "execution_count": 108,
   "metadata": {
    "collapsed": false
   },
   "outputs": [],
   "source": [
    "# df.drop('predicted',axis=1, inplace=True)\n",
    "\n",
    "# df.drop('index',axis=1, inplace=True)"
   ]
  },
  {
   "cell_type": "code",
   "execution_count": 85,
   "metadata": {
    "collapsed": false
   },
   "outputs": [],
   "source": [
    "# predicted.shape"
   ]
  },
  {
   "cell_type": "code",
   "execution_count": 186,
   "metadata": {
    "collapsed": false
   },
   "outputs": [],
   "source": [
    "df = df.join(predicted)"
   ]
  },
  {
   "cell_type": "code",
   "execution_count": 187,
   "metadata": {
    "collapsed": false
   },
   "outputs": [],
   "source": [
    "df.rename(columns = {0:'predicted'}, inplace=True)"
   ]
  },
  {
   "cell_type": "code",
   "execution_count": 180,
   "metadata": {
    "collapsed": true
   },
   "outputs": [],
   "source": [
    "# predicted = df['predicted']\n",
    "target = df['quality']"
   ]
  },
  {
   "cell_type": "code",
   "execution_count": 181,
   "metadata": {
    "collapsed": false,
    "scrolled": true
   },
   "outputs": [
    {
     "name": "stdout",
     "output_type": "stream",
     "text": [
      "             precision    recall  f1-score   support\n",
      "\n",
      "      False       0.88      0.91      0.89      2836\n",
      "       True       0.70      0.63      0.66       977\n",
      "\n",
      "avg / total       0.83      0.84      0.83      3813\n",
      "\n"
     ]
    }
   ],
   "source": [
    "# Max features = 2000\n",
    "print(metrics.classification_report(target, predicted))"
   ]
  },
  {
   "cell_type": "code",
   "execution_count": 182,
   "metadata": {
    "collapsed": true
   },
   "outputs": [],
   "source": [
    "df['url'] = df['url'].apply(remove_tag_category_pages)\n",
    "df.dropna(inplace=True)\n",
    "\n",
    "df.reset_index(inplace=True)\n",
    "\n",
    "df.drop('index',axis=1,inplace=True)"
   ]
  },
  {
   "cell_type": "code",
   "execution_count": 183,
   "metadata": {
    "collapsed": true
   },
   "outputs": [
    {
     "ename": "KeyError",
     "evalue": "'predicted'",
     "output_type": "error",
     "traceback": [
      "\u001b[0;31m---------------------------------------------------------------------------\u001b[0m",
      "\u001b[0;31mKeyError\u001b[0m                                  Traceback (most recent call last)",
      "\u001b[0;32m/home/paul/anaconda3/lib/python3.6/site-packages/pandas/indexes/base.py\u001b[0m in \u001b[0;36mget_loc\u001b[0;34m(self, key, method, tolerance)\u001b[0m\n\u001b[1;32m   2133\u001b[0m             \u001b[0;32mtry\u001b[0m\u001b[0;34m:\u001b[0m\u001b[0;34m\u001b[0m\u001b[0m\n\u001b[0;32m-> 2134\u001b[0;31m                 \u001b[0;32mreturn\u001b[0m \u001b[0mself\u001b[0m\u001b[0;34m.\u001b[0m\u001b[0m_engine\u001b[0m\u001b[0;34m.\u001b[0m\u001b[0mget_loc\u001b[0m\u001b[0;34m(\u001b[0m\u001b[0mkey\u001b[0m\u001b[0;34m)\u001b[0m\u001b[0;34m\u001b[0m\u001b[0m\n\u001b[0m\u001b[1;32m   2135\u001b[0m             \u001b[0;32mexcept\u001b[0m \u001b[0mKeyError\u001b[0m\u001b[0;34m:\u001b[0m\u001b[0;34m\u001b[0m\u001b[0m\n",
      "\u001b[0;32mpandas/index.pyx\u001b[0m in \u001b[0;36mpandas.index.IndexEngine.get_loc (pandas/index.c:4433)\u001b[0;34m()\u001b[0m\n",
      "\u001b[0;32mpandas/index.pyx\u001b[0m in \u001b[0;36mpandas.index.IndexEngine.get_loc (pandas/index.c:4279)\u001b[0;34m()\u001b[0m\n",
      "\u001b[0;32mpandas/src/hashtable_class_helper.pxi\u001b[0m in \u001b[0;36mpandas.hashtable.PyObjectHashTable.get_item (pandas/hashtable.c:13742)\u001b[0;34m()\u001b[0m\n",
      "\u001b[0;32mpandas/src/hashtable_class_helper.pxi\u001b[0m in \u001b[0;36mpandas.hashtable.PyObjectHashTable.get_item (pandas/hashtable.c:13696)\u001b[0;34m()\u001b[0m\n",
      "\u001b[0;31mKeyError\u001b[0m: 'predicted'",
      "\nDuring handling of the above exception, another exception occurred:\n",
      "\u001b[0;31mKeyError\u001b[0m                                  Traceback (most recent call last)",
      "\u001b[0;32m<ipython-input-183-37c31fa29df3>\u001b[0m in \u001b[0;36m<module>\u001b[0;34m()\u001b[0m\n\u001b[0;32m----> 1\u001b[0;31m \u001b[0mpredicted\u001b[0m \u001b[0;34m=\u001b[0m \u001b[0mdf\u001b[0m\u001b[0;34m[\u001b[0m\u001b[0;34m'predicted'\u001b[0m\u001b[0;34m]\u001b[0m\u001b[0;34m\u001b[0m\u001b[0m\n\u001b[0m",
      "\u001b[0;32m/home/paul/anaconda3/lib/python3.6/site-packages/pandas/core/frame.py\u001b[0m in \u001b[0;36m__getitem__\u001b[0;34m(self, key)\u001b[0m\n\u001b[1;32m   2057\u001b[0m             \u001b[0;32mreturn\u001b[0m \u001b[0mself\u001b[0m\u001b[0;34m.\u001b[0m\u001b[0m_getitem_multilevel\u001b[0m\u001b[0;34m(\u001b[0m\u001b[0mkey\u001b[0m\u001b[0;34m)\u001b[0m\u001b[0;34m\u001b[0m\u001b[0m\n\u001b[1;32m   2058\u001b[0m         \u001b[0;32melse\u001b[0m\u001b[0;34m:\u001b[0m\u001b[0;34m\u001b[0m\u001b[0m\n\u001b[0;32m-> 2059\u001b[0;31m             \u001b[0;32mreturn\u001b[0m \u001b[0mself\u001b[0m\u001b[0;34m.\u001b[0m\u001b[0m_getitem_column\u001b[0m\u001b[0;34m(\u001b[0m\u001b[0mkey\u001b[0m\u001b[0;34m)\u001b[0m\u001b[0;34m\u001b[0m\u001b[0m\n\u001b[0m\u001b[1;32m   2060\u001b[0m \u001b[0;34m\u001b[0m\u001b[0m\n\u001b[1;32m   2061\u001b[0m     \u001b[0;32mdef\u001b[0m \u001b[0m_getitem_column\u001b[0m\u001b[0;34m(\u001b[0m\u001b[0mself\u001b[0m\u001b[0;34m,\u001b[0m \u001b[0mkey\u001b[0m\u001b[0;34m)\u001b[0m\u001b[0;34m:\u001b[0m\u001b[0;34m\u001b[0m\u001b[0m\n",
      "\u001b[0;32m/home/paul/anaconda3/lib/python3.6/site-packages/pandas/core/frame.py\u001b[0m in \u001b[0;36m_getitem_column\u001b[0;34m(self, key)\u001b[0m\n\u001b[1;32m   2064\u001b[0m         \u001b[0;31m# get column\u001b[0m\u001b[0;34m\u001b[0m\u001b[0;34m\u001b[0m\u001b[0m\n\u001b[1;32m   2065\u001b[0m         \u001b[0;32mif\u001b[0m \u001b[0mself\u001b[0m\u001b[0;34m.\u001b[0m\u001b[0mcolumns\u001b[0m\u001b[0;34m.\u001b[0m\u001b[0mis_unique\u001b[0m\u001b[0;34m:\u001b[0m\u001b[0;34m\u001b[0m\u001b[0m\n\u001b[0;32m-> 2066\u001b[0;31m             \u001b[0;32mreturn\u001b[0m \u001b[0mself\u001b[0m\u001b[0;34m.\u001b[0m\u001b[0m_get_item_cache\u001b[0m\u001b[0;34m(\u001b[0m\u001b[0mkey\u001b[0m\u001b[0;34m)\u001b[0m\u001b[0;34m\u001b[0m\u001b[0m\n\u001b[0m\u001b[1;32m   2067\u001b[0m \u001b[0;34m\u001b[0m\u001b[0m\n\u001b[1;32m   2068\u001b[0m         \u001b[0;31m# duplicate columns & possible reduce dimensionality\u001b[0m\u001b[0;34m\u001b[0m\u001b[0;34m\u001b[0m\u001b[0m\n",
      "\u001b[0;32m/home/paul/anaconda3/lib/python3.6/site-packages/pandas/core/generic.py\u001b[0m in \u001b[0;36m_get_item_cache\u001b[0;34m(self, item)\u001b[0m\n\u001b[1;32m   1384\u001b[0m         \u001b[0mres\u001b[0m \u001b[0;34m=\u001b[0m \u001b[0mcache\u001b[0m\u001b[0;34m.\u001b[0m\u001b[0mget\u001b[0m\u001b[0;34m(\u001b[0m\u001b[0mitem\u001b[0m\u001b[0;34m)\u001b[0m\u001b[0;34m\u001b[0m\u001b[0m\n\u001b[1;32m   1385\u001b[0m         \u001b[0;32mif\u001b[0m \u001b[0mres\u001b[0m \u001b[0;32mis\u001b[0m \u001b[0;32mNone\u001b[0m\u001b[0;34m:\u001b[0m\u001b[0;34m\u001b[0m\u001b[0m\n\u001b[0;32m-> 1386\u001b[0;31m             \u001b[0mvalues\u001b[0m \u001b[0;34m=\u001b[0m \u001b[0mself\u001b[0m\u001b[0;34m.\u001b[0m\u001b[0m_data\u001b[0m\u001b[0;34m.\u001b[0m\u001b[0mget\u001b[0m\u001b[0;34m(\u001b[0m\u001b[0mitem\u001b[0m\u001b[0;34m)\u001b[0m\u001b[0;34m\u001b[0m\u001b[0m\n\u001b[0m\u001b[1;32m   1387\u001b[0m             \u001b[0mres\u001b[0m \u001b[0;34m=\u001b[0m \u001b[0mself\u001b[0m\u001b[0;34m.\u001b[0m\u001b[0m_box_item_values\u001b[0m\u001b[0;34m(\u001b[0m\u001b[0mitem\u001b[0m\u001b[0;34m,\u001b[0m \u001b[0mvalues\u001b[0m\u001b[0;34m)\u001b[0m\u001b[0;34m\u001b[0m\u001b[0m\n\u001b[1;32m   1388\u001b[0m             \u001b[0mcache\u001b[0m\u001b[0;34m[\u001b[0m\u001b[0mitem\u001b[0m\u001b[0;34m]\u001b[0m \u001b[0;34m=\u001b[0m \u001b[0mres\u001b[0m\u001b[0;34m\u001b[0m\u001b[0m\n",
      "\u001b[0;32m/home/paul/anaconda3/lib/python3.6/site-packages/pandas/core/internals.py\u001b[0m in \u001b[0;36mget\u001b[0;34m(self, item, fastpath)\u001b[0m\n\u001b[1;32m   3541\u001b[0m \u001b[0;34m\u001b[0m\u001b[0m\n\u001b[1;32m   3542\u001b[0m             \u001b[0;32mif\u001b[0m \u001b[0;32mnot\u001b[0m \u001b[0misnull\u001b[0m\u001b[0;34m(\u001b[0m\u001b[0mitem\u001b[0m\u001b[0;34m)\u001b[0m\u001b[0;34m:\u001b[0m\u001b[0;34m\u001b[0m\u001b[0m\n\u001b[0;32m-> 3543\u001b[0;31m                 \u001b[0mloc\u001b[0m \u001b[0;34m=\u001b[0m \u001b[0mself\u001b[0m\u001b[0;34m.\u001b[0m\u001b[0mitems\u001b[0m\u001b[0;34m.\u001b[0m\u001b[0mget_loc\u001b[0m\u001b[0;34m(\u001b[0m\u001b[0mitem\u001b[0m\u001b[0;34m)\u001b[0m\u001b[0;34m\u001b[0m\u001b[0m\n\u001b[0m\u001b[1;32m   3544\u001b[0m             \u001b[0;32melse\u001b[0m\u001b[0;34m:\u001b[0m\u001b[0;34m\u001b[0m\u001b[0m\n\u001b[1;32m   3545\u001b[0m                 \u001b[0mindexer\u001b[0m \u001b[0;34m=\u001b[0m \u001b[0mnp\u001b[0m\u001b[0;34m.\u001b[0m\u001b[0marange\u001b[0m\u001b[0;34m(\u001b[0m\u001b[0mlen\u001b[0m\u001b[0;34m(\u001b[0m\u001b[0mself\u001b[0m\u001b[0;34m.\u001b[0m\u001b[0mitems\u001b[0m\u001b[0;34m)\u001b[0m\u001b[0;34m)\u001b[0m\u001b[0;34m[\u001b[0m\u001b[0misnull\u001b[0m\u001b[0;34m(\u001b[0m\u001b[0mself\u001b[0m\u001b[0;34m.\u001b[0m\u001b[0mitems\u001b[0m\u001b[0;34m)\u001b[0m\u001b[0;34m]\u001b[0m\u001b[0;34m\u001b[0m\u001b[0m\n",
      "\u001b[0;32m/home/paul/anaconda3/lib/python3.6/site-packages/pandas/indexes/base.py\u001b[0m in \u001b[0;36mget_loc\u001b[0;34m(self, key, method, tolerance)\u001b[0m\n\u001b[1;32m   2134\u001b[0m                 \u001b[0;32mreturn\u001b[0m \u001b[0mself\u001b[0m\u001b[0;34m.\u001b[0m\u001b[0m_engine\u001b[0m\u001b[0;34m.\u001b[0m\u001b[0mget_loc\u001b[0m\u001b[0;34m(\u001b[0m\u001b[0mkey\u001b[0m\u001b[0;34m)\u001b[0m\u001b[0;34m\u001b[0m\u001b[0m\n\u001b[1;32m   2135\u001b[0m             \u001b[0;32mexcept\u001b[0m \u001b[0mKeyError\u001b[0m\u001b[0;34m:\u001b[0m\u001b[0;34m\u001b[0m\u001b[0m\n\u001b[0;32m-> 2136\u001b[0;31m                 \u001b[0;32mreturn\u001b[0m \u001b[0mself\u001b[0m\u001b[0;34m.\u001b[0m\u001b[0m_engine\u001b[0m\u001b[0;34m.\u001b[0m\u001b[0mget_loc\u001b[0m\u001b[0;34m(\u001b[0m\u001b[0mself\u001b[0m\u001b[0;34m.\u001b[0m\u001b[0m_maybe_cast_indexer\u001b[0m\u001b[0;34m(\u001b[0m\u001b[0mkey\u001b[0m\u001b[0;34m)\u001b[0m\u001b[0;34m)\u001b[0m\u001b[0;34m\u001b[0m\u001b[0m\n\u001b[0m\u001b[1;32m   2137\u001b[0m \u001b[0;34m\u001b[0m\u001b[0m\n\u001b[1;32m   2138\u001b[0m         \u001b[0mindexer\u001b[0m \u001b[0;34m=\u001b[0m \u001b[0mself\u001b[0m\u001b[0;34m.\u001b[0m\u001b[0mget_indexer\u001b[0m\u001b[0;34m(\u001b[0m\u001b[0;34m[\u001b[0m\u001b[0mkey\u001b[0m\u001b[0;34m]\u001b[0m\u001b[0;34m,\u001b[0m \u001b[0mmethod\u001b[0m\u001b[0;34m=\u001b[0m\u001b[0mmethod\u001b[0m\u001b[0;34m,\u001b[0m \u001b[0mtolerance\u001b[0m\u001b[0;34m=\u001b[0m\u001b[0mtolerance\u001b[0m\u001b[0;34m)\u001b[0m\u001b[0;34m\u001b[0m\u001b[0m\n",
      "\u001b[0;32mpandas/index.pyx\u001b[0m in \u001b[0;36mpandas.index.IndexEngine.get_loc (pandas/index.c:4433)\u001b[0;34m()\u001b[0m\n",
      "\u001b[0;32mpandas/index.pyx\u001b[0m in \u001b[0;36mpandas.index.IndexEngine.get_loc (pandas/index.c:4279)\u001b[0;34m()\u001b[0m\n",
      "\u001b[0;32mpandas/src/hashtable_class_helper.pxi\u001b[0m in \u001b[0;36mpandas.hashtable.PyObjectHashTable.get_item (pandas/hashtable.c:13742)\u001b[0;34m()\u001b[0m\n",
      "\u001b[0;32mpandas/src/hashtable_class_helper.pxi\u001b[0m in \u001b[0;36mpandas.hashtable.PyObjectHashTable.get_item (pandas/hashtable.c:13696)\u001b[0;34m()\u001b[0m\n",
      "\u001b[0;31mKeyError\u001b[0m: 'predicted'"
     ]
    }
   ],
   "source": [
    "predicted = df['predicted']"
   ]
  },
  {
   "cell_type": "code",
   "execution_count": 184,
   "metadata": {
    "collapsed": false
   },
   "outputs": [],
   "source": [
    "target = df['quality']"
   ]
  },
  {
   "cell_type": "code",
   "execution_count": 2,
   "metadata": {
    "collapsed": false,
    "scrolled": true
   },
   "outputs": [],
   "source": [
    "# Max features = 2000\n",
    "print(metrics.classification_report(target, predicted))"
   ]
  },
  {
   "cell_type": "code",
   "execution_count": 147,
   "metadata": {
    "collapsed": false,
    "scrolled": true
   },
   "outputs": [
    {
     "name": "stdout",
     "output_type": "stream",
     "text": [
      "             precision    recall  f1-score   support\n",
      "\n",
      "      False       0.87      0.92      0.89      2836\n",
      "       True       0.72      0.60      0.65       977\n",
      "\n",
      "avg / total       0.83      0.84      0.83      3813\n",
      "\n"
     ]
    }
   ],
   "source": [
    "# Max features = 2000\n",
    "print(metrics.classification_report(target, predicted))"
   ]
  },
  {
   "cell_type": "code",
   "execution_count": 149,
   "metadata": {
    "collapsed": false
   },
   "outputs": [],
   "source": [
    "# data2 = withheld['text']\n",
    "# target2 = withheld['quality']"
   ]
  },
  {
   "cell_type": "code",
   "execution_count": null,
   "metadata": {
    "collapsed": true
   },
   "outputs": [],
   "source": [
    "predicted2 = test_pipeline.predict(data2)"
   ]
  },
  {
   "cell_type": "code",
   "execution_count": null,
   "metadata": {
    "collapsed": false
   },
   "outputs": [],
   "source": [
    "predicted2 = pd.DataFrame(predicted2)"
   ]
  },
  {
   "cell_type": "code",
   "execution_count": null,
   "metadata": {
    "collapsed": false
   },
   "outputs": [],
   "source": [
    "# Max features = 2000\n",
    "print(metrics.classification_report(target, predicted))"
   ]
  },
  {
   "cell_type": "code",
   "execution_count": null,
   "metadata": {
    "collapsed": false
   },
   "outputs": [],
   "source": [
    "withheld = withheld.join(predicted2)"
   ]
  },
  {
   "cell_type": "code",
   "execution_count": null,
   "metadata": {
    "collapsed": true
   },
   "outputs": [],
   "source": [
    "withheld.rename(columns = {0:'predicted'}, inplace=True)"
   ]
  },
  {
   "cell_type": "code",
   "execution_count": null,
   "metadata": {
    "collapsed": false
   },
   "outputs": [],
   "source": [
    "withheld.query('predicted == True').shape"
   ]
  },
  {
   "cell_type": "code",
   "execution_count": null,
   "metadata": {
    "collapsed": true
   },
   "outputs": [],
   "source": [
    "metrics.classification_report?"
   ]
  },
  {
   "cell_type": "code",
   "execution_count": null,
   "metadata": {
    "collapsed": false
   },
   "outputs": [],
   "source": [
    "# Max features = 2500\n",
    "print(metrics.classification_report(target, predicted))"
   ]
  },
  {
   "cell_type": "code",
   "execution_count": 342,
   "metadata": {
    "collapsed": true
   },
   "outputs": [],
   "source": [
    "pickle.dump( naivebayes, open( \"fit_naive_bayes.p\", \"wb\" ) )"
   ]
  },
  {
   "cell_type": "code",
   "execution_count": 6,
   "metadata": {
    "collapsed": true
   },
   "outputs": [],
   "source": [
    "naivebayes = pickle.load(open(\"fit_naive_bayes.p\", \"rb\"))"
   ]
  },
  {
   "cell_type": "markdown",
   "metadata": {},
   "source": [
    "## Explore Assignments"
   ]
  },
  {
   "cell_type": "code",
   "execution_count": 218,
   "metadata": {
    "collapsed": false
   },
   "outputs": [],
   "source": [
    "true_positive = df.query(\"predicted == True\").query(\"quality == True\")"
   ]
  },
  {
   "cell_type": "code",
   "execution_count": 219,
   "metadata": {
    "collapsed": false
   },
   "outputs": [
    {
     "data": {
      "text/plain": [
       "(449, 5)"
      ]
     },
     "execution_count": 219,
     "metadata": {},
     "output_type": "execute_result"
    }
   ],
   "source": [
    "true_positive.shape"
   ]
  },
  {
   "cell_type": "code",
   "execution_count": 220,
   "metadata": {
    "collapsed": false,
    "scrolled": false
   },
   "outputs": [],
   "source": [
    "true_positive.reset_index(inplace=True)"
   ]
  },
  {
   "cell_type": "code",
   "execution_count": 221,
   "metadata": {
    "collapsed": false
   },
   "outputs": [],
   "source": [
    "true_positive.drop('index',axis=1,inplace=True)"
   ]
  },
  {
   "cell_type": "code",
   "execution_count": 222,
   "metadata": {
    "collapsed": false,
    "scrolled": false
   },
   "outputs": [
    {
     "data": {
      "text/html": [
       "<div>\n",
       "<table border=\"1\" class=\"dataframe\">\n",
       "  <thead>\n",
       "    <tr style=\"text-align: right;\">\n",
       "      <th></th>\n",
       "      <th>_id</th>\n",
       "      <th>quality</th>\n",
       "      <th>text</th>\n",
       "      <th>url</th>\n",
       "      <th>predicted</th>\n",
       "    </tr>\n",
       "  </thead>\n",
       "  <tbody>\n",
       "    <tr>\n",
       "      <th>0</th>\n",
       "      <td>593edbbd29d4b520f09f7987</td>\n",
       "      <td>True</td>\n",
       "      <td>b'b\\'  ACM Sign In Search Go  Join ACM About C...</td>\n",
       "      <td>https://cacm.acm.org/blogs/blog-cacm/169199-da...</td>\n",
       "      <td>True</td>\n",
       "    </tr>\n",
       "    <tr>\n",
       "      <th>1</th>\n",
       "      <td>593edbbe29d4b520f09f7988</td>\n",
       "      <td>True</td>\n",
       "      <td>b'b\\'CoolData blog  December  Amazing things w...</td>\n",
       "      <td>https://cooldata.wordpress.com/2016/12/05/amaz...</td>\n",
       "      <td>True</td>\n",
       "    </tr>\n",
       "    <tr>\n",
       "      <th>2</th>\n",
       "      <td>593edbbe29d4b520f09f7989</td>\n",
       "      <td>True</td>\n",
       "      <td>b'b\\'CoolData blog  July  Getting bitten by  P...</td>\n",
       "      <td>https://cooldata.wordpress.com/2013/07/30/gett...</td>\n",
       "      <td>True</td>\n",
       "    </tr>\n",
       "    <tr>\n",
       "      <th>3</th>\n",
       "      <td>593edbbf29d4b520f09f798a</td>\n",
       "      <td>True</td>\n",
       "      <td>b'b\\'CoolData blog  April  Data I want to play...</td>\n",
       "      <td>https://cooldata.wordpress.com/2012/04/24/data...</td>\n",
       "      <td>True</td>\n",
       "    </tr>\n",
       "    <tr>\n",
       "      <th>4</th>\n",
       "      <td>593edbbf29d4b520f09f798b</td>\n",
       "      <td>True</td>\n",
       "      <td>b'b\\'CoolData blog  February  Data disasters, ...</td>\n",
       "      <td>https://cooldata.wordpress.com/2011/02/22/data...</td>\n",
       "      <td>True</td>\n",
       "    </tr>\n",
       "    <tr>\n",
       "      <th>5</th>\n",
       "      <td>593edbc029d4b520f09f798c</td>\n",
       "      <td>True</td>\n",
       "      <td>b'b\\'CoolData blog  January  New finds in old ...</td>\n",
       "      <td>https://cooldata.wordpress.com/2015/01/07/new-...</td>\n",
       "      <td>True</td>\n",
       "    </tr>\n",
       "    <tr>\n",
       "      <th>6</th>\n",
       "      <td>593edbc029d4b520f09f798d</td>\n",
       "      <td>True</td>\n",
       "      <td>b'b\\'CoolData blog  September  What predictor ...</td>\n",
       "      <td>https://cooldata.wordpress.com/2014/09/22/what...</td>\n",
       "      <td>True</td>\n",
       "    </tr>\n",
       "    <tr>\n",
       "      <th>7</th>\n",
       "      <td>593edbc129d4b520f09f798e</td>\n",
       "      <td>True</td>\n",
       "      <td>b'b\\'CoolData blog  June  Time management for ...</td>\n",
       "      <td>https://cooldata.wordpress.com/2013/06/27/time...</td>\n",
       "      <td>True</td>\n",
       "    </tr>\n",
       "    <tr>\n",
       "      <th>8</th>\n",
       "      <td>593edbc129d4b520f09f798f</td>\n",
       "      <td>True</td>\n",
       "      <td>b'b\\'CoolData blog  August  Exploring associat...</td>\n",
       "      <td>https://cooldata.wordpress.com/2015/08/26/expl...</td>\n",
       "      <td>True</td>\n",
       "    </tr>\n",
       "    <tr>\n",
       "      <th>9</th>\n",
       "      <td>593edbc129d4b520f09f7990</td>\n",
       "      <td>True</td>\n",
       "      <td>b'b\\'Data Science  Search Primary Menu Skip to...</td>\n",
       "      <td>http://101.datascience.community/2016/09/22/da...</td>\n",
       "      <td>True</td>\n",
       "    </tr>\n",
       "    <tr>\n",
       "      <th>10</th>\n",
       "      <td>593edbc129d4b520f09f7991</td>\n",
       "      <td>True</td>\n",
       "      <td>b'b\\'Data Science  Search Primary Menu Skip to...</td>\n",
       "      <td>http://101.datascience.community/2016/04/19/ge...</td>\n",
       "      <td>True</td>\n",
       "    </tr>\n",
       "    <tr>\n",
       "      <th>11</th>\n",
       "      <td>593edbc229d4b520f09f7992</td>\n",
       "      <td>True</td>\n",
       "      <td>b'b\\'Data Science  Search Primary Menu Skip to...</td>\n",
       "      <td>http://101.datascience.community/2014/10/17/da...</td>\n",
       "      <td>True</td>\n",
       "    </tr>\n",
       "    <tr>\n",
       "      <th>12</th>\n",
       "      <td>593edbc229d4b520f09f7993</td>\n",
       "      <td>True</td>\n",
       "      <td>b'b\\'Data Science  Search Primary Menu Skip to...</td>\n",
       "      <td>http://101.datascience.community/2014/10/17/da...</td>\n",
       "      <td>True</td>\n",
       "    </tr>\n",
       "    <tr>\n",
       "      <th>13</th>\n",
       "      <td>593edbc229d4b520f09f7994</td>\n",
       "      <td>True</td>\n",
       "      <td>b'b\\'Data Science  Search Primary Menu Skip to...</td>\n",
       "      <td>http://101.datascience.community/2016/06/16/ho...</td>\n",
       "      <td>True</td>\n",
       "    </tr>\n",
       "    <tr>\n",
       "      <th>14</th>\n",
       "      <td>593edbc229d4b520f09f7995</td>\n",
       "      <td>True</td>\n",
       "      <td>b'b\\'Data Science  Search Primary Menu Skip to...</td>\n",
       "      <td>http://101.datascience.community/2016/04/21/ti...</td>\n",
       "      <td>True</td>\n",
       "    </tr>\n",
       "    <tr>\n",
       "      <th>15</th>\n",
       "      <td>593edbc229d4b520f09f7996</td>\n",
       "      <td>True</td>\n",
       "      <td>b'b\\'Data Science  Search Primary Menu Skip to...</td>\n",
       "      <td>http://101.datascience.community/2015/12/21/th...</td>\n",
       "      <td>True</td>\n",
       "    </tr>\n",
       "    <tr>\n",
       "      <th>16</th>\n",
       "      <td>593edbc229d4b520f09f7997</td>\n",
       "      <td>True</td>\n",
       "      <td>b'b\\'Data Science  Search Primary Menu Skip to...</td>\n",
       "      <td>http://101.datascience.community/2015/05/26/da...</td>\n",
       "      <td>True</td>\n",
       "    </tr>\n",
       "    <tr>\n",
       "      <th>17</th>\n",
       "      <td>593edbc229d4b520f09f7998</td>\n",
       "      <td>True</td>\n",
       "      <td>b'b\\'Data Science  Search Primary Menu Skip to...</td>\n",
       "      <td>http://101.datascience.community/2013/06/11/de...</td>\n",
       "      <td>True</td>\n",
       "    </tr>\n",
       "    <tr>\n",
       "      <th>18</th>\n",
       "      <td>593edbc329d4b520f09f799a</td>\n",
       "      <td>True</td>\n",
       "      <td>b'b\"Toggle navigation  Biography Blog Contact ...</td>\n",
       "      <td>http://inverseprobability.com/2017/01/12/data-...</td>\n",
       "      <td>True</td>\n",
       "    </tr>\n",
       "    <tr>\n",
       "      <th>19</th>\n",
       "      <td>593edbc329d4b520f09f799b</td>\n",
       "      <td>True</td>\n",
       "      <td>b'b\"Toggle navigation  Biography Blog Contact ...</td>\n",
       "      <td>http://inverseprobability.com/2016/07/01/data-...</td>\n",
       "      <td>True</td>\n",
       "    </tr>\n",
       "    <tr>\n",
       "      <th>20</th>\n",
       "      <td>593edbc329d4b520f09f799c</td>\n",
       "      <td>True</td>\n",
       "      <td>b'b\"Toggle navigation  Biography Blog Contact ...</td>\n",
       "      <td>http://inverseprobability.com/2016/03/04/deep-...</td>\n",
       "      <td>True</td>\n",
       "    </tr>\n",
       "    <tr>\n",
       "      <th>21</th>\n",
       "      <td>593edbc329d4b520f09f799d</td>\n",
       "      <td>True</td>\n",
       "      <td>b'b\"Toggle navigation  Biography Blog Contact ...</td>\n",
       "      <td>http://inverseprobability.com/2016/02/29/futur...</td>\n",
       "      <td>True</td>\n",
       "    </tr>\n",
       "    <tr>\n",
       "      <th>22</th>\n",
       "      <td>593edbc329d4b520f09f799f</td>\n",
       "      <td>True</td>\n",
       "      <td>b'b\"Toggle navigation  Biography Blog Contact ...</td>\n",
       "      <td>http://inverseprobability.com/2016/01/17/machi...</td>\n",
       "      <td>True</td>\n",
       "    </tr>\n",
       "    <tr>\n",
       "      <th>23</th>\n",
       "      <td>593edbc429d4b520f09f79a0</td>\n",
       "      <td>True</td>\n",
       "      <td>b'b\"Toggle navigation  Biography Blog Contact ...</td>\n",
       "      <td>http://inverseprobability.com/2016/01/17/machi...</td>\n",
       "      <td>True</td>\n",
       "    </tr>\n",
       "    <tr>\n",
       "      <th>24</th>\n",
       "      <td>593edbc429d4b520f09f79a1</td>\n",
       "      <td>True</td>\n",
       "      <td>b'b\"Toggle navigation  Biography Blog Contact ...</td>\n",
       "      <td>http://inverseprobability.com/2016/04/22/machi...</td>\n",
       "      <td>True</td>\n",
       "    </tr>\n",
       "    <tr>\n",
       "      <th>25</th>\n",
       "      <td>593edbc429d4b520f09f79a2</td>\n",
       "      <td>True</td>\n",
       "      <td>b'b\"Toggle navigation  Biography Blog Contact ...</td>\n",
       "      <td>http://inverseprobability.com/2016/05/09/machi...</td>\n",
       "      <td>True</td>\n",
       "    </tr>\n",
       "    <tr>\n",
       "      <th>26</th>\n",
       "      <td>593edbc429d4b520f09f79a3</td>\n",
       "      <td>True</td>\n",
       "      <td>b'b\"Toggle navigation  Biography Blog Contact ...</td>\n",
       "      <td>http://inverseprobability.com/2016/05/09/machi...</td>\n",
       "      <td>True</td>\n",
       "    </tr>\n",
       "    <tr>\n",
       "      <th>27</th>\n",
       "      <td>593edbc529d4b520f09f79a7</td>\n",
       "      <td>True</td>\n",
       "      <td>b'b\"KDnuggets Subscribe to KDnuggets News | | ...</td>\n",
       "      <td>http://www.kdnuggets.com/2017/05/deep-learning...</td>\n",
       "      <td>True</td>\n",
       "    </tr>\n",
       "    <tr>\n",
       "      <th>28</th>\n",
       "      <td>593edbc529d4b520f09f79a9</td>\n",
       "      <td>True</td>\n",
       "      <td>b'b\\'KDnuggets Subscribe to KDnuggets News | |...</td>\n",
       "      <td>http://www.kdnuggets.com/2017/02/natural-langu...</td>\n",
       "      <td>True</td>\n",
       "    </tr>\n",
       "    <tr>\n",
       "      <th>29</th>\n",
       "      <td>593edbc629d4b520f09f79ab</td>\n",
       "      <td>True</td>\n",
       "      <td>b'b\"KDnuggets Subscribe to KDnuggets News | | ...</td>\n",
       "      <td>http://www.kdnuggets.com/2015/05/top-10-data-m...</td>\n",
       "      <td>True</td>\n",
       "    </tr>\n",
       "    <tr>\n",
       "      <th>30</th>\n",
       "      <td>593edbc629d4b520f09f79ac</td>\n",
       "      <td>True</td>\n",
       "      <td>b'b\"KDnuggets Subscribe to KDnuggets News | | ...</td>\n",
       "      <td>http://www.kdnuggets.com/2017/05/deep-learning...</td>\n",
       "      <td>True</td>\n",
       "    </tr>\n",
       "    <tr>\n",
       "      <th>31</th>\n",
       "      <td>593edbcc29d4b520f09f79ad</td>\n",
       "      <td>True</td>\n",
       "      <td>b'b\"KDnuggets Subscribe to KDnuggets News | | ...</td>\n",
       "      <td>http://www.kdnuggets.com/2017/05/must-know-mos...</td>\n",
       "      <td>True</td>\n",
       "    </tr>\n",
       "    <tr>\n",
       "      <th>32</th>\n",
       "      <td>593edbcc29d4b520f09f79ae</td>\n",
       "      <td>True</td>\n",
       "      <td>b'b\\'KDnuggets Subscribe to KDnuggets News | |...</td>\n",
       "      <td>http://www.kdnuggets.com/2017/04/10-free-must-...</td>\n",
       "      <td>True</td>\n",
       "    </tr>\n",
       "    <tr>\n",
       "      <th>33</th>\n",
       "      <td>593edbd529d4b520f09f79b5</td>\n",
       "      <td>True</td>\n",
       "      <td>b\"b'Sign in Menu Home News/Blog Research Progr...</td>\n",
       "      <td>https://www.turing.ac.uk/news/computer-bots-li...</td>\n",
       "      <td>True</td>\n",
       "    </tr>\n",
       "    <tr>\n",
       "      <th>34</th>\n",
       "      <td>593edbe229d4b520f09f79d1</td>\n",
       "      <td>True</td>\n",
       "      <td>b'b\\'This web site uses cookies to improve you...</td>\n",
       "      <td>http://www.zdnet.com/article/predictive-analyt...</td>\n",
       "      <td>True</td>\n",
       "    </tr>\n",
       "    <tr>\n",
       "      <th>35</th>\n",
       "      <td>593edbe329d4b520f09f79d3</td>\n",
       "      <td>True</td>\n",
       "      <td>b'b\\'We\\\\\\'re hiring! |     Blog Home Blog Hom...</td>\n",
       "      <td>https://blog.dominodatalab.com/imbalanced-data...</td>\n",
       "      <td>True</td>\n",
       "    </tr>\n",
       "    <tr>\n",
       "      <th>36</th>\n",
       "      <td>593edbe429d4b520f09f79d4</td>\n",
       "      <td>True</td>\n",
       "      <td>b'b\\'We\\\\\\'re hiring! |     Blog Home Blog Hom...</td>\n",
       "      <td>https://blog.dominodatalab.com/alternative-dat...</td>\n",
       "      <td>True</td>\n",
       "    </tr>\n",
       "    <tr>\n",
       "      <th>37</th>\n",
       "      <td>593edbe529d4b520f09f79d5</td>\n",
       "      <td>True</td>\n",
       "      <td>b'b\"We\\'re hiring! |     Blog Home Blog Home L...</td>\n",
       "      <td>https://blog.dominodatalab.com/cost-data-scien...</td>\n",
       "      <td>True</td>\n",
       "    </tr>\n",
       "    <tr>\n",
       "      <th>38</th>\n",
       "      <td>593edbe529d4b520f09f79d6</td>\n",
       "      <td>True</td>\n",
       "      <td>b'b\\'We\\\\\\'re hiring! |     Blog Home Blog Hom...</td>\n",
       "      <td>https://blog.dominodatalab.com/benchmarking-pr...</td>\n",
       "      <td>True</td>\n",
       "    </tr>\n",
       "    <tr>\n",
       "      <th>39</th>\n",
       "      <td>593edbe629d4b520f09f79d8</td>\n",
       "      <td>True</td>\n",
       "      <td>b'b\\'We\\\\\\'re hiring! |     Blog Home Blog Hom...</td>\n",
       "      <td>https://blog.dominodatalab.com/collaboration-d...</td>\n",
       "      <td>True</td>\n",
       "    </tr>\n",
       "    <tr>\n",
       "      <th>40</th>\n",
       "      <td>593edbe729d4b520f09f79d9</td>\n",
       "      <td>True</td>\n",
       "      <td>b'b\"We\\'re hiring! |     Blog Home Blog Home L...</td>\n",
       "      <td>https://blog.dominodatalab.com/building-model-...</td>\n",
       "      <td>True</td>\n",
       "    </tr>\n",
       "    <tr>\n",
       "      <th>41</th>\n",
       "      <td>593edbe829d4b520f09f79da</td>\n",
       "      <td>True</td>\n",
       "      <td>b'b\\'We\\\\\\'re hiring! |     Blog Home Blog Hom...</td>\n",
       "      <td>https://blog.dominodatalab.com/fitting-gaussia...</td>\n",
       "      <td>True</td>\n",
       "    </tr>\n",
       "    <tr>\n",
       "      <th>42</th>\n",
       "      <td>593edbe929d4b520f09f79dc</td>\n",
       "      <td>True</td>\n",
       "      <td>b'b\\'We\\\\\\'re hiring! |     Blog Home Blog Hom...</td>\n",
       "      <td>https://blog.dominodatalab.com/an-introduction...</td>\n",
       "      <td>True</td>\n",
       "    </tr>\n",
       "    <tr>\n",
       "      <th>43</th>\n",
       "      <td>593edbea29d4b520f09f79de</td>\n",
       "      <td>True</td>\n",
       "      <td>b'b\\'We\\\\\\'re hiring! |     Blog Home Blog Hom...</td>\n",
       "      <td>https://blog.dominodatalab.com/ugly-little-bit...</td>\n",
       "      <td>True</td>\n",
       "    </tr>\n",
       "    <tr>\n",
       "      <th>44</th>\n",
       "      <td>593edbeb29d4b520f09f79e0</td>\n",
       "      <td>True</td>\n",
       "      <td>b'b\\'  Reporting Solutions Healthcare Data Pro...</td>\n",
       "      <td>http://www.juiceanalytics.com/writing/data-sto...</td>\n",
       "      <td>True</td>\n",
       "    </tr>\n",
       "    <tr>\n",
       "      <th>45</th>\n",
       "      <td>593edbec29d4b520f09f79e1</td>\n",
       "      <td>True</td>\n",
       "      <td>b'b\\'  Reporting Solutions Healthcare Data Pro...</td>\n",
       "      <td>http://www.juiceanalytics.com/writing/3-jobs-e...</td>\n",
       "      <td>True</td>\n",
       "    </tr>\n",
       "    <tr>\n",
       "      <th>46</th>\n",
       "      <td>593edbed29d4b520f09f79e2</td>\n",
       "      <td>True</td>\n",
       "      <td>b'b\\'  Reporting Solutions Healthcare Data Pro...</td>\n",
       "      <td>http://www.juiceanalytics.com/writing/lessons-...</td>\n",
       "      <td>True</td>\n",
       "    </tr>\n",
       "    <tr>\n",
       "      <th>47</th>\n",
       "      <td>593edc0329d4b520f09f79e3</td>\n",
       "      <td>True</td>\n",
       "      <td>b'b\\'  Reporting Solutions Healthcare Data Pro...</td>\n",
       "      <td>http://www.juiceanalytics.com/writing/taking-y...</td>\n",
       "      <td>True</td>\n",
       "    </tr>\n",
       "    <tr>\n",
       "      <th>48</th>\n",
       "      <td>593edc1429d4b520f09f79ec</td>\n",
       "      <td>True</td>\n",
       "      <td>b'b\\'  Reporting Solutions Healthcare Data Pro...</td>\n",
       "      <td>http://www.juiceanalytics.com/writing/5-design...</td>\n",
       "      <td>True</td>\n",
       "    </tr>\n",
       "    <tr>\n",
       "      <th>49</th>\n",
       "      <td>593edc1429d4b520f09f79ed</td>\n",
       "      <td>True</td>\n",
       "      <td>b'b\\'  Reporting Solutions Healthcare Data Pro...</td>\n",
       "      <td>http://www.juiceanalytics.com/writing/10-scree...</td>\n",
       "      <td>True</td>\n",
       "    </tr>\n",
       "  </tbody>\n",
       "</table>\n",
       "</div>"
      ],
      "text/plain": [
       "                         _id quality  \\\n",
       "0   593edbbd29d4b520f09f7987    True   \n",
       "1   593edbbe29d4b520f09f7988    True   \n",
       "2   593edbbe29d4b520f09f7989    True   \n",
       "3   593edbbf29d4b520f09f798a    True   \n",
       "4   593edbbf29d4b520f09f798b    True   \n",
       "5   593edbc029d4b520f09f798c    True   \n",
       "6   593edbc029d4b520f09f798d    True   \n",
       "7   593edbc129d4b520f09f798e    True   \n",
       "8   593edbc129d4b520f09f798f    True   \n",
       "9   593edbc129d4b520f09f7990    True   \n",
       "10  593edbc129d4b520f09f7991    True   \n",
       "11  593edbc229d4b520f09f7992    True   \n",
       "12  593edbc229d4b520f09f7993    True   \n",
       "13  593edbc229d4b520f09f7994    True   \n",
       "14  593edbc229d4b520f09f7995    True   \n",
       "15  593edbc229d4b520f09f7996    True   \n",
       "16  593edbc229d4b520f09f7997    True   \n",
       "17  593edbc229d4b520f09f7998    True   \n",
       "18  593edbc329d4b520f09f799a    True   \n",
       "19  593edbc329d4b520f09f799b    True   \n",
       "20  593edbc329d4b520f09f799c    True   \n",
       "21  593edbc329d4b520f09f799d    True   \n",
       "22  593edbc329d4b520f09f799f    True   \n",
       "23  593edbc429d4b520f09f79a0    True   \n",
       "24  593edbc429d4b520f09f79a1    True   \n",
       "25  593edbc429d4b520f09f79a2    True   \n",
       "26  593edbc429d4b520f09f79a3    True   \n",
       "27  593edbc529d4b520f09f79a7    True   \n",
       "28  593edbc529d4b520f09f79a9    True   \n",
       "29  593edbc629d4b520f09f79ab    True   \n",
       "30  593edbc629d4b520f09f79ac    True   \n",
       "31  593edbcc29d4b520f09f79ad    True   \n",
       "32  593edbcc29d4b520f09f79ae    True   \n",
       "33  593edbd529d4b520f09f79b5    True   \n",
       "34  593edbe229d4b520f09f79d1    True   \n",
       "35  593edbe329d4b520f09f79d3    True   \n",
       "36  593edbe429d4b520f09f79d4    True   \n",
       "37  593edbe529d4b520f09f79d5    True   \n",
       "38  593edbe529d4b520f09f79d6    True   \n",
       "39  593edbe629d4b520f09f79d8    True   \n",
       "40  593edbe729d4b520f09f79d9    True   \n",
       "41  593edbe829d4b520f09f79da    True   \n",
       "42  593edbe929d4b520f09f79dc    True   \n",
       "43  593edbea29d4b520f09f79de    True   \n",
       "44  593edbeb29d4b520f09f79e0    True   \n",
       "45  593edbec29d4b520f09f79e1    True   \n",
       "46  593edbed29d4b520f09f79e2    True   \n",
       "47  593edc0329d4b520f09f79e3    True   \n",
       "48  593edc1429d4b520f09f79ec    True   \n",
       "49  593edc1429d4b520f09f79ed    True   \n",
       "\n",
       "                                                 text  \\\n",
       "0   b'b\\'  ACM Sign In Search Go  Join ACM About C...   \n",
       "1   b'b\\'CoolData blog  December  Amazing things w...   \n",
       "2   b'b\\'CoolData blog  July  Getting bitten by  P...   \n",
       "3   b'b\\'CoolData blog  April  Data I want to play...   \n",
       "4   b'b\\'CoolData blog  February  Data disasters, ...   \n",
       "5   b'b\\'CoolData blog  January  New finds in old ...   \n",
       "6   b'b\\'CoolData blog  September  What predictor ...   \n",
       "7   b'b\\'CoolData blog  June  Time management for ...   \n",
       "8   b'b\\'CoolData blog  August  Exploring associat...   \n",
       "9   b'b\\'Data Science  Search Primary Menu Skip to...   \n",
       "10  b'b\\'Data Science  Search Primary Menu Skip to...   \n",
       "11  b'b\\'Data Science  Search Primary Menu Skip to...   \n",
       "12  b'b\\'Data Science  Search Primary Menu Skip to...   \n",
       "13  b'b\\'Data Science  Search Primary Menu Skip to...   \n",
       "14  b'b\\'Data Science  Search Primary Menu Skip to...   \n",
       "15  b'b\\'Data Science  Search Primary Menu Skip to...   \n",
       "16  b'b\\'Data Science  Search Primary Menu Skip to...   \n",
       "17  b'b\\'Data Science  Search Primary Menu Skip to...   \n",
       "18  b'b\"Toggle navigation  Biography Blog Contact ...   \n",
       "19  b'b\"Toggle navigation  Biography Blog Contact ...   \n",
       "20  b'b\"Toggle navigation  Biography Blog Contact ...   \n",
       "21  b'b\"Toggle navigation  Biography Blog Contact ...   \n",
       "22  b'b\"Toggle navigation  Biography Blog Contact ...   \n",
       "23  b'b\"Toggle navigation  Biography Blog Contact ...   \n",
       "24  b'b\"Toggle navigation  Biography Blog Contact ...   \n",
       "25  b'b\"Toggle navigation  Biography Blog Contact ...   \n",
       "26  b'b\"Toggle navigation  Biography Blog Contact ...   \n",
       "27  b'b\"KDnuggets Subscribe to KDnuggets News | | ...   \n",
       "28  b'b\\'KDnuggets Subscribe to KDnuggets News | |...   \n",
       "29  b'b\"KDnuggets Subscribe to KDnuggets News | | ...   \n",
       "30  b'b\"KDnuggets Subscribe to KDnuggets News | | ...   \n",
       "31  b'b\"KDnuggets Subscribe to KDnuggets News | | ...   \n",
       "32  b'b\\'KDnuggets Subscribe to KDnuggets News | |...   \n",
       "33  b\"b'Sign in Menu Home News/Blog Research Progr...   \n",
       "34  b'b\\'This web site uses cookies to improve you...   \n",
       "35  b'b\\'We\\\\\\'re hiring! |     Blog Home Blog Hom...   \n",
       "36  b'b\\'We\\\\\\'re hiring! |     Blog Home Blog Hom...   \n",
       "37  b'b\"We\\'re hiring! |     Blog Home Blog Home L...   \n",
       "38  b'b\\'We\\\\\\'re hiring! |     Blog Home Blog Hom...   \n",
       "39  b'b\\'We\\\\\\'re hiring! |     Blog Home Blog Hom...   \n",
       "40  b'b\"We\\'re hiring! |     Blog Home Blog Home L...   \n",
       "41  b'b\\'We\\\\\\'re hiring! |     Blog Home Blog Hom...   \n",
       "42  b'b\\'We\\\\\\'re hiring! |     Blog Home Blog Hom...   \n",
       "43  b'b\\'We\\\\\\'re hiring! |     Blog Home Blog Hom...   \n",
       "44  b'b\\'  Reporting Solutions Healthcare Data Pro...   \n",
       "45  b'b\\'  Reporting Solutions Healthcare Data Pro...   \n",
       "46  b'b\\'  Reporting Solutions Healthcare Data Pro...   \n",
       "47  b'b\\'  Reporting Solutions Healthcare Data Pro...   \n",
       "48  b'b\\'  Reporting Solutions Healthcare Data Pro...   \n",
       "49  b'b\\'  Reporting Solutions Healthcare Data Pro...   \n",
       "\n",
       "                                                  url predicted  \n",
       "0   https://cacm.acm.org/blogs/blog-cacm/169199-da...      True  \n",
       "1   https://cooldata.wordpress.com/2016/12/05/amaz...      True  \n",
       "2   https://cooldata.wordpress.com/2013/07/30/gett...      True  \n",
       "3   https://cooldata.wordpress.com/2012/04/24/data...      True  \n",
       "4   https://cooldata.wordpress.com/2011/02/22/data...      True  \n",
       "5   https://cooldata.wordpress.com/2015/01/07/new-...      True  \n",
       "6   https://cooldata.wordpress.com/2014/09/22/what...      True  \n",
       "7   https://cooldata.wordpress.com/2013/06/27/time...      True  \n",
       "8   https://cooldata.wordpress.com/2015/08/26/expl...      True  \n",
       "9   http://101.datascience.community/2016/09/22/da...      True  \n",
       "10  http://101.datascience.community/2016/04/19/ge...      True  \n",
       "11  http://101.datascience.community/2014/10/17/da...      True  \n",
       "12  http://101.datascience.community/2014/10/17/da...      True  \n",
       "13  http://101.datascience.community/2016/06/16/ho...      True  \n",
       "14  http://101.datascience.community/2016/04/21/ti...      True  \n",
       "15  http://101.datascience.community/2015/12/21/th...      True  \n",
       "16  http://101.datascience.community/2015/05/26/da...      True  \n",
       "17  http://101.datascience.community/2013/06/11/de...      True  \n",
       "18  http://inverseprobability.com/2017/01/12/data-...      True  \n",
       "19  http://inverseprobability.com/2016/07/01/data-...      True  \n",
       "20  http://inverseprobability.com/2016/03/04/deep-...      True  \n",
       "21  http://inverseprobability.com/2016/02/29/futur...      True  \n",
       "22  http://inverseprobability.com/2016/01/17/machi...      True  \n",
       "23  http://inverseprobability.com/2016/01/17/machi...      True  \n",
       "24  http://inverseprobability.com/2016/04/22/machi...      True  \n",
       "25  http://inverseprobability.com/2016/05/09/machi...      True  \n",
       "26  http://inverseprobability.com/2016/05/09/machi...      True  \n",
       "27  http://www.kdnuggets.com/2017/05/deep-learning...      True  \n",
       "28  http://www.kdnuggets.com/2017/02/natural-langu...      True  \n",
       "29  http://www.kdnuggets.com/2015/05/top-10-data-m...      True  \n",
       "30  http://www.kdnuggets.com/2017/05/deep-learning...      True  \n",
       "31  http://www.kdnuggets.com/2017/05/must-know-mos...      True  \n",
       "32  http://www.kdnuggets.com/2017/04/10-free-must-...      True  \n",
       "33  https://www.turing.ac.uk/news/computer-bots-li...      True  \n",
       "34  http://www.zdnet.com/article/predictive-analyt...      True  \n",
       "35  https://blog.dominodatalab.com/imbalanced-data...      True  \n",
       "36  https://blog.dominodatalab.com/alternative-dat...      True  \n",
       "37  https://blog.dominodatalab.com/cost-data-scien...      True  \n",
       "38  https://blog.dominodatalab.com/benchmarking-pr...      True  \n",
       "39  https://blog.dominodatalab.com/collaboration-d...      True  \n",
       "40  https://blog.dominodatalab.com/building-model-...      True  \n",
       "41  https://blog.dominodatalab.com/fitting-gaussia...      True  \n",
       "42  https://blog.dominodatalab.com/an-introduction...      True  \n",
       "43  https://blog.dominodatalab.com/ugly-little-bit...      True  \n",
       "44  http://www.juiceanalytics.com/writing/data-sto...      True  \n",
       "45  http://www.juiceanalytics.com/writing/3-jobs-e...      True  \n",
       "46  http://www.juiceanalytics.com/writing/lessons-...      True  \n",
       "47  http://www.juiceanalytics.com/writing/taking-y...      True  \n",
       "48  http://www.juiceanalytics.com/writing/5-design...      True  \n",
       "49  http://www.juiceanalytics.com/writing/10-scree...      True  "
      ]
     },
     "execution_count": 222,
     "metadata": {},
     "output_type": "execute_result"
    }
   ],
   "source": [
    "true_positive[:50]"
   ]
  },
  {
   "cell_type": "code",
   "execution_count": 97,
   "metadata": {
    "collapsed": true
   },
   "outputs": [],
   "source": [
    "false_positive = df.query('predicted == True').query('quality == False')"
   ]
  },
  {
   "cell_type": "code",
   "execution_count": 98,
   "metadata": {
    "collapsed": false,
    "scrolled": true
   },
   "outputs": [],
   "source": [
    "false_positive.reset_index(inplace=True)"
   ]
  },
  {
   "cell_type": "code",
   "execution_count": 99,
   "metadata": {
    "collapsed": true
   },
   "outputs": [],
   "source": [
    "false_positive.drop('index',axis=1,inplace=True)"
   ]
  },
  {
   "cell_type": "code",
   "execution_count": 100,
   "metadata": {
    "collapsed": false
   },
   "outputs": [
    {
     "data": {
      "text/plain": [
       "(205, 5)"
      ]
     },
     "execution_count": 100,
     "metadata": {},
     "output_type": "execute_result"
    }
   ],
   "source": [
    "false_positive.shape"
   ]
  },
  {
   "cell_type": "code",
   "execution_count": 106,
   "metadata": {
    "collapsed": false,
    "scrolled": false
   },
   "outputs": [
    {
     "data": {
      "text/html": [
       "<div>\n",
       "<table border=\"1\" class=\"dataframe\">\n",
       "  <thead>\n",
       "    <tr style=\"text-align: right;\">\n",
       "      <th></th>\n",
       "      <th>_id</th>\n",
       "      <th>quality</th>\n",
       "      <th>text</th>\n",
       "      <th>url</th>\n",
       "      <th>predicted</th>\n",
       "    </tr>\n",
       "  </thead>\n",
       "  <tbody>\n",
       "    <tr>\n",
       "      <th>200</th>\n",
       "      <td>593f8adbf7e49c258ed37fdd</td>\n",
       "      <td>False</td>\n",
       "      <td>b'b\\'Bandit Beta Rodeo New ScienceOps Company ...</td>\n",
       "      <td>http://blog.yhat.com/posts/rodeo-2.3.0.html</td>\n",
       "      <td>True</td>\n",
       "    </tr>\n",
       "    <tr>\n",
       "      <th>201</th>\n",
       "      <td>593f8addf7e49c258ed37fde</td>\n",
       "      <td>False</td>\n",
       "      <td>b'b\\'Bandit Beta Rodeo New ScienceOps Company ...</td>\n",
       "      <td>http://blog.yhat.com/posts/rodeo-2.0.6-datafra...</td>\n",
       "      <td>True</td>\n",
       "    </tr>\n",
       "    <tr>\n",
       "      <th>202</th>\n",
       "      <td>593f51e0f7e49c1f7a2906a1</td>\n",
       "      <td>False</td>\n",
       "      <td>b'b\\'Junk Charts Recycling chartjunk as junk a...</td>\n",
       "      <td>http://junkcharts.typepad.com/junk_charts/2017...</td>\n",
       "      <td>True</td>\n",
       "    </tr>\n",
       "    <tr>\n",
       "      <th>203</th>\n",
       "      <td>593f8621f7e49c258ed37f2e</td>\n",
       "      <td>False</td>\n",
       "      <td>b'b\\'Junk Charts Recycling chartjunk as junk a...</td>\n",
       "      <td>http://junkcharts.typepad.com/junk_charts/2016...</td>\n",
       "      <td>True</td>\n",
       "    </tr>\n",
       "    <tr>\n",
       "      <th>204</th>\n",
       "      <td>593f8545f7e49c258ed37f1b</td>\n",
       "      <td>False</td>\n",
       "      <td>b'b\\'Junk Charts Recycling chartjunk as junk a...</td>\n",
       "      <td>http://junkcharts.typepad.com/junk_charts/2016...</td>\n",
       "      <td>True</td>\n",
       "    </tr>\n",
       "  </tbody>\n",
       "</table>\n",
       "</div>"
      ],
      "text/plain": [
       "                          _id quality  \\\n",
       "200  593f8adbf7e49c258ed37fdd   False   \n",
       "201  593f8addf7e49c258ed37fde   False   \n",
       "202  593f51e0f7e49c1f7a2906a1   False   \n",
       "203  593f8621f7e49c258ed37f2e   False   \n",
       "204  593f8545f7e49c258ed37f1b   False   \n",
       "\n",
       "                                                  text  \\\n",
       "200  b'b\\'Bandit Beta Rodeo New ScienceOps Company ...   \n",
       "201  b'b\\'Bandit Beta Rodeo New ScienceOps Company ...   \n",
       "202  b'b\\'Junk Charts Recycling chartjunk as junk a...   \n",
       "203  b'b\\'Junk Charts Recycling chartjunk as junk a...   \n",
       "204  b'b\\'Junk Charts Recycling chartjunk as junk a...   \n",
       "\n",
       "                                                   url predicted  \n",
       "200        http://blog.yhat.com/posts/rodeo-2.3.0.html      True  \n",
       "201  http://blog.yhat.com/posts/rodeo-2.0.6-datafra...      True  \n",
       "202  http://junkcharts.typepad.com/junk_charts/2017...      True  \n",
       "203  http://junkcharts.typepad.com/junk_charts/2016...      True  \n",
       "204  http://junkcharts.typepad.com/junk_charts/2016...      True  "
      ]
     },
     "execution_count": 106,
     "metadata": {},
     "output_type": "execute_result"
    }
   ],
   "source": [
    "false_positive[200:]"
   ]
  },
  {
   "cell_type": "code",
   "execution_count": 204,
   "metadata": {
    "collapsed": true
   },
   "outputs": [],
   "source": [
    "false_negative = df.query('predicted == False').query('quality==True')"
   ]
  },
  {
   "cell_type": "code",
   "execution_count": 205,
   "metadata": {
    "collapsed": false
   },
   "outputs": [],
   "source": [
    "false_negative.reset_index(inplace=True)"
   ]
  },
  {
   "cell_type": "code",
   "execution_count": 206,
   "metadata": {
    "collapsed": true
   },
   "outputs": [],
   "source": [
    "false_negative.drop('index',axis=1,inplace=True)"
   ]
  },
  {
   "cell_type": "code",
   "execution_count": 207,
   "metadata": {
    "collapsed": false
   },
   "outputs": [
    {
     "data": {
      "text/plain": [
       "(378, 5)"
      ]
     },
     "execution_count": 207,
     "metadata": {},
     "output_type": "execute_result"
    }
   ],
   "source": [
    "false_negative.shape"
   ]
  },
  {
   "cell_type": "code",
   "execution_count": 208,
   "metadata": {
    "collapsed": false,
    "scrolled": false
   },
   "outputs": [
    {
     "data": {
      "text/html": [
       "<div>\n",
       "<table border=\"1\" class=\"dataframe\">\n",
       "  <thead>\n",
       "    <tr style=\"text-align: right;\">\n",
       "      <th></th>\n",
       "      <th>_id</th>\n",
       "      <th>quality</th>\n",
       "      <th>text</th>\n",
       "      <th>url</th>\n",
       "      <th>predicted</th>\n",
       "    </tr>\n",
       "  </thead>\n",
       "  <tbody>\n",
       "    <tr>\n",
       "      <th>0</th>\n",
       "      <td>593edc1329d4b520f09f79eb</td>\n",
       "      <td>True</td>\n",
       "      <td>b' Too Many Requests   @ Mon,  Jun   GMT      '</td>\n",
       "      <td>http://www.juiceanalytics.com/writing/the-futu...</td>\n",
       "      <td>False</td>\n",
       "    </tr>\n",
       "    <tr>\n",
       "      <th>1</th>\n",
       "      <td>593edbbd29d4b520f09f7987</td>\n",
       "      <td>True</td>\n",
       "      <td>b'  ACM Sign In Search Go  Join ACM About Comm...</td>\n",
       "      <td>https://cacm.acm.org/blogs/blog-cacm/169199-da...</td>\n",
       "      <td>False</td>\n",
       "    </tr>\n",
       "    <tr>\n",
       "      <th>2</th>\n",
       "      <td>593edbbf29d4b520f09f798a</td>\n",
       "      <td>True</td>\n",
       "      <td>b'CoolData blog  April  Data I want to play  w...</td>\n",
       "      <td>https://cooldata.wordpress.com/2012/04/24/data...</td>\n",
       "      <td>False</td>\n",
       "    </tr>\n",
       "    <tr>\n",
       "      <th>3</th>\n",
       "      <td>593edbc329d4b520f09f7999</td>\n",
       "      <td>True</td>\n",
       "      <td>b\"Toggle navigation  Biography Blog Contact Ne...</td>\n",
       "      <td>http://inverseprobability.com/2017/03/14/data-...</td>\n",
       "      <td>False</td>\n",
       "    </tr>\n",
       "    <tr>\n",
       "      <th>4</th>\n",
       "      <td>593edbc329d4b520f09f799d</td>\n",
       "      <td>True</td>\n",
       "      <td>b\"Toggle navigation  Biography Blog Contact Ne...</td>\n",
       "      <td>http://inverseprobability.com/2016/02/29/futur...</td>\n",
       "      <td>False</td>\n",
       "    </tr>\n",
       "    <tr>\n",
       "      <th>5</th>\n",
       "      <td>593edbc329d4b520f09f799e</td>\n",
       "      <td>True</td>\n",
       "      <td>b\"Toggle navigation  Biography Blog Contact Ne...</td>\n",
       "      <td>http://inverseprobability.com/2016/01/17/machi...</td>\n",
       "      <td>False</td>\n",
       "    </tr>\n",
       "    <tr>\n",
       "      <th>6</th>\n",
       "      <td>593edbc329d4b520f09f799f</td>\n",
       "      <td>True</td>\n",
       "      <td>b\"Toggle navigation  Biography Blog Contact Ne...</td>\n",
       "      <td>http://inverseprobability.com/2016/01/17/machi...</td>\n",
       "      <td>False</td>\n",
       "    </tr>\n",
       "    <tr>\n",
       "      <th>7</th>\n",
       "      <td>593edbc429d4b520f09f79a4</td>\n",
       "      <td>True</td>\n",
       "      <td>b\"Toggle navigation  Biography Blog Contact Ne...</td>\n",
       "      <td>http://inverseprobability.com/2015/12/14/opena...</td>\n",
       "      <td>False</td>\n",
       "    </tr>\n",
       "    <tr>\n",
       "      <th>8</th>\n",
       "      <td>593edbc429d4b520f09f79a5</td>\n",
       "      <td>True</td>\n",
       "      <td>b\"Toggle navigation  Biography Blog Contact Ne...</td>\n",
       "      <td>http://inverseprobability.com/2016/05/29/data-...</td>\n",
       "      <td>False</td>\n",
       "    </tr>\n",
       "    <tr>\n",
       "      <th>9</th>\n",
       "      <td>593edbc429d4b520f09f79a6</td>\n",
       "      <td>True</td>\n",
       "      <td>b\"Toggle navigation  Biography Blog Contact Ne...</td>\n",
       "      <td>http://inverseprobability.com/2016/06/03/data-...</td>\n",
       "      <td>False</td>\n",
       "    </tr>\n",
       "    <tr>\n",
       "      <th>10</th>\n",
       "      <td>593edbc529d4b520f09f79a8</td>\n",
       "      <td>True</td>\n",
       "      <td>b\"KDnuggets Subscribe to KDnuggets News | | Co...</td>\n",
       "      <td>http://www.kdnuggets.com/2017/04/analytics-emo...</td>\n",
       "      <td>False</td>\n",
       "    </tr>\n",
       "    <tr>\n",
       "      <th>11</th>\n",
       "      <td>593edbc629d4b520f09f79aa</td>\n",
       "      <td>True</td>\n",
       "      <td>b'KDnuggets Subscribe to KDnuggets News | | Co...</td>\n",
       "      <td>http://www.kdnuggets.com/2016/05/machine-learn...</td>\n",
       "      <td>False</td>\n",
       "    </tr>\n",
       "    <tr>\n",
       "      <th>12</th>\n",
       "      <td>593edbc629d4b520f09f79ac</td>\n",
       "      <td>True</td>\n",
       "      <td>b\"KDnuggets Subscribe to KDnuggets News | | Co...</td>\n",
       "      <td>http://www.kdnuggets.com/2017/05/deep-learning...</td>\n",
       "      <td>False</td>\n",
       "    </tr>\n",
       "    <tr>\n",
       "      <th>13</th>\n",
       "      <td>593edbcc29d4b520f09f79ae</td>\n",
       "      <td>True</td>\n",
       "      <td>b'KDnuggets Subscribe to KDnuggets News | | Co...</td>\n",
       "      <td>http://www.kdnuggets.com/2017/04/10-free-must-...</td>\n",
       "      <td>False</td>\n",
       "    </tr>\n",
       "    <tr>\n",
       "      <th>14</th>\n",
       "      <td>593edbcd29d4b520f09f79af</td>\n",
       "      <td>True</td>\n",
       "      <td>b'Sign in Menu Home News/Blog Research Program...</td>\n",
       "      <td>https://www.turing.ac.uk/blog/using-machine-le...</td>\n",
       "      <td>False</td>\n",
       "    </tr>\n",
       "    <tr>\n",
       "      <th>15</th>\n",
       "      <td>593edbcf29d4b520f09f79b0</td>\n",
       "      <td>True</td>\n",
       "      <td>b'Sign in Menu Home News/Blog Research Program...</td>\n",
       "      <td>https://www.turing.ac.uk/blog/possible-hack-ha...</td>\n",
       "      <td>False</td>\n",
       "    </tr>\n",
       "    <tr>\n",
       "      <th>16</th>\n",
       "      <td>593edbd029d4b520f09f79b1</td>\n",
       "      <td>True</td>\n",
       "      <td>b'Sign in Menu Home News/Blog Research Program...</td>\n",
       "      <td>https://www.turing.ac.uk/blog/democratising-da...</td>\n",
       "      <td>False</td>\n",
       "    </tr>\n",
       "    <tr>\n",
       "      <th>17</th>\n",
       "      <td>593edbd129d4b520f09f79b2</td>\n",
       "      <td>True</td>\n",
       "      <td>b'Sign in Menu Home News/Blog Research Program...</td>\n",
       "      <td>https://www.turing.ac.uk/news/new-research-exp...</td>\n",
       "      <td>False</td>\n",
       "    </tr>\n",
       "    <tr>\n",
       "      <th>18</th>\n",
       "      <td>593edbd229d4b520f09f79b3</td>\n",
       "      <td>True</td>\n",
       "      <td>b'Sign in Menu Home News/Blog Research Program...</td>\n",
       "      <td>https://www.turing.ac.uk/blog/%EF%BB%BFthinkin...</td>\n",
       "      <td>False</td>\n",
       "    </tr>\n",
       "    <tr>\n",
       "      <th>19</th>\n",
       "      <td>593edbd429d4b520f09f79b4</td>\n",
       "      <td>True</td>\n",
       "      <td>b'Sign in Menu Home News/Blog Research Program...</td>\n",
       "      <td>https://www.turing.ac.uk/news/data-science-gen...</td>\n",
       "      <td>False</td>\n",
       "    </tr>\n",
       "    <tr>\n",
       "      <th>20</th>\n",
       "      <td>593edbd529d4b520f09f79b6</td>\n",
       "      <td>True</td>\n",
       "      <td>b'Skip to content Blog about Stats All about D...</td>\n",
       "      <td>https://blogstats.wordpress.com/2017/04/27/lea...</td>\n",
       "      <td>False</td>\n",
       "    </tr>\n",
       "    <tr>\n",
       "      <th>21</th>\n",
       "      <td>593edbd629d4b520f09f79b7</td>\n",
       "      <td>True</td>\n",
       "      <td>b'Skip to content Blog about Stats All about D...</td>\n",
       "      <td>https://blogstats.wordpress.com/2016/12/29/pos...</td>\n",
       "      <td>False</td>\n",
       "    </tr>\n",
       "    <tr>\n",
       "      <th>22</th>\n",
       "      <td>593edbd629d4b520f09f79b8</td>\n",
       "      <td>True</td>\n",
       "      <td>b'Skip to content Blog about Stats All about D...</td>\n",
       "      <td>https://blogstats.wordpress.com/2016/11/30/rea...</td>\n",
       "      <td>False</td>\n",
       "    </tr>\n",
       "    <tr>\n",
       "      <th>23</th>\n",
       "      <td>593edbd729d4b520f09f79b9</td>\n",
       "      <td>True</td>\n",
       "      <td>b'Skip to content Blog about Stats All about D...</td>\n",
       "      <td>https://blogstats.wordpress.com/2016/10/16/the...</td>\n",
       "      <td>False</td>\n",
       "    </tr>\n",
       "    <tr>\n",
       "      <th>24</th>\n",
       "      <td>593edbd729d4b520f09f79ba</td>\n",
       "      <td>True</td>\n",
       "      <td>b'Skip to content Blog about Stats All about D...</td>\n",
       "      <td>https://blogstats.wordpress.com/2016/08/03/dis...</td>\n",
       "      <td>False</td>\n",
       "    </tr>\n",
       "    <tr>\n",
       "      <th>25</th>\n",
       "      <td>593edbd729d4b520f09f79bb</td>\n",
       "      <td>True</td>\n",
       "      <td>b'Skip to content Blog about Stats All about D...</td>\n",
       "      <td>https://blogstats.wordpress.com/2016/06/29/sta...</td>\n",
       "      <td>False</td>\n",
       "    </tr>\n",
       "    <tr>\n",
       "      <th>26</th>\n",
       "      <td>593edbd829d4b520f09f79bc</td>\n",
       "      <td>True</td>\n",
       "      <td>b'Skip to content Blog about Stats All about D...</td>\n",
       "      <td>https://blogstats.wordpress.com/2016/05/04/nex...</td>\n",
       "      <td>False</td>\n",
       "    </tr>\n",
       "    <tr>\n",
       "      <th>27</th>\n",
       "      <td>593edbd829d4b520f09f79bd</td>\n",
       "      <td>True</td>\n",
       "      <td>b'Skip to content Blog about Stats All about D...</td>\n",
       "      <td>https://blogstats.wordpress.com/2016/04/01/ope...</td>\n",
       "      <td>False</td>\n",
       "    </tr>\n",
       "    <tr>\n",
       "      <th>28</th>\n",
       "      <td>593edbd829d4b520f09f79be</td>\n",
       "      <td>True</td>\n",
       "      <td>b'Skip to content Blog about Stats All about D...</td>\n",
       "      <td>https://blogstats.wordpress.com/2016/01/21/opt...</td>\n",
       "      <td>False</td>\n",
       "    </tr>\n",
       "    <tr>\n",
       "      <th>29</th>\n",
       "      <td>593edbd929d4b520f09f79bf</td>\n",
       "      <td>True</td>\n",
       "      <td>b'Skip to content Blog about Stats All about D...</td>\n",
       "      <td>https://blogstats.wordpress.com/2015/12/23/in-...</td>\n",
       "      <td>False</td>\n",
       "    </tr>\n",
       "    <tr>\n",
       "      <th>30</th>\n",
       "      <td>593edbd929d4b520f09f79c0</td>\n",
       "      <td>True</td>\n",
       "      <td>b'Skip to content Blog about Stats All about D...</td>\n",
       "      <td>https://blogstats.wordpress.com/2015/11/29/att...</td>\n",
       "      <td>False</td>\n",
       "    </tr>\n",
       "    <tr>\n",
       "      <th>31</th>\n",
       "      <td>593edbda29d4b520f09f79c1</td>\n",
       "      <td>True</td>\n",
       "      <td>b'Skip to content Blog about Stats All about D...</td>\n",
       "      <td>https://blogstats.wordpress.com/2015/08/24/fro...</td>\n",
       "      <td>False</td>\n",
       "    </tr>\n",
       "    <tr>\n",
       "      <th>32</th>\n",
       "      <td>593edbda29d4b520f09f79c2</td>\n",
       "      <td>True</td>\n",
       "      <td>b'This web site uses cookies to improve your e...</td>\n",
       "      <td>http://www.zdnet.com/article/aadvertising-data...</td>\n",
       "      <td>False</td>\n",
       "    </tr>\n",
       "    <tr>\n",
       "      <th>33</th>\n",
       "      <td>593edbdb29d4b520f09f79c3</td>\n",
       "      <td>True</td>\n",
       "      <td>b'This web site uses cookies to improve your e...</td>\n",
       "      <td>http://www.zdnet.com/article/planet-analytics-...</td>\n",
       "      <td>False</td>\n",
       "    </tr>\n",
       "    <tr>\n",
       "      <th>34</th>\n",
       "      <td>593edbdb29d4b520f09f79c4</td>\n",
       "      <td>True</td>\n",
       "      <td>b'This web site uses cookies to improve your e...</td>\n",
       "      <td>http://www.zdnet.com/article/dataops-changing-...</td>\n",
       "      <td>False</td>\n",
       "    </tr>\n",
       "    <tr>\n",
       "      <th>35</th>\n",
       "      <td>593edbdc29d4b520f09f79c5</td>\n",
       "      <td>True</td>\n",
       "      <td>b'This web site uses cookies to improve your e...</td>\n",
       "      <td>http://www.zdnet.com/article/language-agnostic...</td>\n",
       "      <td>False</td>\n",
       "    </tr>\n",
       "    <tr>\n",
       "      <th>36</th>\n",
       "      <td>593edbdc29d4b520f09f79c6</td>\n",
       "      <td>True</td>\n",
       "      <td>b'This web site uses cookies to improve your e...</td>\n",
       "      <td>http://www.zdnet.com/article/linkedin-machine-...</td>\n",
       "      <td>False</td>\n",
       "    </tr>\n",
       "    <tr>\n",
       "      <th>37</th>\n",
       "      <td>593edbdd29d4b520f09f79c7</td>\n",
       "      <td>True</td>\n",
       "      <td>b'This web site uses cookies to improve your e...</td>\n",
       "      <td>http://www.zdnet.com/article/big-data-versus-m...</td>\n",
       "      <td>False</td>\n",
       "    </tr>\n",
       "    <tr>\n",
       "      <th>38</th>\n",
       "      <td>593edbdd29d4b520f09f79c8</td>\n",
       "      <td>True</td>\n",
       "      <td>b'This web site uses cookies to improve your e...</td>\n",
       "      <td>http://www.zdnet.com/article/disrupting-insura...</td>\n",
       "      <td>False</td>\n",
       "    </tr>\n",
       "    <tr>\n",
       "      <th>39</th>\n",
       "      <td>593edbde29d4b520f09f79c9</td>\n",
       "      <td>True</td>\n",
       "      <td>b'This web site uses cookies to improve your e...</td>\n",
       "      <td>http://www.zdnet.com/article/blockchains-in-th...</td>\n",
       "      <td>False</td>\n",
       "    </tr>\n",
       "    <tr>\n",
       "      <th>40</th>\n",
       "      <td>593edbde29d4b520f09f79ca</td>\n",
       "      <td>True</td>\n",
       "      <td>b'This web site uses cookies to improve your e...</td>\n",
       "      <td>http://www.zdnet.com/article/artificial-intell...</td>\n",
       "      <td>False</td>\n",
       "    </tr>\n",
       "    <tr>\n",
       "      <th>41</th>\n",
       "      <td>593edbdf29d4b520f09f79cb</td>\n",
       "      <td>True</td>\n",
       "      <td>b'This web site uses cookies to improve your e...</td>\n",
       "      <td>http://www.zdnet.com/article/streaming-hot-rea...</td>\n",
       "      <td>False</td>\n",
       "    </tr>\n",
       "    <tr>\n",
       "      <th>42</th>\n",
       "      <td>593edbe029d4b520f09f79cc</td>\n",
       "      <td>True</td>\n",
       "      <td>b'This web site uses cookies to improve your e...</td>\n",
       "      <td>http://www.zdnet.com/article/mix-and-match-ana...</td>\n",
       "      <td>False</td>\n",
       "    </tr>\n",
       "    <tr>\n",
       "      <th>43</th>\n",
       "      <td>593edbe029d4b520f09f79cd</td>\n",
       "      <td>True</td>\n",
       "      <td>b'This web site uses cookies to improve your e...</td>\n",
       "      <td>http://www.zdnet.com/article/googling-prescrip...</td>\n",
       "      <td>False</td>\n",
       "    </tr>\n",
       "    <tr>\n",
       "      <th>44</th>\n",
       "      <td>593edbe129d4b520f09f79ce</td>\n",
       "      <td>True</td>\n",
       "      <td>b'This web site uses cookies to improve your e...</td>\n",
       "      <td>http://www.zdnet.com/article/big-data-2017-the...</td>\n",
       "      <td>False</td>\n",
       "    </tr>\n",
       "    <tr>\n",
       "      <th>45</th>\n",
       "      <td>593edbe129d4b520f09f79cf</td>\n",
       "      <td>True</td>\n",
       "      <td>b'This web site uses cookies to improve your e...</td>\n",
       "      <td>http://www.zdnet.com/article/error-data-not-fo...</td>\n",
       "      <td>False</td>\n",
       "    </tr>\n",
       "    <tr>\n",
       "      <th>46</th>\n",
       "      <td>593edbe229d4b520f09f79d0</td>\n",
       "      <td>True</td>\n",
       "      <td>b'This web site uses cookies to improve your e...</td>\n",
       "      <td>http://www.zdnet.com/article/iot-and-agricultu...</td>\n",
       "      <td>False</td>\n",
       "    </tr>\n",
       "    <tr>\n",
       "      <th>47</th>\n",
       "      <td>593edbe229d4b520f09f79d2</td>\n",
       "      <td>True</td>\n",
       "      <td>b'This web site uses cookies to improve your e...</td>\n",
       "      <td>http://www.zdnet.com/article/watson-does-healt...</td>\n",
       "      <td>False</td>\n",
       "    </tr>\n",
       "    <tr>\n",
       "      <th>48</th>\n",
       "      <td>593edbe629d4b520f09f79d7</td>\n",
       "      <td>True</td>\n",
       "      <td>b\"We're hiring! |     Blog Home Blog Home Lear...</td>\n",
       "      <td>https://blog.dominodatalab.com/data-science-aws/</td>\n",
       "      <td>False</td>\n",
       "    </tr>\n",
       "    <tr>\n",
       "      <th>49</th>\n",
       "      <td>593edbe829d4b520f09f79db</td>\n",
       "      <td>True</td>\n",
       "      <td>b'We\\'re hiring! |     Blog Home Blog Home Lea...</td>\n",
       "      <td>https://blog.dominodatalab.com/reproducible-re...</td>\n",
       "      <td>False</td>\n",
       "    </tr>\n",
       "  </tbody>\n",
       "</table>\n",
       "</div>"
      ],
      "text/plain": [
       "                         _id quality  \\\n",
       "0   593edc1329d4b520f09f79eb    True   \n",
       "1   593edbbd29d4b520f09f7987    True   \n",
       "2   593edbbf29d4b520f09f798a    True   \n",
       "3   593edbc329d4b520f09f7999    True   \n",
       "4   593edbc329d4b520f09f799d    True   \n",
       "5   593edbc329d4b520f09f799e    True   \n",
       "6   593edbc329d4b520f09f799f    True   \n",
       "7   593edbc429d4b520f09f79a4    True   \n",
       "8   593edbc429d4b520f09f79a5    True   \n",
       "9   593edbc429d4b520f09f79a6    True   \n",
       "10  593edbc529d4b520f09f79a8    True   \n",
       "11  593edbc629d4b520f09f79aa    True   \n",
       "12  593edbc629d4b520f09f79ac    True   \n",
       "13  593edbcc29d4b520f09f79ae    True   \n",
       "14  593edbcd29d4b520f09f79af    True   \n",
       "15  593edbcf29d4b520f09f79b0    True   \n",
       "16  593edbd029d4b520f09f79b1    True   \n",
       "17  593edbd129d4b520f09f79b2    True   \n",
       "18  593edbd229d4b520f09f79b3    True   \n",
       "19  593edbd429d4b520f09f79b4    True   \n",
       "20  593edbd529d4b520f09f79b6    True   \n",
       "21  593edbd629d4b520f09f79b7    True   \n",
       "22  593edbd629d4b520f09f79b8    True   \n",
       "23  593edbd729d4b520f09f79b9    True   \n",
       "24  593edbd729d4b520f09f79ba    True   \n",
       "25  593edbd729d4b520f09f79bb    True   \n",
       "26  593edbd829d4b520f09f79bc    True   \n",
       "27  593edbd829d4b520f09f79bd    True   \n",
       "28  593edbd829d4b520f09f79be    True   \n",
       "29  593edbd929d4b520f09f79bf    True   \n",
       "30  593edbd929d4b520f09f79c0    True   \n",
       "31  593edbda29d4b520f09f79c1    True   \n",
       "32  593edbda29d4b520f09f79c2    True   \n",
       "33  593edbdb29d4b520f09f79c3    True   \n",
       "34  593edbdb29d4b520f09f79c4    True   \n",
       "35  593edbdc29d4b520f09f79c5    True   \n",
       "36  593edbdc29d4b520f09f79c6    True   \n",
       "37  593edbdd29d4b520f09f79c7    True   \n",
       "38  593edbdd29d4b520f09f79c8    True   \n",
       "39  593edbde29d4b520f09f79c9    True   \n",
       "40  593edbde29d4b520f09f79ca    True   \n",
       "41  593edbdf29d4b520f09f79cb    True   \n",
       "42  593edbe029d4b520f09f79cc    True   \n",
       "43  593edbe029d4b520f09f79cd    True   \n",
       "44  593edbe129d4b520f09f79ce    True   \n",
       "45  593edbe129d4b520f09f79cf    True   \n",
       "46  593edbe229d4b520f09f79d0    True   \n",
       "47  593edbe229d4b520f09f79d2    True   \n",
       "48  593edbe629d4b520f09f79d7    True   \n",
       "49  593edbe829d4b520f09f79db    True   \n",
       "\n",
       "                                                 text  \\\n",
       "0     b' Too Many Requests   @ Mon,  Jun   GMT      '   \n",
       "1   b'  ACM Sign In Search Go  Join ACM About Comm...   \n",
       "2   b'CoolData blog  April  Data I want to play  w...   \n",
       "3   b\"Toggle navigation  Biography Blog Contact Ne...   \n",
       "4   b\"Toggle navigation  Biography Blog Contact Ne...   \n",
       "5   b\"Toggle navigation  Biography Blog Contact Ne...   \n",
       "6   b\"Toggle navigation  Biography Blog Contact Ne...   \n",
       "7   b\"Toggle navigation  Biography Blog Contact Ne...   \n",
       "8   b\"Toggle navigation  Biography Blog Contact Ne...   \n",
       "9   b\"Toggle navigation  Biography Blog Contact Ne...   \n",
       "10  b\"KDnuggets Subscribe to KDnuggets News | | Co...   \n",
       "11  b'KDnuggets Subscribe to KDnuggets News | | Co...   \n",
       "12  b\"KDnuggets Subscribe to KDnuggets News | | Co...   \n",
       "13  b'KDnuggets Subscribe to KDnuggets News | | Co...   \n",
       "14  b'Sign in Menu Home News/Blog Research Program...   \n",
       "15  b'Sign in Menu Home News/Blog Research Program...   \n",
       "16  b'Sign in Menu Home News/Blog Research Program...   \n",
       "17  b'Sign in Menu Home News/Blog Research Program...   \n",
       "18  b'Sign in Menu Home News/Blog Research Program...   \n",
       "19  b'Sign in Menu Home News/Blog Research Program...   \n",
       "20  b'Skip to content Blog about Stats All about D...   \n",
       "21  b'Skip to content Blog about Stats All about D...   \n",
       "22  b'Skip to content Blog about Stats All about D...   \n",
       "23  b'Skip to content Blog about Stats All about D...   \n",
       "24  b'Skip to content Blog about Stats All about D...   \n",
       "25  b'Skip to content Blog about Stats All about D...   \n",
       "26  b'Skip to content Blog about Stats All about D...   \n",
       "27  b'Skip to content Blog about Stats All about D...   \n",
       "28  b'Skip to content Blog about Stats All about D...   \n",
       "29  b'Skip to content Blog about Stats All about D...   \n",
       "30  b'Skip to content Blog about Stats All about D...   \n",
       "31  b'Skip to content Blog about Stats All about D...   \n",
       "32  b'This web site uses cookies to improve your e...   \n",
       "33  b'This web site uses cookies to improve your e...   \n",
       "34  b'This web site uses cookies to improve your e...   \n",
       "35  b'This web site uses cookies to improve your e...   \n",
       "36  b'This web site uses cookies to improve your e...   \n",
       "37  b'This web site uses cookies to improve your e...   \n",
       "38  b'This web site uses cookies to improve your e...   \n",
       "39  b'This web site uses cookies to improve your e...   \n",
       "40  b'This web site uses cookies to improve your e...   \n",
       "41  b'This web site uses cookies to improve your e...   \n",
       "42  b'This web site uses cookies to improve your e...   \n",
       "43  b'This web site uses cookies to improve your e...   \n",
       "44  b'This web site uses cookies to improve your e...   \n",
       "45  b'This web site uses cookies to improve your e...   \n",
       "46  b'This web site uses cookies to improve your e...   \n",
       "47  b'This web site uses cookies to improve your e...   \n",
       "48  b\"We're hiring! |     Blog Home Blog Home Lear...   \n",
       "49  b'We\\'re hiring! |     Blog Home Blog Home Lea...   \n",
       "\n",
       "                                                  url predicted  \n",
       "0   http://www.juiceanalytics.com/writing/the-futu...     False  \n",
       "1   https://cacm.acm.org/blogs/blog-cacm/169199-da...     False  \n",
       "2   https://cooldata.wordpress.com/2012/04/24/data...     False  \n",
       "3   http://inverseprobability.com/2017/03/14/data-...     False  \n",
       "4   http://inverseprobability.com/2016/02/29/futur...     False  \n",
       "5   http://inverseprobability.com/2016/01/17/machi...     False  \n",
       "6   http://inverseprobability.com/2016/01/17/machi...     False  \n",
       "7   http://inverseprobability.com/2015/12/14/opena...     False  \n",
       "8   http://inverseprobability.com/2016/05/29/data-...     False  \n",
       "9   http://inverseprobability.com/2016/06/03/data-...     False  \n",
       "10  http://www.kdnuggets.com/2017/04/analytics-emo...     False  \n",
       "11  http://www.kdnuggets.com/2016/05/machine-learn...     False  \n",
       "12  http://www.kdnuggets.com/2017/05/deep-learning...     False  \n",
       "13  http://www.kdnuggets.com/2017/04/10-free-must-...     False  \n",
       "14  https://www.turing.ac.uk/blog/using-machine-le...     False  \n",
       "15  https://www.turing.ac.uk/blog/possible-hack-ha...     False  \n",
       "16  https://www.turing.ac.uk/blog/democratising-da...     False  \n",
       "17  https://www.turing.ac.uk/news/new-research-exp...     False  \n",
       "18  https://www.turing.ac.uk/blog/%EF%BB%BFthinkin...     False  \n",
       "19  https://www.turing.ac.uk/news/data-science-gen...     False  \n",
       "20  https://blogstats.wordpress.com/2017/04/27/lea...     False  \n",
       "21  https://blogstats.wordpress.com/2016/12/29/pos...     False  \n",
       "22  https://blogstats.wordpress.com/2016/11/30/rea...     False  \n",
       "23  https://blogstats.wordpress.com/2016/10/16/the...     False  \n",
       "24  https://blogstats.wordpress.com/2016/08/03/dis...     False  \n",
       "25  https://blogstats.wordpress.com/2016/06/29/sta...     False  \n",
       "26  https://blogstats.wordpress.com/2016/05/04/nex...     False  \n",
       "27  https://blogstats.wordpress.com/2016/04/01/ope...     False  \n",
       "28  https://blogstats.wordpress.com/2016/01/21/opt...     False  \n",
       "29  https://blogstats.wordpress.com/2015/12/23/in-...     False  \n",
       "30  https://blogstats.wordpress.com/2015/11/29/att...     False  \n",
       "31  https://blogstats.wordpress.com/2015/08/24/fro...     False  \n",
       "32  http://www.zdnet.com/article/aadvertising-data...     False  \n",
       "33  http://www.zdnet.com/article/planet-analytics-...     False  \n",
       "34  http://www.zdnet.com/article/dataops-changing-...     False  \n",
       "35  http://www.zdnet.com/article/language-agnostic...     False  \n",
       "36  http://www.zdnet.com/article/linkedin-machine-...     False  \n",
       "37  http://www.zdnet.com/article/big-data-versus-m...     False  \n",
       "38  http://www.zdnet.com/article/disrupting-insura...     False  \n",
       "39  http://www.zdnet.com/article/blockchains-in-th...     False  \n",
       "40  http://www.zdnet.com/article/artificial-intell...     False  \n",
       "41  http://www.zdnet.com/article/streaming-hot-rea...     False  \n",
       "42  http://www.zdnet.com/article/mix-and-match-ana...     False  \n",
       "43  http://www.zdnet.com/article/googling-prescrip...     False  \n",
       "44  http://www.zdnet.com/article/big-data-2017-the...     False  \n",
       "45  http://www.zdnet.com/article/error-data-not-fo...     False  \n",
       "46  http://www.zdnet.com/article/iot-and-agricultu...     False  \n",
       "47  http://www.zdnet.com/article/watson-does-healt...     False  \n",
       "48   https://blog.dominodatalab.com/data-science-aws/     False  \n",
       "49  https://blog.dominodatalab.com/reproducible-re...     False  "
      ]
     },
     "execution_count": 208,
     "metadata": {},
     "output_type": "execute_result"
    }
   ],
   "source": [
    "false_negative[:50]"
   ]
  },
  {
   "cell_type": "code",
   "execution_count": 56,
   "metadata": {
    "collapsed": true
   },
   "outputs": [],
   "source": [
    "true_negative = df.query('predicted == False').query('quality == False')"
   ]
  },
  {
   "cell_type": "code",
   "execution_count": 57,
   "metadata": {
    "collapsed": true
   },
   "outputs": [],
   "source": [
    "true_negative.reset_index(inplace=True)\n",
    "true_negative.drop('index',axis=1,inplace=True)"
   ]
  },
  {
   "cell_type": "code",
   "execution_count": 58,
   "metadata": {
    "collapsed": false,
    "scrolled": false
   },
   "outputs": [
    {
     "data": {
      "text/plain": [
       "(2403, 5)"
      ]
     },
     "execution_count": 58,
     "metadata": {},
     "output_type": "execute_result"
    }
   ],
   "source": [
    "true_negative.shape"
   ]
  },
  {
   "cell_type": "code",
   "execution_count": 62,
   "metadata": {
    "collapsed": false
   },
   "outputs": [
    {
     "data": {
      "text/plain": [
       "False    2811\n",
       "True      444\n",
       "Name: predicted, dtype: int64"
      ]
     },
     "execution_count": 62,
     "metadata": {},
     "output_type": "execute_result"
    }
   ],
   "source": [
    "df['predicted'].value_counts()"
   ]
  },
  {
   "cell_type": "code",
   "execution_count": 63,
   "metadata": {
    "collapsed": false
   },
   "outputs": [
    {
     "data": {
      "text/plain": [
       "False    2457\n",
       "True      798\n",
       "Name: quality, dtype: int64"
      ]
     },
     "execution_count": 63,
     "metadata": {},
     "output_type": "execute_result"
    }
   ],
   "source": [
    "df['quality'].value_counts()"
   ]
  },
  {
   "cell_type": "markdown",
   "metadata": {},
   "source": [
    "Play with countvect, add in treebank tokenizer, compare tf-idf to no tf-idf...."
   ]
  }
 ],
 "metadata": {
  "kernelspec": {
   "display_name": "Python 3",
   "language": "python",
   "name": "python3"
  },
  "language_info": {
   "codemirror_mode": {
    "name": "ipython",
    "version": 3
   },
   "file_extension": ".py",
   "mimetype": "text/x-python",
   "name": "python",
   "nbconvert_exporter": "python",
   "pygments_lexer": "ipython3",
   "version": "3.6.0"
  }
 },
 "nbformat": 4,
 "nbformat_minor": 2
}
