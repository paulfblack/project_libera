{
 "cells": [
  {
   "cell_type": "code",
   "execution_count": 1,
   "metadata": {
    "collapsed": false
   },
   "outputs": [],
   "source": [
    "import pickle\n",
    "import nltk\n",
    "import pymongo\n",
    "from pymongo import MongoClient\n",
    "import pandas as pd\n",
    "import os\n",
    "from nltk.corpus import stopwords\n",
    "from nltk.tokenize import TreebankWordTokenizer\n",
    "from nltk.stem.porter import PorterStemmer\n",
    "import re\n",
    "from sklearn.feature_extraction.text import CountVectorizer\n",
    "from sklearn.decomposition import TruncatedSVD\n",
    "import matplotlib.pyplot as plt\n",
    "%matplotlib inline\n",
    "from sklearn.preprocessing import Normalizer\n",
    "import numpy as np\n",
    "import seaborn as sms\n",
    "from sklearn.preprocessing import Normalizer\n",
    "from sklearn.decomposition import NMF, LatentDirichletAllocation\n",
    "from sklearn.feature_extraction.text import CountVectorizer, TfidfVectorizer, TfidfTransformer\n",
    "import string\n",
    "import re\n",
    "\n",
    "import libera_tokenization as lt\n",
    "from libera_tokenization import stopword"
   ]
  },
  {
   "cell_type": "code",
   "execution_count": 2,
   "metadata": {
    "collapsed": true
   },
   "outputs": [],
   "source": [
    "stopword.append('cat')"
   ]
  },
  {
   "cell_type": "code",
   "execution_count": 2,
   "metadata": {
    "collapsed": false
   },
   "outputs": [
    {
     "data": {
      "text/plain": [
       "39138"
      ]
     },
     "execution_count": 2,
     "metadata": {},
     "output_type": "execute_result"
    }
   ],
   "source": [
    "password = os.environ['password']\n",
    "libera_url = \"54.164.158.211\"\n",
    "\n",
    "client = pymongo.MongoClient(\"mongodb://paul:\" + password + \"@\" + libera_url + \"/libera_db\")\n",
    "\n",
    "db = client.libera_db\n",
    "\n",
    "col = db.scraped_blogs\n",
    "\n",
    "col.count()"
   ]
  },
  {
   "cell_type": "code",
   "execution_count": 18,
   "metadata": {
    "collapsed": false
   },
   "outputs": [],
   "source": [
    "cursor = col.find({'quality':True},{'_id':1,'text':1,'url':1,'quality':1})\n",
    "\n",
    "cursor.count()\n",
    "\n",
    "df = pd.DataFrame(list(cursor))"
   ]
  },
  {
   "cell_type": "code",
   "execution_count": null,
   "metadata": {
    "collapsed": true
   },
   "outputs": [],
   "source": [
    "# pickle.dump( df, open( \"libera_quality_blogs.p\", \"wb\" ) )"
   ]
  },
  {
   "cell_type": "code",
   "execution_count": 49,
   "metadata": {
    "collapsed": true
   },
   "outputs": [],
   "source": [
    "# Pickled under a different name, this works with three topics in LDA\n",
    "# pickle.dump( df, open( \"libera_quality_blogs_backup.p\", \"wb\" ) )"
   ]
  },
  {
   "cell_type": "code",
   "execution_count": 2,
   "metadata": {
    "collapsed": true
   },
   "outputs": [],
   "source": [
    "df = pickle.load(open(\"libera_quality_blogs.p\",\"rb\"))"
   ]
  },
  {
   "cell_type": "code",
   "execution_count": 20,
   "metadata": {
    "collapsed": true
   },
   "outputs": [],
   "source": [
    "def clear_empty_text(text):\n",
    "    if len(text) < 1:\n",
    "        text = np.NaN\n",
    "    return text\n",
    "def get_netloc(url):\n",
    "    netloc = urlparse(url).netloc\n",
    "    return netloc\n",
    "comment_pattern = re.compile(r'#comment|showComment=',re.I)\n",
    "removal_pattern = re.compile(r'/tag/|/category/|/feed|/\\d{4}/^|/\\d{4}/$|/\\d{4}/\\d{2}/$|/search/|/author/|/#print|/page/|/section/', re.I)\n",
    "def remove_comment_pages(url):\n",
    "    if url == np.NaN or comment_pattern.search(url):\n",
    "        url = np.NaN\n",
    "    return url\n",
    "def remove_pattern_match_pages(url):\n",
    "    if url == np.NaN or removal_pattern.search(url):\n",
    "        url = np.NaN\n",
    "    return url\n",
    "def remove_java(text):\n",
    "    java_pattern = re.compile(r'$.+|.+\\..+|.*\\{.*|.*\\}.*|.*\\);', re.DOTALL)\n",
    "    new_text = ''\n",
    "    for word in text.split(' '):\n",
    "        if java_pattern.search(word):\n",
    "            word = ''\n",
    "        else:\n",
    "            word = word\n",
    "        new_text += word + ' '\n",
    "    return new_text\n",
    "def remove_numbers(text):\n",
    "    number_pattern = re.compile(r'[0-9_]+')\n",
    "    new_text = ''\n",
    "    for word in str(text).split(' '):\n",
    "        if number_pattern.search(word):\n",
    "            word = ''\n",
    "        else:\n",
    "            word = word\n",
    "        new_text += word + ' '\n",
    "    return new_text\n",
    "def remove_encoded(text):\n",
    "    encoding_patterns = re.compile(r'\\\\xc[0-9]+|\\\\xe[0-9]+|\\\\x[0-9]+|\\\\xa[0-9]+|\\\\xb[0-9]+')\n",
    "    cleaned_text = re.sub(encoding_patterns, ' ', str(text.encode()))\n",
    "    return cleaned_text"
   ]
  },
  {
   "cell_type": "code",
   "execution_count": 21,
   "metadata": {
    "collapsed": false
   },
   "outputs": [],
   "source": [
    "df['text'] = df['text'].apply(remove_numbers)\n",
    "\n",
    "df['text'] = df['text'].apply(remove_java)\n",
    "\n",
    "df['text'] = df['text'].apply(remove_encoded)\n",
    "\n",
    "df['text'] = df['text'].apply(clear_empty_text);"
   ]
  },
  {
   "cell_type": "code",
   "execution_count": 22,
   "metadata": {
    "collapsed": false
   },
   "outputs": [],
   "source": [
    "df['url'] = df['url'].apply(remove_comment_pages)\n",
    "\n",
    "df.dropna(inplace=True)\n",
    "df.reset_index(inplace=True)\n",
    "\n",
    "df.drop('index',axis=1,inplace=True)\n",
    "\n",
    "df['url'] = df['url'].apply(remove_pattern_match_pages)\n",
    "df.dropna(inplace=True)\n",
    "\n",
    "df.reset_index(inplace=True)\n",
    "\n",
    "df.drop('index',axis=1,inplace=True)"
   ]
  },
  {
   "cell_type": "code",
   "execution_count": 24,
   "metadata": {
    "collapsed": false
   },
   "outputs": [],
   "source": [
    "tokens = lt.tokenize(df['text'])"
   ]
  },
  {
   "cell_type": "code",
   "execution_count": 161,
   "metadata": {
    "collapsed": false
   },
   "outputs": [],
   "source": [
    "vect = CountVectorizer(ngram_range=(2,3), max_features=2000)\n",
    "data = vect.fit_transform(tokens)"
   ]
  },
  {
   "cell_type": "code",
   "execution_count": 26,
   "metadata": {
    "collapsed": false
   },
   "outputs": [],
   "source": [
    "tfidf = TfidfTransformer()"
   ]
  },
  {
   "cell_type": "code",
   "execution_count": 25,
   "metadata": {
    "collapsed": false
   },
   "outputs": [],
   "source": [
    "vect = TfidfVectorizer(stop_words=stopword, ngram_range=(1,2), max_df=0.75, min_df=0.05)"
   ]
  },
  {
   "cell_type": "code",
   "execution_count": 26,
   "metadata": {
    "collapsed": true
   },
   "outputs": [],
   "source": [
    "data = vect.fit_transform(tokens)"
   ]
  },
  {
   "cell_type": "code",
   "execution_count": 27,
   "metadata": {
    "collapsed": false
   },
   "outputs": [
    {
     "data": {
      "text/plain": [
       "0.23449072168315099"
      ]
     },
     "execution_count": 27,
     "metadata": {},
     "output_type": "execute_result"
    },
    {
     "data": {
      "image/png": "[encoded data removed]",
      "text/plain": [
       "<matplotlib.figure.Figure at 0x7ff3765f5ef0>"
      ]
     },
     "metadata": {},
     "output_type": "display_data"
    }
   ],
   "source": [
    "lsa_explore = TruncatedSVD(50, algorithm = 'randomized')\n",
    "lsa_explore.fit_transform(data)\n",
    "plt.plot(lsa_explore.explained_variance_ratio_)\n",
    "sum(lsa_explore.explained_variance_ratio_[:8])"
   ]
  },
  {
   "cell_type": "code",
   "execution_count": 28,
   "metadata": {
    "collapsed": false
   },
   "outputs": [
    {
     "data": {
      "text/plain": [
       "0.25693564686103204"
      ]
     },
     "execution_count": 28,
     "metadata": {},
     "output_type": "execute_result"
    },
    {
     "data": {
      "image/png": "[encoded data removed]",
      "text/plain": [
       "<matplotlib.figure.Figure at 0x7ff3765f50b8>"
      ]
     },
     "metadata": {},
     "output_type": "display_data"
    }
   ],
   "source": [
    "lsa_explore = TruncatedSVD(20, algorithm = 'randomized')\n",
    "lsa_explore.fit_transform(data)\n",
    "plt.plot(lsa_explore.explained_variance_ratio_)\n",
    "sum(lsa_explore.explained_variance_ratio_[:10])"
   ]
  },
  {
   "cell_type": "code",
   "execution_count": 191,
   "metadata": {
    "collapsed": false
   },
   "outputs": [
    {
     "name": "stderr",
     "output_type": "stream",
     "text": [
      "/home/paul/anaconda3/lib/python3.6/site-packages/sklearn/decomposition/online_lda.py:508: DeprecationWarning: The default value for 'learning_method' will be changed from 'online' to 'batch' in the release 0.20. This warning was introduced in 0.18.\n",
      "  DeprecationWarning)\n"
     ]
    }
   ],
   "source": [
    "lda = LatentDirichletAllocation(stopwords=n_topics=9,\n",
    "                                max_iter=200,\n",
    "                                random_state=42)\n",
    "test = lda.fit_transform(data)"
   ]
  },
  {
   "cell_type": "code",
   "execution_count": 192,
   "metadata": {
    "collapsed": false
   },
   "outputs": [
    {
     "name": "stdout",
     "output_type": "stream",
     "text": [
      "Topic #0:\n",
      "common attribution attribution licens creativ sport statist cleveland connect input associ press visual critic current see pond home archiv via search post think amanda contamin washington post superimpos nyt pint donut read sampl pleas tri post via busi busi text time\n",
      "\n",
      "Topic #1:\n",
      "common attribution attribution licens creativ sport statist cleveland connect input associ press visual critic current see pond home archiv via search post think amanda contamin washington post superimpos nyt pint donut read sampl pleas tri post via busi busi text time\n",
      "\n",
      "Topic #2:\n",
      "chart peopl jump jump hoop hoop make peopl jump graphic bar plot kaiser peopl bar chart line post comment reader design junk gelman andrew gelman art kaiser make map andrew dot comment\n",
      "\n",
      "Topic #3:\n",
      "common attribution attribution licens creativ sport statist cleveland connect input associ press visual critic current see pond home archiv via search post think amanda contamin washington post superimpos nyt pint donut read sampl pleas tri post via busi busi text time\n",
      "\n",
      "Topic #4:\n",
      "data scienc machin machin learn python model analyt kdnugget deep news algorithm network scientist data scientist deep learn predict prepar data prepar big data neural train softwar stori research differ valu\n",
      "\n",
      "Topic #5:\n",
      "cat stat cat comment use log chang use log stat log statist variabl chang comment comment cancel repli give chang timer input jqueri blog click prospect blogger score model regress notifi new\n",
      "\n"
     ]
    }
   ],
   "source": [
    "def print_top_words(model, feature_names, n_top_words):\n",
    "    for topic_idx, topic in enumerate(model.components_):\n",
    "        print (\"Topic #%d:\" % topic_idx)\n",
    "        print (\" \".join([feature_names[i]\n",
    "                        for i in topic.argsort()[:-n_top_words - 1:-1]]))\n",
    "        print()\n",
    "feature_names = vect.get_feature_names()\n",
    "print_top_words(lda, feature_names, 25)"
   ]
  },
  {
   "cell_type": "code",
   "execution_count": 29,
   "metadata": {
    "collapsed": true
   },
   "outputs": [],
   "source": [
    "nmf = NMF(init='nndsvd',n_components=10,max_iter=200, random_state=42)"
   ]
  },
  {
   "cell_type": "code",
   "execution_count": 30,
   "metadata": {
    "collapsed": true
   },
   "outputs": [],
   "source": [
    "topic_data = nmf.fit_transform(data)"
   ]
  },
  {
   "cell_type": "code",
   "execution_count": 31,
   "metadata": {
    "collapsed": false
   },
   "outputs": [
    {
     "name": "stdout",
     "output_type": "stream",
     "text": [
      "Topic #0:\n",
      "machin machin learn kdnugget python data scienc news data prepar prepar algorithm analyt scienc machin scientist data scientist top stori top python librari librari data python librari softwar deep poll workflow scratch learn workflow workflow python\n",
      "\n",
      "Topic #1:\n",
      "visual think peopl design say stori storytel would ago present go look realli year game repli us differ lot show inform project principl much product\n",
      "\n",
      "Topic #2:\n",
      "chart jump hoop peopl jump hoop make peopl jump graphic bar plot kaiser junk peopl bar chart line reader junk chart design kaiser make gelman andrew gelman art map andrew dot label\n",
      "\n",
      "Topic #3:\n",
      "data scienc onlin research paper summer repli great data handler ryan intro berkeley paper undergradu earn syracus degre guidelin list new post theori notifi univers rank stat great scienc deep\n",
      "\n",
      "Topic #4:\n",
      "statist stat log chang use log log chang use repli cancel chang imag pingback timer input jqueri sampl click notifi new analysi notifi site via data analysi web imag use measur public\n",
      "\n",
      "Topic #5:\n",
      "network neural neural network deep deep learn layer train convolut imag input neuron output weight tensorflow convolut neural recurr gradient architectur net comput cnn machin hidden gener featur\n",
      "\n",
      "Topic #6:\n",
      "model variabl regress sampl predict linear valu train cluster statist distribut random test class algorithm plot paramet set observ bayesian probabl mean vector linear regress differ\n",
      "\n",
      "Topic #7:\n",
      "data scienc scienc central scientist data scientist analyt sign central true sign sign dashboard busi view true true param statist ga dsc famili member busi analyt keyword ms predict analyt add machin\n",
      "\n",
      "Topic #8:\n",
      "score give sql variabl predict mine prospect regress model predict model data mine predictor analyt gift text annual string acquisit non cool dan analyt predict engag plan correl\n",
      "\n",
      "Topic #9:\n",
      "big data big busi hadoop analyt cloud market newslett technolog process secur iot custom intellig video tool machin digit stream privaci enterpris system manag apach servic\n",
      "\n"
     ]
    }
   ],
   "source": [
    "def print_top_words(model, feature_names, n_top_words):\n",
    "    for topic_idx, topic in enumerate(model.components_):\n",
    "        print (\"Topic #%d:\" % topic_idx)\n",
    "        print (\" \".join([feature_names[i]\n",
    "                        for i in topic.argsort()[:-n_top_words - 1:-1]]))\n",
    "        print()\n",
    "feature_names = vect.get_feature_names()\n",
    "print_top_words(nmf, feature_names, 25)"
   ]
  },
  {
   "cell_type": "code",
   "execution_count": 32,
   "metadata": {
    "collapsed": false
   },
   "outputs": [
    {
     "data": {
      "text/plain": [
       "(1729, 10)"
      ]
     },
     "execution_count": 32,
     "metadata": {},
     "output_type": "execute_result"
    }
   ],
   "source": [
    "topic_data.shape"
   ]
  },
  {
   "cell_type": "markdown",
   "metadata": {},
   "source": [
    "## BEGIN CLUSTERING!!!"
   ]
  },
  {
   "cell_type": "code",
   "execution_count": 107,
   "metadata": {
    "collapsed": true
   },
   "outputs": [],
   "source": [
    "from sklearn.cluster import DBSCAN, KMeans, AffinityPropagation, AgglomerativeClustering\n",
    "from sklearn.metrics import silhouette_samples, silhouette_score\n",
    "import matplotlib.pyplot as plt\n",
    "import matplotlib.patches as mpatches\n",
    "import matplotlib.cm as cm\n",
    "import seaborn as sns"
   ]
  },
  {
   "cell_type": "markdown",
   "metadata": {},
   "source": [
    "FINAL MODEL"
   ]
  },
  {
   "cell_type": "code",
   "execution_count": 242,
   "metadata": {
    "collapsed": true
   },
   "outputs": [],
   "source": [
    "pickle.dump( df, open( \"labeled_df.p\", \"wb\" ) )"
   ]
  },
  {
   "cell_type": "code",
   "execution_count": 243,
   "metadata": {
    "collapsed": true
   },
   "outputs": [],
   "source": [
    "pickle.dump( topic_idenitfying, open( \"topic_identifier.p\", \"wb\" ) )"
   ]
  },
  {
   "cell_type": "code",
   "execution_count": 244,
   "metadata": {
    "collapsed": true
   },
   "outputs": [],
   "source": [
    "pickle.dump(agg, open('agg_model.p','wb'))"
   ]
  },
  {
   "cell_type": "code",
   "execution_count": 115,
   "metadata": {
    "collapsed": true
   },
   "outputs": [],
   "source": [
    "agg = AgglomerativeClustering(n_clusters=10, affinity='cosine', linkage='average')\n"
   ]
  },
  {
   "cell_type": "code",
   "execution_count": 129,
   "metadata": {
    "collapsed": true
   },
   "outputs": [],
   "source": [
    "# Remove points at origin for use of cosine distance metric\n",
    "for i,val in enumerate(topic_data):\n",
    "    if sum(val)==0:\n",
    "        df.drop(i,axis=0,inplace=True)\n",
    "        "
   ]
  },
  {
   "cell_type": "code",
   "execution_count": 131,
   "metadata": {
    "collapsed": true
   },
   "outputs": [],
   "source": [
    "df.reset_index(inplace=True)\n",
    "df.drop('index',axis=1,inplace=True)"
   ]
  },
  {
   "cell_type": "code",
   "execution_count": 112,
   "metadata": {
    "collapsed": false
   },
   "outputs": [
    {
     "data": {
      "text/plain": [
       "(1719, 10)"
      ]
     },
     "execution_count": 112,
     "metadata": {},
     "output_type": "execute_result"
    }
   ],
   "source": [
    "dropped_zeros_topic_data = [x for x in topic_data if sum(x) != 0]\n",
    "\n",
    "dropped_zeros_topic_data = np.array(droped_zeros_topic_data)\n",
    "\n",
    "droped_zeros_topic_data.shape"
   ]
  },
  {
   "cell_type": "code",
   "execution_count": 116,
   "metadata": {
    "collapsed": true
   },
   "outputs": [],
   "source": [
    "labels = agg.fit_predict(dropped_zeros_topic_data)"
   ]
  },
  {
   "cell_type": "code",
   "execution_count": 133,
   "metadata": {
    "collapsed": false
   },
   "outputs": [],
   "source": [
    "df['cluster'] = labels"
   ]
  },
  {
   "cell_type": "code",
   "execution_count": 136,
   "metadata": {
    "collapsed": false
   },
   "outputs": [],
   "source": [
    "topic_idenitfying = pd.DataFrame(dropped_zeros_topic_data)"
   ]
  },
  {
   "cell_type": "code",
   "execution_count": 137,
   "metadata": {
    "collapsed": true
   },
   "outputs": [],
   "source": [
    "topic_idenitfying['cluster'] = labels"
   ]
  },
  {
   "cell_type": "code",
   "execution_count": 235,
   "metadata": {
    "collapsed": false
   },
   "outputs": [
    {
     "data": {
      "text/html": [
       "<div>\n",
       "<table border=\"1\" class=\"dataframe\">\n",
       "  <thead>\n",
       "    <tr style=\"text-align: right;\">\n",
       "      <th></th>\n",
       "      <th>0</th>\n",
       "      <th>1</th>\n",
       "      <th>2</th>\n",
       "      <th>3</th>\n",
       "      <th>4</th>\n",
       "      <th>5</th>\n",
       "      <th>6</th>\n",
       "      <th>7</th>\n",
       "      <th>8</th>\n",
       "      <th>9</th>\n",
       "      <th>cluster</th>\n",
       "      <th>labels</th>\n",
       "    </tr>\n",
       "  </thead>\n",
       "  <tbody>\n",
       "    <tr>\n",
       "      <th>count</th>\n",
       "      <td>1719.000000</td>\n",
       "      <td>1719.000000</td>\n",
       "      <td>1719.000000</td>\n",
       "      <td>1719.000000</td>\n",
       "      <td>1719.000000</td>\n",
       "      <td>1719.000000</td>\n",
       "      <td>1719.000000</td>\n",
       "      <td>1719.000000</td>\n",
       "      <td>1719.000000</td>\n",
       "      <td>1719.000000</td>\n",
       "      <td>1719.000000</td>\n",
       "      <td>1719.000000</td>\n",
       "    </tr>\n",
       "    <tr>\n",
       "      <th>mean</th>\n",
       "      <td>0.041140</td>\n",
       "      <td>0.033685</td>\n",
       "      <td>0.019118</td>\n",
       "      <td>0.018324</td>\n",
       "      <td>0.016691</td>\n",
       "      <td>0.025939</td>\n",
       "      <td>0.035850</td>\n",
       "      <td>0.018328</td>\n",
       "      <td>0.020489</td>\n",
       "      <td>0.031867</td>\n",
       "      <td>4.134380</td>\n",
       "      <td>4.650378</td>\n",
       "    </tr>\n",
       "    <tr>\n",
       "      <th>std</th>\n",
       "      <td>0.052155</td>\n",
       "      <td>0.038125</td>\n",
       "      <td>0.057100</td>\n",
       "      <td>0.059609</td>\n",
       "      <td>0.044155</td>\n",
       "      <td>0.053430</td>\n",
       "      <td>0.047749</td>\n",
       "      <td>0.053703</td>\n",
       "      <td>0.061298</td>\n",
       "      <td>0.055004</td>\n",
       "      <td>2.516067</td>\n",
       "      <td>3.044956</td>\n",
       "    </tr>\n",
       "    <tr>\n",
       "      <th>min</th>\n",
       "      <td>0.000000</td>\n",
       "      <td>0.000000</td>\n",
       "      <td>0.000000</td>\n",
       "      <td>0.000000</td>\n",
       "      <td>0.000000</td>\n",
       "      <td>0.000000</td>\n",
       "      <td>0.000000</td>\n",
       "      <td>0.000000</td>\n",
       "      <td>0.000000</td>\n",
       "      <td>0.000000</td>\n",
       "      <td>0.000000</td>\n",
       "      <td>0.000000</td>\n",
       "    </tr>\n",
       "    <tr>\n",
       "      <th>25%</th>\n",
       "      <td>0.000000</td>\n",
       "      <td>0.001463</td>\n",
       "      <td>0.000000</td>\n",
       "      <td>0.000000</td>\n",
       "      <td>0.000000</td>\n",
       "      <td>0.000000</td>\n",
       "      <td>0.000000</td>\n",
       "      <td>0.000000</td>\n",
       "      <td>0.000000</td>\n",
       "      <td>0.000000</td>\n",
       "      <td>2.000000</td>\n",
       "      <td>2.000000</td>\n",
       "    </tr>\n",
       "    <tr>\n",
       "      <th>50%</th>\n",
       "      <td>0.005830</td>\n",
       "      <td>0.022482</td>\n",
       "      <td>0.000000</td>\n",
       "      <td>0.000000</td>\n",
       "      <td>0.000000</td>\n",
       "      <td>0.000501</td>\n",
       "      <td>0.015249</td>\n",
       "      <td>0.000000</td>\n",
       "      <td>0.000000</td>\n",
       "      <td>0.007381</td>\n",
       "      <td>4.000000</td>\n",
       "      <td>5.000000</td>\n",
       "    </tr>\n",
       "    <tr>\n",
       "      <th>75%</th>\n",
       "      <td>0.090497</td>\n",
       "      <td>0.050423</td>\n",
       "      <td>0.003959</td>\n",
       "      <td>0.007997</td>\n",
       "      <td>0.007031</td>\n",
       "      <td>0.016235</td>\n",
       "      <td>0.056629</td>\n",
       "      <td>0.010007</td>\n",
       "      <td>0.012945</td>\n",
       "      <td>0.041762</td>\n",
       "      <td>6.000000</td>\n",
       "      <td>8.000000</td>\n",
       "    </tr>\n",
       "    <tr>\n",
       "      <th>max</th>\n",
       "      <td>0.185770</td>\n",
       "      <td>0.202413</td>\n",
       "      <td>0.249370</td>\n",
       "      <td>0.373660</td>\n",
       "      <td>0.256669</td>\n",
       "      <td>0.280402</td>\n",
       "      <td>0.274697</td>\n",
       "      <td>0.385944</td>\n",
       "      <td>0.451342</td>\n",
       "      <td>0.389829</td>\n",
       "      <td>9.000000</td>\n",
       "      <td>9.000000</td>\n",
       "    </tr>\n",
       "  </tbody>\n",
       "</table>\n",
       "</div>"
      ],
      "text/plain": [
       "                 0            1            2            3            4  \\\n",
       "count  1719.000000  1719.000000  1719.000000  1719.000000  1719.000000   \n",
       "mean      0.041140     0.033685     0.019118     0.018324     0.016691   \n",
       "std       0.052155     0.038125     0.057100     0.059609     0.044155   \n",
       "min       0.000000     0.000000     0.000000     0.000000     0.000000   \n",
       "25%       0.000000     0.001463     0.000000     0.000000     0.000000   \n",
       "50%       0.005830     0.022482     0.000000     0.000000     0.000000   \n",
       "75%       0.090497     0.050423     0.003959     0.007997     0.007031   \n",
       "max       0.185770     0.202413     0.249370     0.373660     0.256669   \n",
       "\n",
       "                 5            6            7            8            9  \\\n",
       "count  1719.000000  1719.000000  1719.000000  1719.000000  1719.000000   \n",
       "mean      0.025939     0.035850     0.018328     0.020489     0.031867   \n",
       "std       0.053430     0.047749     0.053703     0.061298     0.055004   \n",
       "min       0.000000     0.000000     0.000000     0.000000     0.000000   \n",
       "25%       0.000000     0.000000     0.000000     0.000000     0.000000   \n",
       "50%       0.000501     0.015249     0.000000     0.000000     0.007381   \n",
       "75%       0.016235     0.056629     0.010007     0.012945     0.041762   \n",
       "max       0.280402     0.274697     0.385944     0.451342     0.389829   \n",
       "\n",
       "           cluster       labels  \n",
       "count  1719.000000  1719.000000  \n",
       "mean      4.134380     4.650378  \n",
       "std       2.516067     3.044956  \n",
       "min       0.000000     0.000000  \n",
       "25%       2.000000     2.000000  \n",
       "50%       4.000000     5.000000  \n",
       "75%       6.000000     8.000000  \n",
       "max       9.000000     9.000000  "
      ]
     },
     "execution_count": 235,
     "metadata": {},
     "output_type": "execute_result"
    }
   ],
   "source": [
    "topic_idenitfying.describe()"
   ]
  },
  {
   "cell_type": "code",
   "execution_count": 220,
   "metadata": {
    "collapsed": false
   },
   "outputs": [
    {
     "name": "stdout",
     "output_type": "stream",
     "text": [
      "cluster: 0 - highest topic: 3 - percentage: 0.2672810409471281\n",
      "\n",
      "\n",
      "cluster: 1 - highest topic: 6 - percentage: 0.1193406800733428\n",
      "\n",
      "\n",
      "cluster: 2 - highest topic: 5 - percentage: 0.1338184517164039\n",
      "\n",
      "\n",
      "cluster: 3 - highest topic: 1 - percentage: 0.0998708216443442\n",
      "\n",
      "\n",
      "cluster: 4 - highest topic: 0 - percentage: 0.11198161270189418\n",
      "\n",
      "\n",
      "cluster: 5 - highest topic: 8 - percentage: 0.22812140892834487\n",
      "\n",
      "\n",
      "cluster: 6 - highest topic: 4 - percentage: 0.15512352700370557\n",
      "\n",
      "\n",
      "cluster: 7 - highest topic: 2 - percentage: 0.19897524434174402\n",
      "\n",
      "\n",
      "cluster: 8 - highest topic: 9 - percentage: 0.1642226030399323\n",
      "\n",
      "\n",
      "cluster: 9 - highest topic: 7 - percentage: 0.22823786064940269\n",
      "\n",
      "\n"
     ]
    }
   ],
   "source": [
    "topic_distribution_dict = {}\n",
    "for x in range(10):\n",
    "    topic_distribution = []\n",
    "    for y in range(10):\n",
    "        topic_distribution.append(topic_idenitfying.query('cluster == %s' % x)[y].mean())\n",
    "    topic_distribution_dict[x] = topic_distribution\n",
    "\n",
    "for k,v in topic_distribution_dict.items():\n",
    "    print('cluster:',k, '- highest topic:',v.index(max(v)),'- percentage:' ,max(v))\n",
    "    print('\\n')"
   ]
  },
  {
   "cell_type": "code",
   "execution_count": 150,
   "metadata": {
    "collapsed": false
   },
   "outputs": [
    {
     "name": "stdout",
     "output_type": "stream",
     "text": [
      "Topic #0:\n",
      "machin machin learn kdnugget python data scienc news data prepar prepar algorithm analyt scienc machin scientist data scientist top stori top python librari librari data python librari softwar deep poll workflow scratch learn workflow workflow python\n",
      "\n",
      "Topic #1:\n",
      "visual think peopl design say stori storytel would ago present go look realli year game repli us differ lot show inform project principl much product\n",
      "\n",
      "Topic #2:\n",
      "chart jump hoop peopl jump hoop make peopl jump graphic bar plot kaiser junk peopl bar chart line reader junk chart design kaiser make gelman andrew gelman art map andrew dot label\n",
      "\n",
      "Topic #3:\n",
      "data scienc onlin research paper summer repli great data handler ryan intro berkeley paper undergradu earn syracus degre guidelin list new post theori notifi univers rank stat great scienc deep\n",
      "\n",
      "Topic #4:\n",
      "statist stat log chang use log log chang use repli cancel chang imag pingback timer input jqueri sampl click notifi new analysi notifi site via data analysi web imag use measur public\n",
      "\n",
      "Topic #5:\n",
      "network neural neural network deep deep learn layer train convolut imag input neuron output weight tensorflow convolut neural recurr gradient architectur net comput cnn machin hidden gener featur\n",
      "\n",
      "Topic #6:\n",
      "model variabl regress sampl predict linear valu train cluster statist distribut random test class algorithm plot paramet set observ bayesian probabl mean vector linear regress differ\n",
      "\n",
      "Topic #7:\n",
      "data scienc scienc central scientist data scientist analyt sign central true sign sign dashboard busi view true true param statist ga dsc famili member busi analyt keyword ms predict analyt add machin\n",
      "\n",
      "Topic #8:\n",
      "score give sql variabl predict mine prospect regress model predict model data mine predictor analyt gift text annual string acquisit non cool dan analyt predict engag plan correl\n",
      "\n",
      "Topic #9:\n",
      "big data big busi hadoop analyt cloud market newslett technolog process secur iot custom intellig video tool machin digit stream privaci enterpris system manag apach servic\n",
      "\n"
     ]
    }
   ],
   "source": [
    "print_top_words(nmf, feature_names, 25)"
   ]
  },
  {
   "cell_type": "code",
   "execution_count": 149,
   "metadata": {
    "collapsed": false
   },
   "outputs": [
    {
     "name": "stdout",
     "output_type": "stream",
     "text": [
      "For n_clusters = 10 The average silhouette_score is : 0.335608869572\n"
     ]
    },
    {
     "data": {
      "image/png": "[encoded data removed]",
      "text/plain": [
       "<matplotlib.figure.Figure at 0x7ff3755cecf8>"
      ]
     },
     "metadata": {},
     "output_type": "display_data"
    }
   ],
   "source": [
    "X = dropped_zeros_topic_data\n",
    "n_clusters = 10\n",
    "\n",
    "fig, (ax1) = plt.subplots(1, 1)\n",
    "fig.set_size_inches(18, 7)\n",
    "\n",
    "ax1.set_xlim([-0.1, 1])\n",
    "ax1.set_ylim([0, len(X) + (n_clusters + 1) * 10])\n",
    "\n",
    "KMclusterer = KMeans(n_clusters=n_clusters, random_state=10)\n",
    "cluster_labels = clusterer.fit_predict(X)\n",
    "\n",
    "silhouette_avg = silhouette_score(X, cluster_labels)\n",
    "print(\"For n_clusters =\", n_clusters,\n",
    "      \"The average silhouette_score is :\", silhouette_avg)\n",
    "\n",
    "sample_silhouette_values = silhouette_samples(X, cluster_labels)\n",
    "\n",
    "y_lower = 10\n",
    "for i in range(n_clusters):\n",
    "    ith_cluster_silhouette_values = \\\n",
    "        sample_silhouette_values[cluster_labels == i]\n",
    "\n",
    "    ith_cluster_silhouette_values.sort()\n",
    "\n",
    "    size_cluster_i = ith_cluster_silhouette_values.shape[0]\n",
    "    y_upper = y_lower + size_cluster_i\n",
    "\n",
    "    color = cm.spectral(float(i) / n_clusters)\n",
    "    ax1.fill_betweenx(np.arange(y_lower, y_upper),\n",
    "                  0, ith_cluster_silhouette_values,\n",
    "                  facecolor=color, edgecolor=color, alpha=0.7)\n",
    "\n",
    "    ax1.text(-0.05, y_lower + 0.5 * size_cluster_i, str(i))\n",
    "\n",
    "    y_lower = y_upper + 10  \n",
    "\n",
    "ax1.set_title(\"The silhouette plot for the various clusters.\")\n",
    "ax1.set_xlabel(\"The silhouette coefficient values\")\n",
    "ax1.set_ylabel(\"Cluster label\")\n",
    "\n",
    "ax1.axvline(x=silhouette_avg, color=\"red\", linestyle=\"--\")\n",
    "\n",
    "ax1.set_yticks([]) \n",
    "ax1.set_xticks([-0.1, 0, 0.2, 0.4, 0.6, 0.8, 1])\n",
    "\n",
    "plt.suptitle((\"Silhouette analysis for Agglomerative clustering on sample data \"\n",
    "          \"with n_clusters = %d\" % n_clusters),\n",
    "         fontsize=14, fontweight='bold');"
   ]
  },
  {
   "cell_type": "code",
   "execution_count": 214,
   "metadata": {
    "collapsed": false
   },
   "outputs": [
    {
     "name": "stdout",
     "output_type": "stream",
     "text": [
      "For n_clusters = 3 The average silhouette_score is : 0.301214963295\n",
      "For n_clusters = 4 The average silhouette_score is : 0.334623096772\n",
      "For n_clusters = 5 The average silhouette_score is : 0.279174683213\n",
      "For n_clusters = 6 The average silhouette_score is : 0.286965739641\n",
      "For n_clusters = 7 The average silhouette_score is : 0.287137500063\n",
      "For n_clusters = 8 The average silhouette_score is : 0.323359254644\n",
      "For n_clusters = 9 The average silhouette_score is : 0.304605242304\n",
      "For n_clusters = 10 The average silhouette_score is : 0.335608869572\n",
      "For n_clusters = 11 The average silhouette_score is : 0.319181769533\n",
      "For n_clusters = 12 The average silhouette_score is : 0.313650960471\n",
      "For n_clusters = 13 The average silhouette_score is : 0.299257237156\n",
      "For n_clusters = 14 The average silhouette_score is : 0.291061249952\n",
      "For n_clusters = 15 The average silhouette_score is : 0.270120864312\n",
      "For n_clusters = 16 The average silhouette_score is : 0.261796654224\n",
      "For n_clusters = 17 The average silhouette_score is : 0.264959907259\n",
      "For n_clusters = 18 The average silhouette_score is : 0.259170158438\n",
      "For n_clusters = 19 The average silhouette_score is : 0.252224466152\n",
      "For n_clusters = 20 The average silhouette_score is : 0.260809202052\n"
     ]
    }
   ],
   "source": [
    "for x in range(3,21):\n",
    "    n_clusters = x\n",
    "\n",
    "    agg = AgglomerativeClustering(n_clusters=n_clusters, affinity='cosine', linkage='average')\n",
    "\n",
    "    cluster_labels = agg.fit_predict(droped_zeros_topic_data)\n",
    "\n",
    "    silhouette_avg = silhouette_score(droped_zeros_topic_data, cluster_labels)\n",
    "    print(\"For n_clusters =\", n_clusters,\n",
    "          \"The average silhouette_score is :\", silhouette_avg)\n"
   ]
  },
  {
   "cell_type": "markdown",
   "metadata": {},
   "source": [
    "## Add cluster IDs to mongodb"
   ]
  },
  {
   "cell_type": "code",
   "execution_count": 10,
   "metadata": {
    "collapsed": true
   },
   "outputs": [],
   "source": [
    "df = pickle.load(open(\"labeled_df.p\",\"rb\"))"
   ]
  },
  {
   "cell_type": "code",
   "execution_count": 23,
   "metadata": {
    "collapsed": false
   },
   "outputs": [],
   "source": [
    "for x in range(len(df)):\n",
    "    col.update_one({'url':df.iloc[x,:]['url']},{'$set':{'cluster':int(df.iloc[x,:]['cluster'])}})"
   ]
  }
 ],
 "metadata": {
  "kernelspec": {
   "display_name": "Python 3",
   "language": "python",
   "name": "python3"
  },
  "language_info": {
   "codemirror_mode": {
    "name": "ipython",
    "version": 3
   },
   "file_extension": ".py",
   "mimetype": "text/x-python",
   "name": "python",
   "nbconvert_exporter": "python",
   "pygments_lexer": "ipython3",
   "version": "3.6.0"
  }
 },
 "nbformat": 4,
 "nbformat_minor": 2
}
